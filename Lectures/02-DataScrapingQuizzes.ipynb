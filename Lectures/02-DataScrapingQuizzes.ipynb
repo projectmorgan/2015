{
 "cells": [
  {
   "cell_type": "code",
   "execution_count": 1,
   "metadata": {
    "collapsed": false,
    "slideshow": {
     "slide_type": "skip"
    }
   },
   "outputs": [],
   "source": [
    "## all imports\n",
    "from IPython.display import HTML\n",
    "import numpy as np\n",
    "import urllib2\n",
    "import bs4 #this is beautiful soup\n",
    "import time\n",
    "import operator\n",
    "import socket\n",
    "import cPickle\n",
    "import re # regular expressions\n",
    "\n",
    "from pandas import Series\n",
    "import pandas as pd\n",
    "from pandas import DataFrame\n",
    "\n",
    "import matplotlib\n",
    "import matplotlib.pyplot as plt\n",
    "%matplotlib inline\n",
    "\n",
    "import seaborn as sns\n",
    "sns.set_context(\"talk\")\n",
    "sns.set_style(\"white\")"
   ]
  },
  {
   "cell_type": "markdown",
   "metadata": {
    "slideshow": {
     "slide_type": "skip"
    }
   },
   "source": [
    "API registrations\n",
    "=================\n",
    "\n",
    "If you would like to run all the examples in this notebook, you need to register for the following APIs:\n",
    "\n",
    "* Rotten Tomatoes\n",
    "\n",
    "http://developer.rottentomatoes.com/member/register\n",
    "\n",
    "* Twitter\n",
    "\n",
    "https://apps.twitter.com/app/new\n",
    "\n",
    "* Twitter instructions\n",
    "\n",
    "https://twittercommunity.com/t/how-to-get-my-api-key/7033"
   ]
  },
  {
   "cell_type": "markdown",
   "metadata": {
    "slideshow": {
     "slide_type": "slide"
    }
   },
   "source": [
    "CS109\n",
    "=====\n",
    "\n",
    "Verena Kaynig-Fittkau, Joe Blitzstein, Hanspeter Pfister\n",
    "\n",
    "* vkaynig@seas.harvard.edu\n",
    "* staff@cs109.org"
   ]
  },
  {
   "cell_type": "markdown",
   "metadata": {
    "slideshow": {
     "slide_type": "slide"
    }
   },
   "source": [
    "Announcements\n",
    "==============\n",
    "\n",
    "* Over 400 sign ups on github!\n",
    "* If you are still missing, fill out the survey, time is running out!\n",
    "* Make sure you are on Piazza!\n",
    "\n",
    "\n",
    "* More [git help](https://www.youtube.com/channel/UC0-KaiZFXBlGOFN71YsEV8g/videos)\n",
    "\n",
    "\n",
    "* HW0 is due on Thursday \n",
    "* HW1 is coming out on Thursday\n"
   ]
  },
  {
   "cell_type": "markdown",
   "metadata": {
    "slideshow": {
     "slide_type": "slide"
    }
   },
   "source": [
    "Todays lecture:\n",
    "===============\n",
    "\n",
    "* introduction to pandas\n",
    "    - read a table\n",
    "    - do some plots\n",
    "\n",
    "* all about data scraping\n",
    "* ***What is it? ***\n",
    "* How to do it:\n",
    "    - from a website\n",
    "    - with an API"
   ]
  },
  {
   "cell_type": "markdown",
   "metadata": {
    "slideshow": {
     "slide_type": "slide"
    }
   },
   "source": [
    "IPython Notebooks:\n",
    "===================\n",
    "\n",
    "![IPython](images/ipython.png \"IPython\")"
   ]
  },
  {
   "cell_type": "markdown",
   "metadata": {
    "collapsed": true,
    "slideshow": {
     "slide_type": "slide"
    }
   },
   "source": [
    "IPython Notebooks:\n",
    "===================\n",
    "\n",
    "* These slides are an IPython notebook!\n",
    "* https://github.com/damianavila/live_reveal"
   ]
  },
  {
   "cell_type": "code",
   "execution_count": 3,
   "metadata": {
    "collapsed": false
   },
   "outputs": [
    {
     "name": "stdout",
     "output_type": "stream",
     "text": [
      "Hello CS109\n",
      "I love IPython\n",
      "[ 0.  0.  0.]\n"
     ]
    }
   ],
   "source": [
    "print \"Hello CS109\"\n",
    "\n",
    "print \"I love IPython\"\n",
    "\n",
    "# Ipython notebook have tab completion!\n",
    "# and inbuild help\n",
    "  \n",
    "a = np.zeros(3)\n",
    "print a"
   ]
  },
  {
   "cell_type": "markdown",
   "metadata": {
    "slideshow": {
     "slide_type": "slide"
    }
   },
   "source": [
    "General advice about programming\n",
    "==================================\n",
    "\n",
    "* You will find nearly everything on google\n",
    "* Try: length of a list in python\n",
    "* A programmer is someone who can turn stack overflow snippets into running code\n",
    "* Use tab completion\n",
    "* Make your variable names meaningful\n"
   ]
  },
  {
   "cell_type": "markdown",
   "metadata": {
    "slideshow": {
     "slide_type": "slide"
    }
   },
   "source": [
    "How to load a table\n",
    "===================\n",
    "\n",
    "* we use Pandas for this\n",
    "* Pandas can do a __lot__ more\n",
    "* more about it later"
   ]
  },
  {
   "cell_type": "markdown",
   "metadata": {
    "slideshow": {
     "slide_type": "slide"
    }
   },
   "source": [
    "The MovieLens data\n",
    "===================\n",
    "\n",
    "http://grouplens.org/datasets/movielens/\n",
    "\n",
    "![Grouplens](images/grouplens.jpg \"Grouplens\")\n",
    "\n",
    "Example inspired by [Greg Reda](http://www.gregreda.com/2013/10/26/using-pandas-on-the-movielens-dataset/)"
   ]
  },
  {
   "cell_type": "markdown",
   "metadata": {
    "slideshow": {
     "slide_type": "slide"
    }
   },
   "source": [
    "Read the user data\n",
    "=================="
   ]
  },
  {
   "cell_type": "code",
   "execution_count": 4,
   "metadata": {
    "collapsed": false,
    "slideshow": {
     "slide_type": "-"
    }
   },
   "outputs": [
    {
     "data": {
      "text/html": [
       "<div>\n",
       "<table border=\"1\" class=\"dataframe\">\n",
       "  <thead>\n",
       "    <tr style=\"text-align: right;\">\n",
       "      <th></th>\n",
       "      <th>user_id</th>\n",
       "      <th>age</th>\n",
       "      <th>sex</th>\n",
       "      <th>occupation</th>\n",
       "      <th>zip_code</th>\n",
       "    </tr>\n",
       "  </thead>\n",
       "  <tbody>\n",
       "    <tr>\n",
       "      <th>0</th>\n",
       "      <td>1</td>\n",
       "      <td>24</td>\n",
       "      <td>M</td>\n",
       "      <td>technician</td>\n",
       "      <td>85711</td>\n",
       "    </tr>\n",
       "    <tr>\n",
       "      <th>1</th>\n",
       "      <td>2</td>\n",
       "      <td>53</td>\n",
       "      <td>F</td>\n",
       "      <td>other</td>\n",
       "      <td>94043</td>\n",
       "    </tr>\n",
       "    <tr>\n",
       "      <th>2</th>\n",
       "      <td>3</td>\n",
       "      <td>23</td>\n",
       "      <td>M</td>\n",
       "      <td>writer</td>\n",
       "      <td>32067</td>\n",
       "    </tr>\n",
       "    <tr>\n",
       "      <th>3</th>\n",
       "      <td>4</td>\n",
       "      <td>24</td>\n",
       "      <td>M</td>\n",
       "      <td>technician</td>\n",
       "      <td>43537</td>\n",
       "    </tr>\n",
       "    <tr>\n",
       "      <th>4</th>\n",
       "      <td>5</td>\n",
       "      <td>33</td>\n",
       "      <td>F</td>\n",
       "      <td>other</td>\n",
       "      <td>15213</td>\n",
       "    </tr>\n",
       "  </tbody>\n",
       "</table>\n",
       "</div>"
      ],
      "text/plain": [
       "   user_id  age sex  occupation zip_code\n",
       "0        1   24   M  technician    85711\n",
       "1        2   53   F       other    94043\n",
       "2        3   23   M      writer    32067\n",
       "3        4   24   M  technician    43537\n",
       "4        5   33   F       other    15213"
      ]
     },
     "execution_count": 4,
     "metadata": {},
     "output_type": "execute_result"
    }
   ],
   "source": [
    "# pass in column names for each CSV\n",
    "u_cols = ['user_id', 'age', 'sex', 'occupation', 'zip_code']\n",
    "\n",
    "users = pd.read_csv(\n",
    "    'http://files.grouplens.org/datasets/movielens/ml-100k/u.user', \n",
    "    sep='|', names=u_cols)\n",
    "\n",
    "users.head()"
   ]
  },
  {
   "cell_type": "markdown",
   "metadata": {
    "slideshow": {
     "slide_type": "slide"
    }
   },
   "source": [
    "Read the ratings\n",
    "============"
   ]
  },
  {
   "cell_type": "code",
   "execution_count": 5,
   "metadata": {
    "collapsed": false
   },
   "outputs": [
    {
     "data": {
      "text/html": [
       "<div>\n",
       "<table border=\"1\" class=\"dataframe\">\n",
       "  <thead>\n",
       "    <tr style=\"text-align: right;\">\n",
       "      <th></th>\n",
       "      <th>user_id</th>\n",
       "      <th>movie_id</th>\n",
       "      <th>rating</th>\n",
       "      <th>unix_timestamp</th>\n",
       "    </tr>\n",
       "  </thead>\n",
       "  <tbody>\n",
       "    <tr>\n",
       "      <th>0</th>\n",
       "      <td>196</td>\n",
       "      <td>242</td>\n",
       "      <td>3</td>\n",
       "      <td>881250949</td>\n",
       "    </tr>\n",
       "    <tr>\n",
       "      <th>1</th>\n",
       "      <td>186</td>\n",
       "      <td>302</td>\n",
       "      <td>3</td>\n",
       "      <td>891717742</td>\n",
       "    </tr>\n",
       "    <tr>\n",
       "      <th>2</th>\n",
       "      <td>22</td>\n",
       "      <td>377</td>\n",
       "      <td>1</td>\n",
       "      <td>878887116</td>\n",
       "    </tr>\n",
       "    <tr>\n",
       "      <th>3</th>\n",
       "      <td>244</td>\n",
       "      <td>51</td>\n",
       "      <td>2</td>\n",
       "      <td>880606923</td>\n",
       "    </tr>\n",
       "    <tr>\n",
       "      <th>4</th>\n",
       "      <td>166</td>\n",
       "      <td>346</td>\n",
       "      <td>1</td>\n",
       "      <td>886397596</td>\n",
       "    </tr>\n",
       "  </tbody>\n",
       "</table>\n",
       "</div>"
      ],
      "text/plain": [
       "   user_id  movie_id  rating  unix_timestamp\n",
       "0      196       242       3       881250949\n",
       "1      186       302       3       891717742\n",
       "2       22       377       1       878887116\n",
       "3      244        51       2       880606923\n",
       "4      166       346       1       886397596"
      ]
     },
     "execution_count": 5,
     "metadata": {},
     "output_type": "execute_result"
    }
   ],
   "source": [
    "r_cols = ['user_id', 'movie_id', 'rating', 'unix_timestamp']\n",
    "ratings = pd.read_csv(\n",
    "    'http://files.grouplens.org/datasets/movielens/ml-100k/u.data', \n",
    "    sep='\\t', names=r_cols)\n",
    "\n",
    "ratings.head() "
   ]
  },
  {
   "cell_type": "markdown",
   "metadata": {
    "slideshow": {
     "slide_type": "slide"
    }
   },
   "source": [
    "Now data about the movies\n",
    "========================="
   ]
  },
  {
   "cell_type": "code",
   "execution_count": 6,
   "metadata": {
    "collapsed": false
   },
   "outputs": [
    {
     "data": {
      "text/html": [
       "<div>\n",
       "<table border=\"1\" class=\"dataframe\">\n",
       "  <thead>\n",
       "    <tr style=\"text-align: right;\">\n",
       "      <th></th>\n",
       "      <th>movie_id</th>\n",
       "      <th>title</th>\n",
       "      <th>release_date</th>\n",
       "      <th>video_release_date</th>\n",
       "      <th>imdb_url</th>\n",
       "    </tr>\n",
       "  </thead>\n",
       "  <tbody>\n",
       "    <tr>\n",
       "      <th>0</th>\n",
       "      <td>1</td>\n",
       "      <td>Toy Story (1995)</td>\n",
       "      <td>01-Jan-1995</td>\n",
       "      <td>NaN</td>\n",
       "      <td>http://us.imdb.com/M/title-exact?Toy%20Story%2...</td>\n",
       "    </tr>\n",
       "    <tr>\n",
       "      <th>1</th>\n",
       "      <td>2</td>\n",
       "      <td>GoldenEye (1995)</td>\n",
       "      <td>01-Jan-1995</td>\n",
       "      <td>NaN</td>\n",
       "      <td>http://us.imdb.com/M/title-exact?GoldenEye%20(...</td>\n",
       "    </tr>\n",
       "    <tr>\n",
       "      <th>2</th>\n",
       "      <td>3</td>\n",
       "      <td>Four Rooms (1995)</td>\n",
       "      <td>01-Jan-1995</td>\n",
       "      <td>NaN</td>\n",
       "      <td>http://us.imdb.com/M/title-exact?Four%20Rooms%...</td>\n",
       "    </tr>\n",
       "    <tr>\n",
       "      <th>3</th>\n",
       "      <td>4</td>\n",
       "      <td>Get Shorty (1995)</td>\n",
       "      <td>01-Jan-1995</td>\n",
       "      <td>NaN</td>\n",
       "      <td>http://us.imdb.com/M/title-exact?Get%20Shorty%...</td>\n",
       "    </tr>\n",
       "    <tr>\n",
       "      <th>4</th>\n",
       "      <td>5</td>\n",
       "      <td>Copycat (1995)</td>\n",
       "      <td>01-Jan-1995</td>\n",
       "      <td>NaN</td>\n",
       "      <td>http://us.imdb.com/M/title-exact?Copycat%20(1995)</td>\n",
       "    </tr>\n",
       "  </tbody>\n",
       "</table>\n",
       "</div>"
      ],
      "text/plain": [
       "   movie_id              title release_date  video_release_date  \\\n",
       "0         1   Toy Story (1995)  01-Jan-1995                 NaN   \n",
       "1         2   GoldenEye (1995)  01-Jan-1995                 NaN   \n",
       "2         3  Four Rooms (1995)  01-Jan-1995                 NaN   \n",
       "3         4  Get Shorty (1995)  01-Jan-1995                 NaN   \n",
       "4         5     Copycat (1995)  01-Jan-1995                 NaN   \n",
       "\n",
       "                                            imdb_url  \n",
       "0  http://us.imdb.com/M/title-exact?Toy%20Story%2...  \n",
       "1  http://us.imdb.com/M/title-exact?GoldenEye%20(...  \n",
       "2  http://us.imdb.com/M/title-exact?Four%20Rooms%...  \n",
       "3  http://us.imdb.com/M/title-exact?Get%20Shorty%...  \n",
       "4  http://us.imdb.com/M/title-exact?Copycat%20(1995)  "
      ]
     },
     "execution_count": 6,
     "metadata": {},
     "output_type": "execute_result"
    }
   ],
   "source": [
    "# the movies file contains columns indicating the movie's genres\n",
    "# let's only load the first five columns of the file with usecols\n",
    "m_cols = ['movie_id', 'title', 'release_date', \n",
    "            'video_release_date', 'imdb_url']\n",
    "\n",
    "movies = pd.read_csv(\n",
    "    'http://files.grouplens.org/datasets/movielens/ml-100k/u.item', \n",
    "    sep='|', names=m_cols, usecols=range(5))\n",
    "\n",
    "movies.head()"
   ]
  },
  {
   "cell_type": "markdown",
   "metadata": {
    "slideshow": {
     "slide_type": "slide"
    }
   },
   "source": [
    "Get information about data\n",
    "======================="
   ]
  },
  {
   "cell_type": "code",
   "execution_count": 7,
   "metadata": {
    "collapsed": false
   },
   "outputs": [
    {
     "name": "stdout",
     "output_type": "stream",
     "text": [
      "movie_id                int64\n",
      "title                  object\n",
      "release_date           object\n",
      "video_release_date    float64\n",
      "imdb_url               object\n",
      "dtype: object\n",
      "\n",
      "          movie_id  video_release_date\n",
      "count  1682.000000                   0\n",
      "mean    841.500000                 NaN\n",
      "std     485.695893                 NaN\n",
      "min       1.000000                 NaN\n",
      "25%     421.250000                 NaN\n",
      "50%     841.500000                 NaN\n",
      "75%    1261.750000                 NaN\n",
      "max    1682.000000                 NaN\n"
     ]
    }
   ],
   "source": [
    "print movies.dtypes\n",
    "print\n",
    "print movies.describe()\n",
    "# *** Why only those two columns? ***"
   ]
  },
  {
   "cell_type": "markdown",
   "metadata": {
    "slideshow": {
     "slide_type": "slide"
    }
   },
   "source": [
    "Selecting data\n",
    "==============\n",
    "\n",
    "* DataFrame => group of Series with shared index\n",
    "* single DataFrame column => Series"
   ]
  },
  {
   "cell_type": "code",
   "execution_count": 10,
   "metadata": {
    "collapsed": false,
    "slideshow": {
     "slide_type": "slide"
    }
   },
   "outputs": [
    {
     "name": "stdout",
     "output_type": "stream",
     "text": [
      "0    technician\n",
      "1         other\n",
      "2        writer\n",
      "3    technician\n",
      "4         other\n",
      "Name: occupation, dtype: object\n",
      "   occupation sex\n",
      "0  technician   M\n",
      "1       other   F\n",
      "2      writer   M\n",
      "3  technician   M\n",
      "4       other   F\n",
      "   user_id  age sex  occupation zip_code\n",
      "0        1   24   M  technician    85711\n",
      "1        2   53   F       other    94043\n",
      "2        3   23   M      writer    32067\n",
      "3        4   24   M  technician    43537\n",
      "4        5   33   F       other    15213\n",
      "user_id                4\n",
      "age                   24\n",
      "sex                    M\n",
      "occupation    technician\n",
      "zip_code           43537\n",
      "Name: 3, dtype: object\n"
     ]
    }
   ],
   "source": [
    "users.head()\n",
    "print users['occupation'].head()\n",
    "## *** Where did the nice design go? ***\n",
    "columns_you_want = ['occupation', 'sex'] \n",
    "print users[columns_you_want].head()\n",
    "\n",
    "print users.head()\n",
    "\n",
    "print users.iloc[3] #iloc is integer indexing, could use loc if using labels"
   ]
  },
  {
   "cell_type": "markdown",
   "metadata": {
    "slideshow": {
     "slide_type": "slide"
    }
   },
   "source": [
    "Filtering data\n",
    "==============\n",
    "\n",
    "Select users older than 25"
   ]
  },
  {
   "cell_type": "code",
   "execution_count": 11,
   "metadata": {
    "collapsed": false
   },
   "outputs": [
    {
     "data": {
      "text/html": [
       "<div>\n",
       "<table border=\"1\" class=\"dataframe\">\n",
       "  <thead>\n",
       "    <tr style=\"text-align: right;\">\n",
       "      <th></th>\n",
       "      <th>user_id</th>\n",
       "      <th>age</th>\n",
       "      <th>sex</th>\n",
       "      <th>occupation</th>\n",
       "      <th>zip_code</th>\n",
       "    </tr>\n",
       "  </thead>\n",
       "  <tbody>\n",
       "    <tr>\n",
       "      <th>1</th>\n",
       "      <td>2</td>\n",
       "      <td>53</td>\n",
       "      <td>F</td>\n",
       "      <td>other</td>\n",
       "      <td>94043</td>\n",
       "    </tr>\n",
       "    <tr>\n",
       "      <th>4</th>\n",
       "      <td>5</td>\n",
       "      <td>33</td>\n",
       "      <td>F</td>\n",
       "      <td>other</td>\n",
       "      <td>15213</td>\n",
       "    </tr>\n",
       "    <tr>\n",
       "      <th>5</th>\n",
       "      <td>6</td>\n",
       "      <td>42</td>\n",
       "      <td>M</td>\n",
       "      <td>executive</td>\n",
       "      <td>98101</td>\n",
       "    </tr>\n",
       "    <tr>\n",
       "      <th>6</th>\n",
       "      <td>7</td>\n",
       "      <td>57</td>\n",
       "      <td>M</td>\n",
       "      <td>administrator</td>\n",
       "      <td>91344</td>\n",
       "    </tr>\n",
       "    <tr>\n",
       "      <th>7</th>\n",
       "      <td>8</td>\n",
       "      <td>36</td>\n",
       "      <td>M</td>\n",
       "      <td>administrator</td>\n",
       "      <td>05201</td>\n",
       "    </tr>\n",
       "  </tbody>\n",
       "</table>\n",
       "</div>"
      ],
      "text/plain": [
       "   user_id  age sex     occupation zip_code\n",
       "1        2   53   F          other    94043\n",
       "4        5   33   F          other    15213\n",
       "5        6   42   M      executive    98101\n",
       "6        7   57   M  administrator    91344\n",
       "7        8   36   M  administrator    05201"
      ]
     },
     "execution_count": 11,
     "metadata": {},
     "output_type": "execute_result"
    }
   ],
   "source": [
    "oldUsers = users[users.age > 25]\n",
    "oldUsers.head()"
   ]
  },
  {
   "cell_type": "markdown",
   "metadata": {
    "slideshow": {
     "slide_type": "slide"
    }
   },
   "source": [
    "Quiz:\n",
    "=====\n",
    "\n",
    "* show users aged 40 and male\n",
    "\n",
    "* show the mean age of female programmers"
   ]
  },
  {
   "cell_type": "code",
   "execution_count": 23,
   "metadata": {
    "collapsed": false,
    "slideshow": {
     "slide_type": "slide"
    }
   },
   "outputs": [
    {
     "data": {
      "text/html": [
       "<div>\n",
       "<table border=\"1\" class=\"dataframe\">\n",
       "  <thead>\n",
       "    <tr style=\"text-align: right;\">\n",
       "      <th></th>\n",
       "      <th>user_id</th>\n",
       "      <th>age</th>\n",
       "      <th>sex</th>\n",
       "      <th>occupation</th>\n",
       "      <th>zip_code</th>\n",
       "    </tr>\n",
       "  </thead>\n",
       "  <tbody>\n",
       "    <tr>\n",
       "      <th>5</th>\n",
       "      <td>6</td>\n",
       "      <td>42</td>\n",
       "      <td>M</td>\n",
       "      <td>executive</td>\n",
       "      <td>98101</td>\n",
       "    </tr>\n",
       "    <tr>\n",
       "      <th>6</th>\n",
       "      <td>7</td>\n",
       "      <td>57</td>\n",
       "      <td>M</td>\n",
       "      <td>administrator</td>\n",
       "      <td>91344</td>\n",
       "    </tr>\n",
       "    <tr>\n",
       "      <th>9</th>\n",
       "      <td>10</td>\n",
       "      <td>53</td>\n",
       "      <td>M</td>\n",
       "      <td>lawyer</td>\n",
       "      <td>90703</td>\n",
       "    </tr>\n",
       "    <tr>\n",
       "      <th>12</th>\n",
       "      <td>13</td>\n",
       "      <td>47</td>\n",
       "      <td>M</td>\n",
       "      <td>educator</td>\n",
       "      <td>29206</td>\n",
       "    </tr>\n",
       "    <tr>\n",
       "      <th>13</th>\n",
       "      <td>14</td>\n",
       "      <td>45</td>\n",
       "      <td>M</td>\n",
       "      <td>scientist</td>\n",
       "      <td>55106</td>\n",
       "    </tr>\n",
       "  </tbody>\n",
       "</table>\n",
       "</div>"
      ],
      "text/plain": [
       "    user_id  age sex     occupation zip_code\n",
       "5         6   42   M      executive    98101\n",
       "6         7   57   M  administrator    91344\n",
       "9        10   53   M         lawyer    90703\n",
       "12       13   47   M       educator    29206\n",
       "13       14   45   M      scientist    55106"
      ]
     },
     "execution_count": 23,
     "metadata": {},
     "output_type": "execute_result"
    }
   ],
   "source": [
    "# users aged 40 AND male\n",
    "# your code here\n",
    "oldguys = users[(users.age > 40) & (users['sex'] == 'M')]\n",
    "oldguys.head()\n"
   ]
  },
  {
   "cell_type": "code",
   "execution_count": 25,
   "metadata": {
    "collapsed": false,
    "slideshow": {
     "slide_type": "slide"
    }
   },
   "outputs": [
    {
     "name": "stdout",
     "output_type": "stream",
     "text": [
      "     user_id  age sex  occupation zip_code\n",
      "291      292   35   F  programmer    94703\n",
      "299      300   26   F  programmer    55106\n",
      "351      352   37   F  programmer    55105\n",
      "403      404   29   F  programmer    55108\n",
      "420      421   38   F  programmer    55105\n"
     ]
    },
    {
     "data": {
      "text/plain": [
       "32.166666666666664"
      ]
     },
     "execution_count": 25,
     "metadata": {},
     "output_type": "execute_result"
    }
   ],
   "source": [
    "## users who are female and programmers\n",
    "# your code here\n",
    "ladyBadAss = users[(users.occupation == 'programmer') & (users['sex'] == 'F')]\n",
    "print ladyBadAss.head()\n",
    "\n",
    "## show statistic summary or compute mean\n",
    "# your code here\n",
    "ladyBadAss.age.mean()"
   ]
  },
  {
   "cell_type": "markdown",
   "metadata": {
    "slideshow": {
     "slide_type": "slide"
    }
   },
   "source": [
    "Split-apply-combine\n",
    "===================\n",
    "\n",
    "* splitting the data into groups based on some criteria\n",
    "* applying a function to each group independently\n",
    "* combining the results into a data structure"
   ]
  },
  {
   "cell_type": "markdown",
   "metadata": {
    "slideshow": {
     "slide_type": "slide"
    }
   },
   "source": [
    "Split-apply-combine\n",
    "===================\n",
    "\n",
    "<img src=http://i.imgur.com/yjNkiwL.png></img>"
   ]
  },
  {
   "cell_type": "markdown",
   "metadata": {
    "slideshow": {
     "slide_type": "slide"
    }
   },
   "source": [
    "Find Diligent Users\n",
    "===================\n",
    "\n",
    "* split data per user ID\n",
    "* count ratings\n",
    "* combine result"
   ]
  },
  {
   "cell_type": "code",
   "execution_count": 83,
   "metadata": {
    "collapsed": false,
    "slideshow": {
     "slide_type": "slide"
    }
   },
   "outputs": [
    {
     "data": {
      "text/plain": [
       "user_id\n",
       "1    272\n",
       "2     62\n",
       "3     54\n",
       "4     24\n",
       "5    175\n",
       "Name: movie_id, dtype: int64"
      ]
     },
     "execution_count": 83,
     "metadata": {},
     "output_type": "execute_result"
    }
   ],
   "source": [
    "#ratings.head()\n",
    "## split data\n",
    "grouped_data = ratings.groupby('user_id') #this gives you too much info, need to pare down\n",
    "grouped_data = ratings['movie_id'].groupby(ratings['user_id'])\n",
    "grouped_data.head()\n",
    "## count and combine\n",
    "ratings_per_user = grouped_data.count()\n",
    "\n",
    "ratings_per_user.head(5)"
   ]
  },
  {
   "cell_type": "markdown",
   "metadata": {
    "slideshow": {
     "slide_type": "slide"
    }
   },
   "source": [
    "Quiz\n",
    "====\n",
    "\n",
    "* get the average rating per movie\n",
    "* advanced: get the movie titles with the highest average rating"
   ]
  },
  {
   "cell_type": "code",
   "execution_count": 39,
   "metadata": {
    "collapsed": false,
    "slideshow": {
     "slide_type": "slide"
    }
   },
   "outputs": [
    {
     "name": "stdout",
     "output_type": "stream",
     "text": [
      "movie_id\n",
      "814     5\n",
      "1122    5\n",
      "1189    5\n",
      "1201    5\n",
      "1293    5\n",
      "1467    5\n",
      "1500    5\n",
      "1536    5\n",
      "1599    5\n",
      "1653    5\n",
      "Name: rating, dtype: float64\n"
     ]
    }
   ],
   "source": [
    "## split data\n",
    "# \n",
    "ratings.head()\n",
    "rating_permovie = ratings['rating'].groupby(ratings['movie_id'])\n",
    "\n",
    "## average and combine\n",
    "avgratings_permovie = rating_permovie.mean()\n",
    "\n",
    "\n",
    "# get the maximum rating\n",
    "maxrating = avgratings_permovie.max()\n",
    "\n",
    "# get movie ids with that rating\n",
    "highrated = avgratings_permovie[avgratings_permovie == maxrating]\n"
   ]
  },
  {
   "cell_type": "code",
   "execution_count": 69,
   "metadata": {
    "collapsed": false,
    "slideshow": {
     "slide_type": "slide"
    }
   },
   "outputs": [
    {
     "name": "stdout",
     "output_type": "stream",
     "text": [
      "Good movie ids:\n",
      "[814, 1122, 1189, 1201, 1293, 1467, 1500, 1536, 1599, 1653]\n",
      "Best movie titles\n",
      "      movie_id                                              title  \\\n",
      "813        814                      Great Day in Harlem, A (1994)   \n",
      "1121      1122                     They Made Me a Criminal (1939)   \n",
      "1188      1189                                 Prefontaine (1997)   \n",
      "1200      1201         Marlene Dietrich: Shadow and Light (1996)    \n",
      "1292      1293                                    Star Kid (1997)   \n",
      "1466      1467               Saint of Fort Washington, The (1993)   \n",
      "1499      1500                          Santa with Muscles (1996)   \n",
      "1535      1536                               Aiqing wansui (1994)   \n",
      "1598      1599                      Someone Else's America (1995)   \n",
      "1652      1653  Entertaining Angels: The Dorothy Day Story (1996)   \n",
      "\n",
      "     release_date  video_release_date  \\\n",
      "813   01-Jan-1994                 NaN   \n",
      "1121  01-Jan-1939                 NaN   \n",
      "1188  24-Jan-1997                 NaN   \n",
      "1200  02-Apr-1996                 NaN   \n",
      "1292  16-Jan-1998                 NaN   \n",
      "1466  01-Jan-1993                 NaN   \n",
      "1499  08-Nov-1996                 NaN   \n",
      "1535  22-Jul-1996                 NaN   \n",
      "1598  10-May-1996                 NaN   \n",
      "1652  27-Sep-1996                 NaN   \n",
      "\n",
      "                                               imdb_url  \n",
      "813   http://us.imdb.com/M/title-exact?Great%20Day%2...  \n",
      "1121  http://us.imdb.com/M/title-exact?They%20Made%2...  \n",
      "1188  http://us.imdb.com/M/title-exact?Prefontaine%2...  \n",
      "1200  http://us.imdb.com/M/title-exact?Marlene%20Die...  \n",
      "1292  http://us.imdb.com/M/title-exact?imdb-title-12...  \n",
      "1466  http://us.imdb.com/M/title-exact?Saint%20of%20...  \n",
      "1499  http://us.imdb.com/M/title-exact?Santa%20with%...  \n",
      "1535  http://us.imdb.com/M/title-exact?Aiqing%20Wans...  \n",
      "1598  http://us.imdb.com/M/title-exact?Someone%20Els...  \n",
      "1652  http://us.imdb.com/M/title-exact?Entertaining%...  \n"
     ]
    }
   ],
   "source": [
    "print \"Good movie ids:\"\n",
    "bestlist = list(highrated.index)\n",
    "print bestlist\n",
    "\n",
    "\n",
    "bestlistIndex = [x-1 for x in bestlist];\n",
    "print \"Best movie titles\"\n",
    "goodID = movies.iloc[bestlistIndex];\n",
    "print goodID.title"
   ]
  },
  {
   "cell_type": "code",
   "execution_count": 71,
   "metadata": {
    "collapsed": false,
    "slideshow": {
     "slide_type": "slide"
    }
   },
   "outputs": [
    {
     "name": "stdout",
     "output_type": "stream",
     "text": [
      "Number of ratings per movie\n",
      "movie_id\n",
      "1       452\n",
      "2       131\n",
      "3        90\n",
      "4       209\n",
      "5        86\n",
      "6        26\n",
      "7       392\n",
      "8       219\n",
      "9       299\n",
      "10       89\n",
      "11      236\n",
      "12      267\n",
      "13      184\n",
      "14      183\n",
      "15      293\n",
      "16       39\n",
      "17       92\n",
      "18       10\n",
      "19       69\n",
      "20       72\n",
      "21       84\n",
      "22      297\n",
      "23      182\n",
      "24      174\n",
      "25      293\n",
      "26       73\n",
      "27       57\n",
      "28      276\n",
      "29      114\n",
      "30       37\n",
      "       ... \n",
      "1653      1\n",
      "1654      1\n",
      "1655      1\n",
      "1656      2\n",
      "1657      1\n",
      "1658      3\n",
      "1659      1\n",
      "1660      1\n",
      "1661      1\n",
      "1662      2\n",
      "1663      1\n",
      "1664      4\n",
      "1665      1\n",
      "1666      1\n",
      "1667      1\n",
      "1668      1\n",
      "1669      1\n",
      "1670      1\n",
      "1671      1\n",
      "1672      2\n",
      "1673      1\n",
      "1674      1\n",
      "1675      1\n",
      "1676      1\n",
      "1677      1\n",
      "1678      1\n",
      "1679      1\n",
      "1680      1\n",
      "1681      1\n",
      "1682      1\n",
      "Name: rating, dtype: int64\n"
     ]
    }
   ],
   "source": [
    "# get number of ratings per movie\n",
    "ratings_permovie = ratings['rating'].groupby(ratings['movie_id'])\n",
    "\n",
    "print \"Number of ratings per movie\"\n",
    "print  ratings_permovie.count()"
   ]
  },
  {
   "cell_type": "markdown",
   "metadata": {
    "slideshow": {
     "slide_type": "slide"
    }
   },
   "source": [
    "Passing a Function\n",
    "==================\n"
   ]
  },
  {
   "cell_type": "code",
   "execution_count": 84,
   "metadata": {
    "collapsed": false
   },
   "outputs": [
    {
     "data": {
      "text/plain": [
       "user_id\n",
       "1    136.500000\n",
       "2    249.500000\n",
       "3    318.814815\n",
       "4    291.041667\n",
       "5    291.291429\n",
       "dtype: float64"
      ]
     },
     "execution_count": 84,
     "metadata": {},
     "output_type": "execute_result"
    }
   ],
   "source": [
    "average_ratings = grouped_data.apply(lambda f: f.mean())\n",
    "#wtf is this lambda shit?\n",
    "#its an anonymous function that doesn't need def or return\n",
    "#now we're getting the average rating given by each user\n",
    "average_ratings.head()"
   ]
  },
  {
   "cell_type": "markdown",
   "metadata": {
    "slideshow": {
     "slide_type": "slide"
    }
   },
   "source": [
    "Quiz\n",
    "====\n",
    "\n",
    "* get the average rating per user\n",
    "* advanced: list all occupations and if they are male or female dominant"
   ]
  },
  {
   "cell_type": "code",
   "execution_count": 87,
   "metadata": {
    "collapsed": false,
    "slideshow": {
     "slide_type": "slide"
    }
   },
   "outputs": [],
   "source": [
    "# get the average rating per user\n",
    "ratings_byuser = ratings['rating'].groupby(ratings['user_id']);\n",
    "ratings_byuser = ratings_byuser.apply(lambda f: f.mean())"
   ]
  },
  {
   "cell_type": "code",
   "execution_count": 93,
   "metadata": {
    "collapsed": false,
    "slideshow": {
     "slide_type": "slide"
    }
   },
   "outputs": [
    {
     "data": {
      "text/plain": [
       "occupation      \n",
       "administrator  M     43\n",
       "               F     36\n",
       "artist         M     15\n",
       "               F     13\n",
       "doctor         M      7\n",
       "educator       M     69\n",
       "               F     26\n",
       "engineer       M     65\n",
       "               F      2\n",
       "entertainment  M     16\n",
       "               F      2\n",
       "executive      M     29\n",
       "               F      3\n",
       "healthcare     F     11\n",
       "               M      5\n",
       "homemaker      F      6\n",
       "               M      1\n",
       "lawyer         M     10\n",
       "               F      2\n",
       "librarian      F     29\n",
       "               M     22\n",
       "marketing      M     16\n",
       "               F     10\n",
       "none           M      5\n",
       "               F      4\n",
       "other          M     69\n",
       "               F     36\n",
       "programmer     M     60\n",
       "               F      6\n",
       "retired        M     13\n",
       "               F      1\n",
       "salesman       M      9\n",
       "               F      3\n",
       "scientist      M     28\n",
       "               F      3\n",
       "student        M    136\n",
       "               F     60\n",
       "technician     M     26\n",
       "               F      1\n",
       "writer         M     26\n",
       "               F     19\n",
       "dtype: int64"
      ]
     },
     "execution_count": 93,
     "metadata": {},
     "output_type": "execute_result"
    }
   ],
   "source": [
    "# list all occupations and if they are male or female dominant\n",
    "users_byjob = users.groupby(users.occupation);\n",
    "users_byjob.sex.value_counts()"
   ]
  },
  {
   "cell_type": "code",
   "execution_count": null,
   "metadata": {
    "collapsed": false,
    "slideshow": {
     "slide_type": "slide"
    }
   },
   "outputs": [],
   "source": [
    "print 'number of male users: '\n",
    "print sum(users['sex'] == 'M')\n",
    "\n",
    "print 'number of female users: '\n",
    "print sum(users['sex'] == 'F')"
   ]
  },
  {
   "cell_type": "markdown",
   "metadata": {
    "slideshow": {
     "slide_type": "slide"
    }
   },
   "source": [
    "Pandas \"wrapup\"\n",
    "==========\n",
    "\n",
    "- create data frames\n",
    "- get sub-frames\n",
    "- filter data \n",
    "- use group-by\n",
    "- apply a user defined function\n",
    "\n",
    "\n",
    "![cute panda](images/cute_panda.jpg)"
   ]
  },
  {
   "cell_type": "markdown",
   "metadata": {
    "slideshow": {
     "slide_type": "slide"
    }
   },
   "source": [
    "Python data scraping\n",
    "====================\n",
    "\n",
    "* Why scrape the web?\n",
    "    - vast source of information\n",
    "    - automate tasks\n",
    "    - keep up with sites\n",
    "    - fun!\n",
    "\n",
    "** Can you think of examples ? **"
   ]
  },
  {
   "cell_type": "markdown",
   "metadata": {
    "slideshow": {
     "slide_type": "slide"
    }
   },
   "source": [
    "Read and Tweet!\n",
    "=================\n",
    "\n",
    "![ReadTweet](http://developer.nytimes.com/files/readtweet.jpg)\n",
    "\n",
    "* by Justin Blinder\n",
    "* http://projects.justinblinder.com/We-Read-We-Tweet"
   ]
  },
  {
   "cell_type": "markdown",
   "metadata": {
    "slideshow": {
     "slide_type": "skip"
    }
   },
   "source": [
    "“We Read, We Tweet” geographically visualizes the dissemination of New York Times articles through Twitter. Each line connects the location of a tweet to the contextual location of the New York Times article it referenced. The lines are generated in a sequence based on the time in which a tweet occurs. The project explores digital news distribution in a temporal and spatial context through the social space of Twitter."
   ]
  },
  {
   "cell_type": "markdown",
   "metadata": {
    "slideshow": {
     "slide_type": "slide"
    }
   },
   "source": [
    "Twitter Sentiments\n",
    "=================\n",
    "\n",
    "![TwitterSentiments](http://www.csc.ncsu.edu/faculty/healey/tweet_viz/figs/tweet-viz-ex.png\n",
    " \"Twitter Sentiments\")\n",
    "\n",
    "* by Healey and Ramaswamy\n",
    "* http://www.csc.ncsu.edu/faculty/healey/tweet_viz/tweet_app/"
   ]
  },
  {
   "cell_type": "markdown",
   "metadata": {
    "slideshow": {
     "slide_type": "skip"
    }
   },
   "source": [
    "Type a keyword into the input field, then click the Query button. Recent tweets that contain your keyword are pulled from Twitter and visualized in the Sentiment tab as circles. Hover your mouse over a tweet or click on it to see its text."
   ]
  },
  {
   "cell_type": "markdown",
   "metadata": {
    "slideshow": {
     "slide_type": "slide"
    }
   },
   "source": [
    "Python data scraping\n",
    "====================\n",
    "\n",
    "* copyrights and permission:\n",
    "    - be careful and polite\n",
    "    - give credit\n",
    "    - care about media law\n",
    "    - don't be evil (no spam, overloading sites, etc.)"
   ]
  },
  {
   "cell_type": "markdown",
   "metadata": {
    "slideshow": {
     "slide_type": "slide"
    }
   },
   "source": [
    "Robots.txt\n",
    "==========\n",
    "\n",
    "![Robots.txt](images/robots_txt.jpg \"Robots.txt\")"
   ]
  },
  {
   "cell_type": "markdown",
   "metadata": {
    "slideshow": {
     "slide_type": "slide"
    }
   },
   "source": [
    "Robots.txt\n",
    "==========\n",
    "\n",
    "* specified by web site owner\n",
    "* gives instructions to web robots (aka your script)\n",
    "* is located at the top-level directory of the web server\n",
    "\n",
    "http://www.example.com/robots.txt\n",
    "\n",
    "If you want you can also have a look at\n",
    "\n",
    "http://google.com/robots.txt"
   ]
  },
  {
   "cell_type": "markdown",
   "metadata": {
    "slideshow": {
     "slide_type": "slide"
    }
   },
   "source": [
    "Robots.txt\n",
    "==========\n",
    "\n",
    "*** What does this one do? ***"
   ]
  },
  {
   "cell_type": "raw",
   "metadata": {},
   "source": [
    "\n",
    "User-agent: Google\n",
    "Disallow:\n",
    "\n",
    "User-agent: *\n",
    "Disallow: /"
   ]
  },
  {
   "cell_type": "markdown",
   "metadata": {
    "slideshow": {
     "slide_type": "slide"
    }
   },
   "source": [
    "Things to consider:\n",
    "-------------------\n",
    "\n",
    "* can be just ignored\n",
    "* can be a security risk - *** Why? ***"
   ]
  },
  {
   "cell_type": "markdown",
   "metadata": {
    "slideshow": {
     "slide_type": "slide"
    }
   },
   "source": [
    "Scraping with Python:\n",
    "=====================\n",
    "\n",
    "* scraping is all about HTML tags\n",
    "* bad news: \n",
    "    - need to learn about tags\n",
    "    - websites can be ugly"
   ]
  },
  {
   "cell_type": "markdown",
   "metadata": {
    "slideshow": {
     "slide_type": "slide"
    }
   },
   "source": [
    "HTML\n",
    "=====\n",
    "\n",
    "* HyperText Markup Language\n",
    "\n",
    "* standard for creating webpages\n",
    "\n",
    "* HTML tags \n",
    "    - have angle brackets\n",
    "    - typically come in pairs"
   ]
  },
  {
   "cell_type": "markdown",
   "metadata": {
    "slideshow": {
     "slide_type": "skip"
    }
   },
   "source": [
    "This is an example for a minimal webpage defined in HTML tags. The root tag is `<html>` and then you have the `<head>` tag. This part of the page typically includes the title of the page and might also have other meta information like the author or keywords that are important for search engines. The `<body>` tag marks the actual content of the page. You can play around with the `<h2>` tag trying different header levels. They range from 1 to 6. "
   ]
  },
  {
   "cell_type": "code",
   "execution_count": 94,
   "metadata": {
    "collapsed": false,
    "slideshow": {
     "slide_type": "slide"
    }
   },
   "outputs": [
    {
     "data": {
      "text/html": [
       "<!DOCTYPE html>\n",
       "<html>\n",
       "  <head>\n",
       "    <title>This is a title</title>\n",
       "  </head>\n",
       "  <body>\n",
       "    <h2> Test </h2>\n",
       "    <p>Hello world!</p>\n",
       "  </body>\n",
       "</html>"
      ],
      "text/plain": [
       "<IPython.core.display.HTML object>"
      ]
     },
     "execution_count": 94,
     "metadata": {},
     "output_type": "execute_result"
    }
   ],
   "source": [
    "htmlString = \"\"\"<!DOCTYPE html>\n",
    "<html>\n",
    "  <head>\n",
    "    <title>This is a title</title>\n",
    "  </head>\n",
    "  <body>\n",
    "    <h2> Test </h2>\n",
    "    <p>Hello world!</p>\n",
    "  </body>\n",
    "</html>\"\"\"\n",
    "\n",
    "htmlOutput = HTML(htmlString)\n",
    "htmlOutput"
   ]
  },
  {
   "cell_type": "markdown",
   "metadata": {
    "slideshow": {
     "slide_type": "slide"
    }
   },
   "source": [
    "Useful Tags\n",
    "===========\n",
    "\n",
    "* heading\n",
    "`<h1></h1> ... <h6></h6>`\n",
    "\n",
    "* paragraph\n",
    "`<p></p>` \n",
    "\n",
    "* line break\n",
    "`<br>` \n",
    "\n",
    "* link with attribute\n",
    "\n",
    "`<a href=\"http://www.example.com/\">An example link</a>`\n"
   ]
  },
  {
   "cell_type": "markdown",
   "metadata": {
    "slideshow": {
     "slide_type": "slide"
    }
   },
   "source": [
    "Scraping with Python:\n",
    "=====================\n",
    "\n",
    "* example of a beautifully simple webpage:\n",
    "\n",
    "http://www.crummy.com/software/BeautifulSoup"
   ]
  },
  {
   "cell_type": "markdown",
   "metadata": {
    "slideshow": {
     "slide_type": "slide"
    }
   },
   "source": [
    "Scraping with Python:\n",
    "=====================\n",
    "\n",
    "* good news: \n",
    "    - some browsers help\n",
    "    - look for: inspect element\n",
    "    - need only basic html\n",
    "    \n",
    "** Try 'Ctrl-Shift I' in Chrome **\n",
    "\n",
    "** Try 'Command-Option I' in Safari **\n"
   ]
  },
  {
   "cell_type": "markdown",
   "metadata": {
    "slideshow": {
     "slide_type": "slide"
    }
   },
   "source": [
    "Scraping with Python\n",
    "==================\n",
    "\n",
    "* different useful libraries:\n",
    "    - urllib\n",
    "    - beautifulsoup\n",
    "    - pattern\n",
    "    - soupy\n",
    "    - LXML\n",
    "    - ...\n",
    "    "
   ]
  },
  {
   "cell_type": "markdown",
   "metadata": {
    "slideshow": {
     "slide_type": "skip"
    }
   },
   "source": [
    "The following cell just defines a url as a string and then reads the data from that url using the `urllib` library. If you uncomment the print command you see that we got the whole HTML content of the page into the string variable source."
   ]
  },
  {
   "cell_type": "code",
   "execution_count": 95,
   "metadata": {
    "collapsed": false,
    "slideshow": {
     "slide_type": "slide"
    }
   },
   "outputs": [
    {
     "name": "stdout",
     "output_type": "stream",
     "text": [
      "<!DOCTYPE HTML PUBLIC \"-//W3C//DTD HTML 4.0 Transitional//EN\"\n",
      "\"http://www.w3.org/TR/REC-html40/transitional.dtd\">\n",
      "<html>\n",
      "<head>\n",
      "<meta http-equiv=\"Content-Type\" content=\"text/html; charset=utf-8\">\n",
      "<title>Beautiful Soup: We called him Tortoise because he taught us.</title>\n",
      "<link rev=\"made\" href=\"mailto:leonardr@segfault.org\">\n",
      "<link rel=\"stylesheet\" type=\"text/css\" href=\"/nb/themes/Default/nb.css\">\n",
      "<meta name=\"Description\" content=\"Beautiful Soup: a library designed for screen-scraping HTML and XML.\">\n",
      "<meta name=\"generator\" content=\"Markov Approximation 1.4 (module: leonardr)\">\n",
      "<meta name=\"author\" content=\"Leonard Richardson\">\n",
      "</head>\n",
      "<body bgcolor=\"white\" text=\"black\" link=\"blue\" vlink=\"660066\" alink=\"red\">\n",
      "<img align=\"right\" src=\"10.1.jpg\" width=\"250\"><br />\n",
      "\n",
      "<p>You didn't write that awful page. You're just trying to get some\n",
      "data out of it. Beautiful Soup is here to help. Since 2004, it's been\n",
      "saving programmers hours or days of work on quick-turnaround\n",
      "screen scraping projects.</p>\n",
      "\n",
      "<div align=\"center\">\n",
      "\n",
      "<a href=\"bs4/download/\"><h1>Beautiful Soup</h1></a>\n",
      "\n",
      "<p>\"A tremendous boon.\" -- Python411 Podcast</p>\n",
      "\n",
      "<p>[ <a href=\"#Download\">Download</a> | <a\n",
      "href=\"bs4/doc/\">Documentation</a> | <a href=\"#HallOfFame\">Hall of Fame</a> | <a href=\"https://code.launchpad.net/beautifulsoup\">Source</a> | <a href=\"https://groups.google.com/forum/?fromgroups#!forum/beautifulsoup\">Discussion group</a> ]</p>\n",
      "\n",
      "<small>If Beautiful Soup has saved you a lot of time and money, the\n",
      "best way to pay me back is to check out <a\n",
      "href=\"http://www.candlemarkandgleam.com/shop/constellation-games/\"><i>Constellation\n",
      "Games</i>, my sci-fi novel about alien video games</a>.<br />You can\n",
      "<a\n",
      "href=\"http://constellation.crummy.com/Constellation%20Games%20excerpt.html\">read\n",
      "the first two chapters for free</a>, and the full novel starts at 5\n",
      "USD. Thanks!</small> </div>\n",
      "\n",
      "<p><i>If you have questions, send them to <a\n",
      "href=\"https://groups.google.com/forum/?fromgroups#!forum/beautifulsoup\">the discussion\n",
      "group</a>. If you find a bug, <a href=\"https://bugs.launchpad.net/beautifulsoup/\">file it</a>.</i></p>\n",
      "\n",
      "<p>Beautiful Soup is a Python library designed for quick turnaround\n",
      "projects like screen-scraping. Three features make it powerful:\n",
      "\n",
      "<ol>\n",
      "\n",
      "<li>Beautiful Soup provides a few simple methods and Pythonic idioms\n",
      "for navigating, searching, and modifying a parse tree: a toolkit for\n",
      "dissecting a document and extracting what you need. It doesn't take\n",
      "much code to write an application\n",
      "\n",
      "<li>Beautiful Soup automatically converts incoming documents to\n",
      "Unicode and outgoing documents to UTF-8. You don't have to think\n",
      "about encodings, unless the document doesn't specify an encoding and\n",
      "Beautiful Soup can't detect one. Then you just have to specify the\n",
      "original encoding.\n",
      "\n",
      "<li>Beautiful Soup sits on top of popular Python parsers like <a\n",
      "href=\"http://lxml.de/\">lxml</a> and <a\n",
      "href=\"http://code.google.com/p/html5lib/\">html5lib</a>, allowing you\n",
      "to try out different parsing strategies or trade speed for\n",
      "flexibility.\n",
      "\n",
      "</ol>\n",
      "\n",
      "<p>Beautiful Soup parses anything you give it, and does the tree\n",
      "traversal stuff for you. You can tell it \"Find all the links\", or\n",
      "\"Find all the links of class <tt>externalLink</tt>\", or \"Find all the\n",
      "links whose urls match \"foo.com\", or \"Find the table heading that's\n",
      "got bold text, then give me that text.\"\n",
      "\n",
      "<p>Valuable data that was once locked up in poorly-designed websites\n",
      "is now within your reach. Projects that would have taken hours take\n",
      "only minutes with Beautiful Soup.\n",
      "\n",
      "<p>Interested? <a href=\"bs4/doc/\">Read more.</a>\n",
      "\n",
      "<a name=\"Download\"><h2>Download Beautiful Soup</h2></a>\n",
      "\n",
      "<p>The current release is <a href=\"bs4/download/\">Beautiful Soup\n",
      "4.4.0</a> (July 3, 2015). You can install Beautiful Soup 4 with\n",
      "<code>pip install beautifulsoup4</code>. It's also available as the\n",
      "<code>python-beautifulsoup4</code> package in recent versions of\n",
      "Debian, Ubuntu, and Fedora .\n",
      "\n",
      "<p>Beautiful Soup 4 works on both Python 2 (2.6+) and Python 3.\n",
      "\n",
      "<p>Beautiful Soup is licensed under the MIT license, so you can also\n",
      "download the tarball, drop the <code>bs4/</code> directory into almost\n",
      "any Python application (or into your library path) and start using it\n",
      "immediately. (If you want to do this under Python 3, you will need to\n",
      "manually convert the code using <code>2to3</code>.)\n",
      "\n",
      "<h3>Beautiful Soup 3</h3>\n",
      "\n",
      "<p>Beautiful Soup 3 was the official release line of Beautiful Soup\n",
      "from May 2006 to March 2012. It is considered stable, and only\n",
      "critical bugs will be fixed. <a\n",
      "href=\"http://www.crummy.com/software/BeautifulSoup/bs3/documentation.html\">Here's\n",
      "the Beautiful Soup 3 documentation.</a>\n",
      "\n",
      "<p>Beautiful Soup 3 works only under Python 2.x. It is licensed under\n",
      "the same license as Python itself.\n",
      "\n",
      "<p>The current release of Beautiful Soup 3 is <a\n",
      "href=\"download/3.x/BeautifulSoup-3.2.1.tar.gz\">3.2.1</a> (February 16,\n",
      "2012). You can install Beautiful Soup 3 with <code>pip install\n",
      "BeautifulSoup</code>. It's also available as\n",
      "<code>python-beautifulsoup</code> in Debian and Ubuntu, and as\n",
      "<code>python-BeautifulSoup</code> in Fedora.\n",
      "\n",
      "<p>You can also download the tarball and use\n",
      "<code>BeautifulSoup.py</code> in your project directly.\n",
      "\n",
      "\n",
      "<a name=\"HallOfFame\"><h2>Hall of Fame</h2></a>\n",
      "\n",
      "<p>Over the years, Beautiful Soup has been used in hundreds of\n",
      "different projects. There's no way I can list them all, but I want to\n",
      "highlight a few high-profile projects. Beautiful Soup isn't what makes\n",
      "these projects interesting, but it did make their completion easier:\n",
      "\n",
      "<ul>\n",
      "\n",
      "<li><a\n",
      " href=\"http://www.nytimes.com/2007/10/25/arts/design/25vide.html\">\"Movable\n",
      " Type\"</a>, a work of digital art on display in the lobby of the New\n",
      " York Times building, uses Beautiful Soup to scrape news feeds.\n",
      "\n",
      "<li>Reddit uses Beautiful Soup to <a\n",
      "href=\"https://github.com/reddit/reddit/blob/85f9cff3e2ab9bb8f19b96acd8da4ebacc079f04/r2/r2/lib/media.py\">parse\n",
      "a page that's been linked to and find a representative image</a>.\n",
      "\n",
      "<li>Alexander Harrowell uses Beautiful Soup to <a\n",
      " href=\"http://www.harrowell.org.uk/viktormap.html\">track the business\n",
      " activities</a> of an arms merchant.\n",
      "\n",
      "<li>The developers of Python itself used Beautiful Soup to <a\n",
      "href=\"http://svn.python.org/view/tracker/importer/\">migrate the Python\n",
      "bug tracker from Sourceforge to Roundup</a>.\n",
      "\n",
      "<li>The <a href=\"http://www2.ljworld.com/\">Lawrence Journal-World</a>\n",
      "uses Beautiful Soup to <A\n",
      "href=\"http://www.b-list.org/weblog/2010/nov/02/news-done-broke/\">gather\n",
      "statewide election results</a>.\n",
      "\n",
      "<li>The <a href=\"http://esrl.noaa.gov/gsd/fab/\">NOAA's Forecast\n",
      "Applications Branch</a> uses Beautiful Soup in <a\n",
      "href=\"http://laps.noaa.gov/topograbber/\">TopoGrabber</a>, a script for\n",
      "downloading \"high resolution USGS datasets.\"\n",
      "\n",
      "</ul>\n",
      "\n",
      "<p>If you've used Beautiful Soup in a project you'd like me to know\n",
      "about, please do send email to me or <a\n",
      "href=\"http://groups.google.com/group/beautifulsoup/\">the discussion\n",
      "group</a>.\n",
      "\n",
      "<h2>Development</h2>\n",
      "\n",
      "<p>Development happens at <a\n",
      "href=\"https://launchpad.net/beautifulsoup\">Launchpad</a>. You can <a\n",
      "href=\"https://code.launchpad.net/beautifulsoup/\">get the source\n",
      "code</a> or <a href=\"https://bugs.launchpad.net/beautifulsoup/\">file\n",
      "bugs</a>.<hr><table><tr><td valign=\"top\">\n",
      "<p>This document (<a href=\"/source/software/BeautifulSoup/index.bhtml\">source</a>) is part of Crummy, the webspace of <a href=\"/self/\">Leonard Richardson</a> (<a href=\"/self/contact.html\">contact information</a>). It was last modified on Friday, July 03 2015, 15:38:09 Nowhere Standard Time and last built on Wednesday, September 09 2015, 01:00:01 Nowhere Standard Time.</p><p><table class=\"licenseText\"><tr><td><a href=\"http://creativecommons.org/licenses/by-sa/2.0/\"><img border=\"0\" src=\"/nb//resources/img/somerights20.jpg\"></a></td><td valign=\"top\">Crummy is &copy; 1996-2015 Leonard Richardson. Unless otherwise noted, all text licensed under a <a href=\"http://creativecommons.org/licenses/by-sa/2.0/\">Creative Commons License</a>.</td></tr></table></span><!--<rdf:RDF xmlns=\"http://web.resource.org/cc/\" xmlns:dc=\"http://purl.org/dc/elements/1.1/\" xmlns:rdf=\"http://www.w3.org/1999/02/22-rdf-syntax-ns#\"><Work rdf:about=\"http://www.crummy.com/\"><dc:title>Crummy: The Site</dc:title><dc:rights><Agent><dc:title>Crummy: the Site</dc:title></Agent></dc:rights><dc:format>text/html</dc:format><license rdf:resource=http://creativecommons.org/licenses/by-sa/2.0//></Work><License rdf:about=\"http://creativecommons.org/licenses/by-sa/2.0/\"></License></rdf:RDF>--></p></td><td valign=top><p><b>Document tree:</b>\n",
      "<dl><dd><a href=\"http://www.crummy.com/\">http://www.crummy.com/</a><dl><dd><a href=\"http://www.crummy.com/software/\">software/</a><dl><dd><a href=\"http://www.crummy.com/software/BeautifulSoup/\">BeautifulSoup/</a></dl>\n",
      "</dl>\n",
      "</dl>\n",
      "\n",
      "\n",
      "Site Search:\n",
      "\n",
      "<form method=\"get\" action=\"/search/\">\n",
      "        <input type=\"text\" name=\"q\" maxlength=\"255\" value=\"\"></input>\n",
      "        </form>\n",
      "        </td>\n",
      "\n",
      "</tr>\n",
      "\n",
      "</table>\n",
      "</body>\n",
      "</html>\n",
      "\n"
     ]
    }
   ],
   "source": [
    "url = 'http://www.crummy.com/software/BeautifulSoup'\n",
    "source = urllib2.urlopen(url).read()\n",
    "print source"
   ]
  },
  {
   "cell_type": "markdown",
   "metadata": {
    "slideshow": {
     "slide_type": "slide"
    }
   },
   "source": [
    "Quiz :\n",
    "======\n",
    "\n",
    "* Is the word 'Alice' mentioned on the beautiful soup homepage?\n",
    "* How often does the word 'Soup' occur on the site?\n",
    "    - hint: use `.count()`\n",
    "* At what index occurs the substring 'alien video games' ?\n",
    "    - hint: use `.find()`"
   ]
  },
  {
   "cell_type": "code",
   "execution_count": 101,
   "metadata": {
    "collapsed": false,
    "slideshow": {
     "slide_type": "slide"
    }
   },
   "outputs": [
    {
     "name": "stdout",
     "output_type": "stream",
     "text": [
      "-1\n",
      "41\n",
      "1639\n"
     ]
    }
   ],
   "source": [
    "## is 'Alice' in source?\n",
    "print source.find('Alice')\n",
    "##notice the parentheses instead of brackets!\n",
    "##this syntax works for finding words or phrases, not html tags.\n",
    "\n",
    "## count occurences of 'Soup'\n",
    "print source.count('Soup')\n",
    "\n",
    "## find index of 'alien video games'\n",
    "print source.index('alien video games')\n",
    "#.find also works"
   ]
  },
  {
   "cell_type": "markdown",
   "metadata": {
    "slideshow": {
     "slide_type": "slide"
    }
   },
   "source": [
    "Beautiful Soup\n",
    "==============\n",
    "\n",
    "* designed to make your life easier\n",
    "* many good functions for parsing html code"
   ]
  },
  {
   "cell_type": "markdown",
   "metadata": {
    "slideshow": {
     "slide_type": "slide"
    }
   },
   "source": [
    "Some examples\n",
    "=============\n"
   ]
  },
  {
   "cell_type": "code",
   "execution_count": 104,
   "metadata": {
    "collapsed": false
   },
   "outputs": [
    {
     "data": {
      "text/plain": [
       "[]"
      ]
     },
     "execution_count": 104,
     "metadata": {},
     "output_type": "execute_result"
    }
   ],
   "source": [
    "## get bs4 object\n",
    "soup = bs4.BeautifulSoup(source)\n",
    " \n",
    "## compare the two print statements\n",
    "#print soup\n",
    "#print soup.prettify()\n",
    "#the second does awesome indentation to make it all readable and parseable\n",
    "\n",
    "## show how to find all a tags\n",
    "soup.findAll('a')\n",
    "\n",
    "## ***Why does this not work? ***\n",
    "soup.findAll('Soup')\n",
    "#soup is not an html attribute?"
   ]
  },
  {
   "cell_type": "markdown",
   "metadata": {
    "slideshow": {
     "slide_type": "slide"
    }
   },
   "source": [
    "Some examples\n",
    "============="
   ]
  },
  {
   "cell_type": "code",
   "execution_count": 106,
   "metadata": {
    "collapsed": false
   },
   "outputs": [
    {
     "data": {
      "text/plain": [
       "'bs4/download/'"
      ]
     },
     "execution_count": 106,
     "metadata": {},
     "output_type": "execute_result"
    }
   ],
   "source": [
    "## get attribute value from an element:\n",
    "## find tag: this only returns the first occurrence, not all tags in the string\n",
    "first_tag = soup.find('a')\n",
    "\n",
    "## get attribute `href`\n",
    "first_tag.get('href')\n",
    "\n",
    "## get all links in the page\n",
    "#.find just gets the first, .findAll gets all of them!\n",
    "#iterate over a list of links\n",
    "link_list = [l.get('href') for l in soup.findAll('a')]\n",
    "link_list"
   ]
  },
  {
   "cell_type": "code",
   "execution_count": 107,
   "metadata": {
    "collapsed": false,
    "slideshow": {
     "slide_type": "slide"
    }
   },
   "outputs": [
    {
     "ename": "TypeError",
     "evalue": "'NoneType' object has no attribute '__getitem__'",
     "output_type": "error",
     "traceback": [
      "\u001b[0;31m---------------------------------------------------------------------------\u001b[0m",
      "\u001b[0;31mTypeError\u001b[0m                                 Traceback (most recent call last)",
      "\u001b[0;32m<ipython-input-107-db28b6c7151c>\u001b[0m in \u001b[0;36m<module>\u001b[0;34m()\u001b[0m\n\u001b[1;32m      6\u001b[0m \u001b[0;31m# if it starts with 'http' we are happy\u001b[0m\u001b[0;34m\u001b[0m\u001b[0;34m\u001b[0m\u001b[0m\n\u001b[1;32m      7\u001b[0m \u001b[0;32mfor\u001b[0m \u001b[0ml\u001b[0m \u001b[0;32min\u001b[0m \u001b[0mlink_list\u001b[0m\u001b[0;34m:\u001b[0m\u001b[0;34m\u001b[0m\u001b[0m\n\u001b[0;32m----> 8\u001b[0;31m     \u001b[0;32mif\u001b[0m \u001b[0ml\u001b[0m\u001b[0;34m[\u001b[0m\u001b[0;34m:\u001b[0m\u001b[0;36m4\u001b[0m\u001b[0;34m]\u001b[0m \u001b[0;34m==\u001b[0m \u001b[0;34m'http'\u001b[0m\u001b[0;34m:\u001b[0m\u001b[0;34m\u001b[0m\u001b[0m\n\u001b[0m\u001b[1;32m      9\u001b[0m         \u001b[0mexternal_links\u001b[0m\u001b[0;34m.\u001b[0m\u001b[0mappend\u001b[0m\u001b[0;34m(\u001b[0m\u001b[0ml\u001b[0m\u001b[0;34m)\u001b[0m\u001b[0;34m\u001b[0m\u001b[0m\n\u001b[1;32m     10\u001b[0m \u001b[0;34m\u001b[0m\u001b[0m\n",
      "\u001b[0;31mTypeError\u001b[0m: 'NoneType' object has no attribute '__getitem__'"
     ]
    }
   ],
   "source": [
    "## filter all external links\n",
    "# create an empty list to collect the valid links\n",
    "external_links = []\n",
    "\n",
    "# write a loop to filter the links\n",
    "# if it starts with 'http' we are happy\n",
    "for l in link_list:\n",
    "    if l[:4] == 'http':\n",
    "        external_links.append(l)\n",
    "\n",
    "# this throws an error! It says something about 'NoneType'"
   ]
  },
  {
   "cell_type": "code",
   "execution_count": 109,
   "metadata": {
    "collapsed": false,
    "slideshow": {
     "slide_type": "slide"
    }
   },
   "outputs": [
    {
     "name": "stdout",
     "output_type": "stream",
     "text": [
      "2\n"
     ]
    }
   ],
   "source": [
    "# lets investigate. Have a close look at the link_list:\n",
    "link_list\n",
    "\n",
    "# Seems that there are None elements!\n",
    "# we can't check for http in items that are none\n",
    "# Let's verify\n",
    "print sum([l is None for l in link_list])\n",
    "\n",
    "# So there are two elements in the list that are None!"
   ]
  },
  {
   "cell_type": "code",
   "execution_count": 110,
   "metadata": {
    "collapsed": false,
    "slideshow": {
     "slide_type": "slide"
    }
   },
   "outputs": [
    {
     "data": {
      "text/plain": [
       "['https://code.launchpad.net/beautifulsoup',\n",
       " 'https://groups.google.com/forum/?fromgroups#!forum/beautifulsoup',\n",
       " 'http://www.candlemarkandgleam.com/shop/constellation-games/',\n",
       " 'http://constellation.crummy.com/Constellation%20Games%20excerpt.html',\n",
       " 'https://groups.google.com/forum/?fromgroups#!forum/beautifulsoup',\n",
       " 'https://bugs.launchpad.net/beautifulsoup/',\n",
       " 'http://lxml.de/',\n",
       " 'http://code.google.com/p/html5lib/',\n",
       " 'http://www.crummy.com/software/BeautifulSoup/bs3/documentation.html',\n",
       " 'http://www.nytimes.com/2007/10/25/arts/design/25vide.html',\n",
       " 'https://github.com/reddit/reddit/blob/85f9cff3e2ab9bb8f19b96acd8da4ebacc079f04/r2/r2/lib/media.py',\n",
       " 'http://www.harrowell.org.uk/viktormap.html',\n",
       " 'http://svn.python.org/view/tracker/importer/',\n",
       " 'http://www2.ljworld.com/',\n",
       " 'http://www.b-list.org/weblog/2010/nov/02/news-done-broke/',\n",
       " 'http://esrl.noaa.gov/gsd/fab/',\n",
       " 'http://laps.noaa.gov/topograbber/',\n",
       " 'http://groups.google.com/group/beautifulsoup/',\n",
       " 'https://launchpad.net/beautifulsoup',\n",
       " 'https://code.launchpad.net/beautifulsoup/',\n",
       " 'https://bugs.launchpad.net/beautifulsoup/',\n",
       " 'http://creativecommons.org/licenses/by-sa/2.0/',\n",
       " 'http://creativecommons.org/licenses/by-sa/2.0/',\n",
       " 'http://www.crummy.com/',\n",
       " 'http://www.crummy.com/software/',\n",
       " 'http://www.crummy.com/software/BeautifulSoup/']"
      ]
     },
     "execution_count": 110,
     "metadata": {},
     "output_type": "execute_result"
    }
   ],
   "source": [
    "# Let's filter those objects out in the for loop\n",
    "external_links = []\n",
    "\n",
    "# write a loop to filter the links\n",
    "# if it is not None and starts with 'http' we are happy\n",
    "for l in link_list:\n",
    "    if l is not None and l[:4] == 'http':\n",
    "        #is not syntax...weird. plus the word 'and' instead of &, why not logical operators?\n",
    "        external_links.append(l)\n",
    "        \n",
    "external_links"
   ]
  },
  {
   "cell_type": "markdown",
   "metadata": {
    "slideshow": {
     "slide_type": "skip"
    }
   },
   "source": [
    "Note: The above `if` condition works because of lazy evaluation in Python. The `and` statement becomes `False` if the first part is `False`, so there is no need to ever evaluate the second part. Thus a `None` entry in the list gets never asked about its first four characters. "
   ]
  },
  {
   "cell_type": "code",
   "execution_count": 112,
   "metadata": {
    "collapsed": false,
    "slideshow": {
     "slide_type": "slide"
    }
   },
   "outputs": [
    {
     "data": {
      "text/plain": [
       "['https://code.launchpad.net/beautifulsoup',\n",
       " 'https://groups.google.com/forum/?fromgroups#!forum/beautifulsoup',\n",
       " 'http://www.candlemarkandgleam.com/shop/constellation-games/',\n",
       " 'http://constellation.crummy.com/Constellation%20Games%20excerpt.html',\n",
       " 'https://groups.google.com/forum/?fromgroups#!forum/beautifulsoup',\n",
       " 'https://bugs.launchpad.net/beautifulsoup/',\n",
       " 'http://lxml.de/',\n",
       " 'http://code.google.com/p/html5lib/',\n",
       " 'http://www.crummy.com/software/BeautifulSoup/bs3/documentation.html',\n",
       " 'http://www.nytimes.com/2007/10/25/arts/design/25vide.html',\n",
       " 'https://github.com/reddit/reddit/blob/85f9cff3e2ab9bb8f19b96acd8da4ebacc079f04/r2/r2/lib/media.py',\n",
       " 'http://www.harrowell.org.uk/viktormap.html',\n",
       " 'http://svn.python.org/view/tracker/importer/',\n",
       " 'http://www2.ljworld.com/',\n",
       " 'http://www.b-list.org/weblog/2010/nov/02/news-done-broke/',\n",
       " 'http://esrl.noaa.gov/gsd/fab/',\n",
       " 'http://laps.noaa.gov/topograbber/',\n",
       " 'http://groups.google.com/group/beautifulsoup/',\n",
       " 'https://launchpad.net/beautifulsoup',\n",
       " 'https://code.launchpad.net/beautifulsoup/',\n",
       " 'https://bugs.launchpad.net/beautifulsoup/',\n",
       " 'http://creativecommons.org/licenses/by-sa/2.0/',\n",
       " 'http://creativecommons.org/licenses/by-sa/2.0/',\n",
       " 'http://www.crummy.com/',\n",
       " 'http://www.crummy.com/software/',\n",
       " 'http://www.crummy.com/software/BeautifulSoup/']"
      ]
     },
     "execution_count": 112,
     "metadata": {},
     "output_type": "execute_result"
    }
   ],
   "source": [
    "# and we can put this in a list comprehension as well, it almost reads like \n",
    "# a sentence.\n",
    "\n",
    "[l for l in link_list if l is not None and l.startswith('http')]\n",
    "#startswith and endswith  are handy!"
   ]
  },
  {
   "cell_type": "markdown",
   "metadata": {
    "slideshow": {
     "slide_type": "slide"
    }
   },
   "source": [
    "Parsing the Tree\n",
    "================\n",
    "\n"
   ]
  },
  {
   "cell_type": "code",
   "execution_count": 114,
   "metadata": {
    "collapsed": false
   },
   "outputs": [
    {
     "name": "stdout",
     "output_type": "stream",
     "text": [
      "<html><head><title>This is a title</title></head><body><h3> Test </h3><p>Hello world!</p></body></html>\n"
     ]
    },
    {
     "data": {
      "text/plain": [
       "<body><h3> Test </h3><p>Hello world!</p></body>"
      ]
     },
     "execution_count": 114,
     "metadata": {},
     "output_type": "execute_result"
    }
   ],
   "source": [
    "# redifining `s` without any line breaks\n",
    "s = \"\"\"<!DOCTYPE html><html><head><title>This is a title</title></head><body><h3> Test </h3><p>Hello world!</p></body></html>\"\"\"\n",
    "## get bs4 object\n",
    "tree = bs4.BeautifulSoup(s)\n",
    "\n",
    "## gets everything within the html tags\n",
    "root_node = tree.html\n",
    "print root_node\n",
    "\n",
    "## get head from root using contents\n",
    "head = root_node.contents[0]\n",
    "\n",
    "## get body from root\n",
    "body = root_node.contents[1]\n",
    "#so i guess there are only two contents to any html page, the head and the body?\n",
    "\n",
    "## could directly access body\n",
    "tree.body"
   ]
  },
  {
   "cell_type": "markdown",
   "metadata": {
    "slideshow": {
     "slide_type": "slide"
    }
   },
   "source": [
    "Quiz:\n",
    "=====\n",
    "\n",
    "* Find the `h3` tag by parsing the tree starting at `body`\n",
    "* Create a list of all __Hall of Fame__ entries listed on the Beautiful Soup webpage\n",
    "    - hint: it is the only unordered list in the page (tag `ul`)\n"
   ]
  },
  {
   "cell_type": "code",
   "execution_count": 117,
   "metadata": {
    "collapsed": false,
    "slideshow": {
     "slide_type": "slide"
    }
   },
   "outputs": [
    {
     "data": {
      "text/plain": [
       "<h3>Beautiful Soup 3</h3>"
      ]
     },
     "execution_count": 117,
     "metadata": {},
     "output_type": "execute_result"
    }
   ],
   "source": [
    "## get h3 tag from body\n",
    "soup.body.h3\n"
   ]
  },
  {
   "cell_type": "code",
   "execution_count": 123,
   "metadata": {
    "collapsed": false,
    "slideshow": {
     "slide_type": "slide"
    }
   },
   "outputs": [
    {
     "name": "stdout",
     "output_type": "stream",
     "text": [
      "[<li>Reddit uses Beautiful Soup to <a href=\"https://github.com/reddit/reddit/blob/85f9cff3e2ab9bb8f19b96acd8da4ebacc079f04/r2/r2/lib/media.py\">parse\n",
      "a page that's been linked to and find a representative image</a>.\n",
      "\n",
      "</li>, <li>Alexander Harrowell uses Beautiful Soup to <a href=\"http://www.harrowell.org.uk/viktormap.html\">track the business\n",
      " activities</a> of an arms merchant.\n",
      "\n",
      "</li>, <li>The developers of Python itself used Beautiful Soup to <a href=\"http://svn.python.org/view/tracker/importer/\">migrate the Python\n",
      "bug tracker from Sourceforge to Roundup</a>.\n",
      "\n",
      "</li>, <li>The <a href=\"http://www2.ljworld.com/\">Lawrence Journal-World</a>\n",
      "uses Beautiful Soup to <a href=\"http://www.b-list.org/weblog/2010/nov/02/news-done-broke/\">gather\n",
      "statewide election results</a>.\n",
      "\n",
      "</li>, <li>The <a href=\"http://esrl.noaa.gov/gsd/fab/\">NOAA's Forecast\n",
      "Applications Branch</a> uses Beautiful Soup in <a href=\"http://laps.noaa.gov/topograbber/\">TopoGrabber</a>, a script for\n",
      "downloading \"high resolution USGS datasets.\"\n",
      "\n",
      "</li>]\n"
     ]
    }
   ],
   "source": [
    "## use ul as entry point\n",
    "currRoot = soup.body.ul\n",
    "currRoot\n",
    "\n",
    "## get hall of fame list from entry point\n",
    "## skip the first entry \n",
    "hof_items=currRoot.findAll('li');\n",
    "hof_items = hof_items[1:6]\n",
    "print hof_items\n",
    "\n",
    "\n",
    "## reformat into a list containing strings\n",
    "## it is ok to have a list of lists"
   ]
  },
  {
   "cell_type": "markdown",
   "metadata": {
    "slideshow": {
     "slide_type": "slide"
    }
   },
   "source": [
    "`tmp` now is actually a list of lists containing the hall of fame entries. \n",
    "Here is some advanced Python on how to print really just one entry per list item.\n",
    "\n",
    "The cool things about this are: \n",
    "* The use of `\"\"` to just access the `join` function of strings.\n",
    "* The `join` function itself\n",
    "* that you can actually have two nested for loops in a list comprehension"
   ]
  },
  {
   "cell_type": "code",
   "execution_count": 124,
   "metadata": {
    "collapsed": false,
    "slideshow": {
     "slide_type": "-"
    }
   },
   "outputs": [
    {
     "name": "stdout",
     "output_type": "stream",
     "text": [
      "Reddit uses Beautiful Soup to <a href=\"https://github.com/reddit/reddit/blob/85f9cff3e2ab9bb8f19b96acd8da4ebacc079f04/r2/r2/lib/media.py\">parse\n",
      "a page that's been linked to and find a representative image</a>.\n",
      "\n",
      "\n",
      "Alexander Harrowell uses Beautiful Soup to <a href=\"http://www.harrowell.org.uk/viktormap.html\">track the business\n",
      " activities</a> of an arms merchant.\n",
      "\n",
      "\n",
      "The developers of Python itself used Beautiful Soup to <a href=\"http://svn.python.org/view/tracker/importer/\">migrate the Python\n",
      "bug tracker from Sourceforge to Roundup</a>.\n",
      "\n",
      "\n",
      "The <a href=\"http://www2.ljworld.com/\">Lawrence Journal-World</a>\n",
      "uses Beautiful Soup to <a href=\"http://www.b-list.org/weblog/2010/nov/02/news-done-broke/\">gather\n",
      "statewide election results</a>.\n",
      "\n",
      "\n",
      "The <a href=\"http://esrl.noaa.gov/gsd/fab/\">NOAA's Forecast\n",
      "Applications Branch</a> uses Beautiful Soup in <a href=\"http://laps.noaa.gov/topograbber/\">TopoGrabber</a>, a script for\n",
      "downloading \"high resolution USGS datasets.\"\n",
      "\n",
      "\n"
     ]
    }
   ],
   "source": [
    "test =  [\"\".join(str(a) for a in sublist) for sublist in hof_items]\n",
    "print '\\n'.join(test)"
   ]
  },
  {
   "cell_type": "markdown",
   "metadata": {
    "slideshow": {
     "slide_type": "slide"
    }
   },
   "source": [
    "Advanced Example\n",
    "===============\n",
    "\n",
    "Idea by [Jesse Steinweg-Woods](https://jessesw.com/Data-Science-Skills/)\n",
    "--------------------------------------------------------------------------------"
   ]
  },
  {
   "cell_type": "markdown",
   "metadata": {
    "slideshow": {
     "slide_type": "slide"
    }
   },
   "source": [
    "Scraping data science skills\n",
    "=============================\n",
    "\n",
    "- What skills are in demand for data scientists?\n",
    "- Should we have a lecture on Spark or only on MapReduce?\n",
    "\n",
    "We want to scrape the information from job advertisements for data scientists from indeed.com\n",
    "Let's scrape and find out!"
   ]
  },
  {
   "cell_type": "code",
   "execution_count": 126,
   "metadata": {
    "collapsed": false,
    "slideshow": {
     "slide_type": "slide"
    }
   },
   "outputs": [
    {
     "name": "stdout",
     "output_type": "stream",
     "text": [
      "<!DOCTYPE html>\n",
      "<html>\n",
      "<head>\n",
      "<meta content=\"text/html;charset=utf-8\" http-equiv=\"content-type\"/>\n",
      "<!-- pll --><link href=\"/q-Data-Scientist-jobs.html\" rel=\"canonical\"/><script type=\"text/javascript\">\n",
      "\n",
      "(function ( tk ) { if ( tk && document.images ) { var s=\"/\", q=\"?\", a=\"&\", e=\"=\"; (new Image()).src = s+\"rpc\"+s+\"log\"+q+\"a\"+e+\"jslat\"+a+\"tk\"+e+tk; } })('19unsnff9511m9rt');\n",
      "</script>\n",
      "<script src=\"/s/8ea1af6/en_US.js\" type=\"text/javascript\"></script>\n",
      "<link href=\"/s/6e29e52/jobsearch_all.css\" rel=\"stylesheet\" type=\"text/css\"/>\n",
      "<link href=\"http://rss.indeed.com/rss?q=data+scientist\" rel=\"alternate\" title=\"Data Scientist Jobs, Employment\" type=\"application/rss+xml\"/>\n",
      "<link href=\"/m/jobs?q=data+scientist\" media=\"handheld\" rel=\"alternate\"/>\n",
      "<script type=\"text/javascript\">\n",
      "    \n",
      "    window['closureReadyCallbacks'] = [];\n",
      "\n",
      "    function call_when_jsall_loaded(cb) {\n",
      "        if (window['closureReady']) {\n",
      "            cb();\n",
      "        } else {\n",
      "            window['closureReadyCallbacks'].push(cb);\n",
      "        }\n",
      "    }\n",
      "</script>\n",
      "<script src=\"/s/b39503e/jobsearch-all-compiled.js\" type=\"text/javascript\"></script>\n",
      "<script type=\"text/javascript\">\n",
      "var pingUrlsForGA = [];\n",
      "\n",
      "var searchUID = '19unsnff9511m9rt';\n",
      "var tk = '19unsnff9511m9rt';\n",
      "\n",
      "var loggedIn = false;\n",
      "var myindeed = true;\n",
      "var userEmail = '';\n",
      "var tellFriendEmail = '';\n",
      "var globalLoginURL = 'http:\\/\\/www.indeed.com\\/account\\/login?dest=%2Fq-data-scientist-jobs.html';\n",
      "var globalRegisterURL = 'http:\\/\\/www.indeed.com\\/account\\/register?dest=%2Fq-data-scientist-jobs.html';\n",
      "var searchKey = 'bebb41335ed80f2a';\n",
      "var searchState = 'q=data+scientist&amp;';\n",
      "var searchQS = 'q=data+scientist';\n",
      "var eventType = 'jobsearch';\n",
      "var locale = 'en_US';\n",
      "function clk(id) { var a = document.getElementById(id); var hr = a.href; var si = a.href.indexOf('&jsa='); if (si > 0) return; var jsh = hr + '&tk=19unsnff9511m9rt&jsa=9385'; a.href = jsh; }\n",
      "function sjomd(id) { var a = document.getElementById(id); var hr = a.href; var ocs = hr.indexOf('&oc=1'); if (ocs < 0) return; var oce = ocs + 5; a.href = hr.substring(0, ocs) + hr.substring(oce); }\n",
      "function sjoc(id, sal) { var a = document.getElementById(id); a.href = a.href + '&oc=1&sal='+sal; }\n",
      "function ptk(st,p) {document.cookie = 'PTK=\"tk=19unsnff9511m9rt&type=jobsearch&subtype='+st+(p?'&'+p:'')+'\"; path=/';}\n",
      "function rbptk(st, c, p) { ptk(st, 'cat='+c+(p?'&p='+p:''));}\n",
      "</script>\n",
      "<script type=\"text/javascript\">\n",
      "function loadJSAsync( ) {\n",
      "for ( var i = 0; i < arguments.length; i++ ) {\n",
      "var url = arguments[i];\n",
      "(function() {\n",
      "var s = document.createElement(\"script\"), el = document.getElementsByTagName(\"script\")[0];\n",
      "s.async = true;\n",
      "s.src = url;\n",
      "el.parentNode.insertBefore(s, el);\n",
      "})();\n",
      "}\n",
      "}\n",
      "</script>\n",
      "<meta content=\"22,860  Data Scientist Jobs available on Indeed.com.  one search.  all jobs.\" name=\"description\"/>\n",
      "<meta content=\"Data Scientist Jobs, Employment,  careers,  employment,  job listings,  job search,  search engine, work in \" name=\"keywords\"/>\n",
      "<script type=\"text/javascript\">\n",
      "var indeedCsrfToken = '0zBAhfLfPNvkxEIWNL05DIuNcDBarHli';\n",
      "var hashedCsrfToken = 'ec9058cd894c547d03b45ef1a0c538d6';\n",
      "</script>\n",
      "<style type=\"text/css\">\n",
      "#resultsCol { padding-top: 0; }\n",
      ".searchCount { margin-top: 6px; }\n",
      ".showing { padding-top: 9px; padding-bottom: 9px; }\n",
      "\n",
      ".brdr { height: 1px; overflow: hidden; background-color: #ccc; }\n",
      "\n",
      "#bjobalerts { margin-top: 0; }\n",
      "\n",
      "/* Tall window sizes */\n",
      "@media only screen and (min-height:780px){\n",
      ".showing { padding-bottom: 0; }\n",
      "}\n",
      "\n",
      "/* Wide window sizes */\n",
      "@media only screen and (min-width:1125px){\n",
      ".brdr  { margin-left: 12px; margin-right: 12px; }\n",
      "}\n",
      "\n",
      "a,a:link,.link{text-decoration:none !important}a:hover,.link:hover{text-decoration:underline !important}.dya-container a{text-decoration:underline !important}</style>\n",
      "<script>\n",
      "function onLoadHandler() {\n",
      "\n",
      "document.js.reset();\n",
      "jobSeenInit('19unsnff9511m9rt');\n",
      "\n",
      "if ( document.radius_update ) { document.radius_update.reset(); }\n",
      "\n",
      "}\n",
      "\n",
      "initLogInitialUserInteraction('19unsnff9511m9rt', 'serp');\n",
      "\n",
      "window.onload = onLoadHandler;\n",
      "</script>\n",
      "<link href=\"android-app://com.indeed.android.jobsearch/http/www.indeed.com/m/jobs?q=data+scientist\" rel=\"alternate\"/>\n",
      "<title>Data Scientist Jobs, Employment\n",
      "|\n",
      "Indeed.com</title>\n",
      "</head>\n",
      "<body data-tn-application=\"jasx\" data-tn-olth=\"9d2bcadf63a72746e920e0ea88bc9d14\" data-tn-originlogid=\"19unsnff9511m9rt\" data-tn-originlogtype=\"jobsearch\">\n",
      "<style type=\"text/css\">\n",
      "body { margin-top: 0; margin-left: 0; margin-right: 0; padding-top: 0; padding-right: 0; padding-left: 0; }\n",
      "\n",
      "#g_nav { border-bottom:1px solid #ccc; margin-bottom: 9px; }\n",
      "\n",
      "#g_nav a,\n",
      "#g_nav a:visited { color: #00c; }\n",
      "\n",
      ".navBi { display: -moz-inline-box; display: inline-block; padding: 9px 12px; margin: 0; list-style-type: none; }\n",
      "</style>\n",
      "<div data-tn-section=\"globalNav\" id=\"g_nav\">\n",
      "<table cellpadding=\"0\" cellspacing=\"0\" width=\"100%\">\n",
      "<tr>\n",
      "<td nowrap=\"\"><style type=\"text/css\">\n",
      "#p_nav a.selected { font-weight: bold; text-decoration:none; color: #000 !important; }\n",
      "</style>\n",
      "<div id=\"p_nav\"><span class=\"navBi\"><a class=\"selected\" href=\"/\" id=\"jobsLink\" title=\"Jobs\">Find Jobs</a></span><span class=\"navBi\"><a href=\"/resumes?isid=find-resumes&amp;ikw=SERPtop&amp;co=US&amp;hl=en\" id=\"rezLink\">Find Resumes</a></span><span class=\"navBi\"><a href=\"https://ads.indeed.com/?hl=en&amp;cc=US\" id=\"empLink\" onclick=\"if ( this.href.match('&amp;isid=employerlink-US-control&amp;ikw=SERPtop') == null ) { this.href += '&amp;isid=employerlink-US-control&amp;ikw=SERPtop' };\">Employers / Post Job</a></span></div>\n",
      "</td>\n",
      "<td align=\"right\" nowrap=\"\"><style type=\"text/css\">\n",
      "\n",
      "\n",
      "#navpromo a,\n",
      "#navpromo a:visited {\n",
      "color: #f60;\n",
      "}\n",
      ".resume-promo .ico {\n",
      "background: url(\"data:image/png;base64,iVBORw0KGgoAAAANSUhEUgAAABIAAAAYCAMAAADAi10DAAAAA3NCSVQICAjb4U/gAAAAdVBMVEX////x7/3v7vjl4vXj4PTi3/Lg3fHf2/Dd2u7c2O3a1+vZ1erX0+nW0ufU0ObSz+TRzePPy+LOyuDMyN+uqt+lpeaIiNojI84gIMoeHsccHMQaGsEXF74VFbsTE7gREbQODrEMDK4KCqsICKgFBaQDA6EBAZ54rl54AAAACXBIWXMAAArrAAAK6wGCiw1aAAAAHHRFWHRTb2Z0d2FyZQBBZG9iZSBGaXJld29ya3MgQ1M1cbXjNgAAABV0RVh0Q3JlYXRpb24gVGltZQA5LzEzLzExzT7gEAAAAIJJREFUGNOt0LsOgkAQRuFzkGhP5Ob7PxsmaCy5KDEWC0vEQgv/avPN7M5mzNkm5bqRY0ry2eX/6c5+Q2PO5RAoQdWx0GJUdaahVC2HlfpKVat+oa52Tt1peP4MJ6ABDBMzuAmQwSPQFKowxS4W8u2rX8jdSuGYtkR6tvPFleImfqEXCDYV9f9Fn8cAAAAASUVORK5CYII=\");width:18px; height:24px; margin-top: -3px;\n",
      "vertical-align: middle;\n",
      "display: inline-block;\n",
      "}\n",
      "\n",
      "\n",
      "#u_nav .login_unconfirmed,\n",
      "#u_nav .login_unconfirmed a,\n",
      "#u_nav .login_unconfirmed a:visited {\n",
      "color: #c00\n",
      "}\n",
      "\n",
      "#u_nav .resume_pending,\n",
      "#u_nav .resume_pending a,\n",
      "#u_nav .resume_pending a:visited {\n",
      "color: #c00\n",
      "}\n",
      "\n",
      "#userOptionsLabel {\n",
      "position: relative;\n",
      "z-index: 5;\n",
      "}\n",
      "\n",
      "#userOptionsLabel b {\n",
      "cursor: pointer;\n",
      "text-decoration: underline;\n",
      "position: relative;\n",
      "z-index: 5;\n",
      "}\n",
      "\n",
      "#userOptionsLabel:active {\n",
      "outline: none;\n",
      "}\n",
      "\n",
      "#userOptionsLabel.active {\n",
      "padding: 9px 11px;\n",
      "margin-bottom: -1px;\n",
      "_margin-bottom: 0px;\n",
      "border: 1px solid #ccc;\n",
      "border-top: 0;\n",
      "}\n",
      "\n",
      "#userOptionsLabel.active b {\n",
      "color: #666;\n",
      "}\n",
      "\n",
      "#userOptionsLabel.active .arrowStub {\n",
      "border-width: 0 3px 3px;\n",
      "_border-width: 0px 3px 4px;\n",
      "border-color: transparent;\n",
      "border-bottom-color: #666;\n",
      "top: -2px;\n",
      "border-style: dashed dashed solid;\n",
      "}\n",
      "\n",
      "#userOptionsLabel.active .halfPxlFix {\n",
      "background: #fff;\n",
      "bottom: -3px;\n",
      "height: 6px;\n",
      "left: 0;\n",
      "position: absolute;\n",
      "right: 0;\n",
      "border: 1px solid #fff;\n",
      "}\n",
      "\n",
      ".arrowStub {\n",
      "position: relative;\n",
      "border-style: solid dashed dashed;\n",
      "border-color: transparent;\n",
      "border-top-color: #666;\n",
      "display: -moz-inline-box;\n",
      "display: inline-block;\n",
      "font-size: 0;\n",
      "height: 0;\n",
      "line-height: 0;\n",
      "width: 0;\n",
      "left: 4px;\n",
      "border-width: 3px 3px 0px;\n",
      "padding-top: 1px;\n",
      "top: -1px;\n",
      "}\n",
      "\n",
      "#userOptions {\n",
      "z-index: 2;\n",
      "visibility: hidden;\n",
      "position: absolute;\n",
      "right: 0;\n",
      "x_right: -1px;\n",
      "top: 100%;\n",
      "padding: 9px 15px;\n",
      "border: 1px solid #ccc;\n",
      "background: #fff;\n",
      "min-width: 150px;\n",
      "_width: 150px;\n",
      "text-align: left;\n",
      "}\n",
      "\n",
      "#userOptions.open {\n",
      "visibility: visible;\n",
      "}\n",
      "\n",
      ".userOptionItem {\n",
      "margin: 6px 0;\n",
      "}\n",
      "\n",
      ".userOptionItem a {\n",
      "white-space: nowrap;\n",
      "}\n",
      "\n",
      ".userOptionGroup {\n",
      "border-top: 1px solid #e8e8e8;\n",
      "margin-top: 12px;\n",
      "}\n",
      "\n",
      ".userNameRepeat {\n",
      "color: #a8a8a8;\n",
      "padding-right: 48px;\n",
      "font-weight: bold;\n",
      "}\n",
      "\n",
      "</style>\n",
      "<div id=\"u_nav\">\n",
      "<script type=\"text/javascript\">\n",
      "function isUserOptionsOpen() {\n",
      "return document.getElementById('userOptions').className == 'open';\n",
      "}\n",
      "\n",
      "function hideUserOptions(label, options) {\n",
      "options.className = '';\n",
      "label.className = 'navBi';\n",
      "}\n",
      "\n",
      "function toggleUserOptions(e) {\n",
      "var options = document.getElementById('userOptions');\n",
      "var label = document.getElementById('userOptionsLabel');\n",
      "if (isUserOptionsOpen()) {\n",
      "hideUserOptions(label, options);\n",
      "if (!e.keyCode) {\n",
      "label.blur();\n",
      "}\n",
      "} else {\n",
      "options.className = 'open';\n",
      "label.className = 'navBi active';\n",
      "document.onclick = function() {\n",
      "hideUserOptions(label, options);\n",
      "document.onclick = function() {\n",
      "};\n",
      "};\n",
      "if (e.keyCode && e.keyCode == 13) {\n",
      "var fL = gbid('userOptions').getElementsByTagName('a')[0];\n",
      "if (fL) {\n",
      "fL.focus();\n",
      "}\n",
      "}\n",
      "else {\n",
      "label.blur();\n",
      "}\n",
      "}\n",
      "stopPropagation(e);\n",
      "\n",
      "}\n",
      "\n",
      "function stopPropagation(e) {\n",
      "var e = e || window.event;\n",
      "e.stopPropagation ? e.stopPropagation() : e.cancelBubble = true;\n",
      "}\n",
      "</script>\n",
      "<div id=\"user_actions\">\n",
      "<span class=\"navBi\"><span class=\"resume-promo\" id=\"navpromo\">\n",
      "<a href=\"/promo/resume\" onclick=\"window.location=this.href + '?from=nav&amp;subfrom=rezprmstd&amp;trk.origin=jobsearch&amp;trk.variant=rezprmstd&amp;trk.tk=19unsnff9511m9rt'; return false;\">Upload your resume</a>\n",
      "</span></span>\n",
      "<span class=\"navBi\"><a href=\"http://www.indeed.com/account/login?dest=%2Fjobs%3Fq%3Ddata%2Bscientist\" id=\"userOptionsLabel\" rel=\"nofollow\">Sign in</a></span>\n",
      "</div>\n",
      "</div>\n",
      "</td>\n",
      "</tr>\n",
      "</table>\n",
      "</div>\n",
      "<style type=\"text/css\">\n",
      "#branding img { border: 0; }\n",
      "#jobsearch { margin: 0 }\n",
      ".inwrap { border-right: 1px solid #e8e8e8;border-bottom: 1px solid #e8e8e8;display:inline-block; }\n",
      ".inwrap input { margin:0; height: 22px; font-family:Arial,sans-serif;border:1px solid #ccc;border-bottom-color:#aaa;border-right-color:#aaa; -webkit-border-radius: 0; -webkit-appearance: none; }\n",
      ".inwrap .input_text { font-size:18px;padding:3px 6px;_margin: -1px 0; }\n",
      ".inwrap .input_submit {color:#614041;font-size:15px;height:30px;background: #e8e8e8; padding:3px 9px;cursor:pointer;_padding:3px;}\n",
      ".inwrap .input_submit:active { background: #ccc; }\n",
      ".lnav  {width:100%;line-height:1;;font-size:10pt;}\n",
      ".jsf .label {font-size:12px; line-height:1.2;padding-top:0;color:#aaa;font-weight:normal;white-space:nowrap;padding-right:1.5em}\n",
      ".jsf .label label {font-weight:normal}\n",
      ".jsf .sl { font-size: 11px; color: #77c; white-space: nowrap; }\n",
      ".npb { padding-bottom: 0; color: #f60; text-transform: lowercase;font-weight:bold; }\n",
      ".npl { padding-left: 0 }\n",
      "\n",
      ".acd { border: 1px solid #333; background: #fff; position:absolute; width:100%; z-index: 1; }\n",
      ".aci { font-size: 18px; padding:1px 6px; cursor:pointer; }\n",
      ".acis { background:#36c; color:#fff; }\n",
      "\n",
      "#tjobalerts .ws_label,\n",
      "#bjobalerts .ws_label,\n",
      "#tjobalerts .member,\n",
      "#bjobalerts .member{ z-index: 1; }\n",
      "#acr td { padding-top:0; padding-bottom:0; }\n",
      "#acr td .h { display:none; }\n",
      "\n",
      "#what { width: 280px; }\n",
      "#where { width: 260px; }\n",
      ".inwrapBorder{border:1px solid #1c4ed9;border-top-color:#2f62f1;border-bottom-color:#133fbb;display:inline-block;width:auto}.inwrapBorderTop{border-top:1px solid #69F;display:inline-block;background-color:#3163f2;filter:progid:DXImageTransform.Microsoft.gradient(startColorstr='#3163F2',endColorstr='#2B57D5');background:-webkit-gradient(linear,left top,left bottom,from(#3163f2),to(#2b57d5));background:-moz-linear-gradient(top,#3163f2,#2b57d5);background:linear-gradient(top,#3163f2,#2b57d5)}.inwrapBorder .input_submit{background:transparent;border:0;color:#fff;font-family:Arial;font-size:15px;margin:0;padding:4px 9px;cursor:pointer;_padding:3px}.inwrapBorder a.input_submit{text-decoration:none;display:block}.inwrapBorder:hover{border-color:#235af6;border-top-color:#4072ff;border-bottom-color:#1e4fd9}.inwrapBorderTop:hover{border-top-color:#7ba7ff;background-color:#4273ff;filter:progid:DXImageTransform.Microsoft.gradient(startColorstr='#4273ff',endColorstr='#3364f1');background:-webkit-gradient(linear,left top,left bottom,from(#4273ff),to(#3364f1));background:-moz-linear-gradient(top,#4273ff,#3364f1);background:linear-gradient(top,#4273ff,#3364f1)}.inwrapBorder:active{border-color:#536db7;border-top-color:#4b69c1;border-bottom-color:#3753a6}.inwrapBorder:active .inwrapBorderTop{border-top-color:#6c82c1;background-color:#4b69c1;filter:progid:DXImageTransform.Microsoft.gradient(startColorstr='#4b69c1',endColorstr='#3753a6');background:-webkit-gradient(linear,left top,left bottom,from(#4b69c1),to(#3753a6));background:-moz-linear-gradient(top,#4b69c1,#3753a6);background:linear-gradient(top,#4b69c1,#3753a6)}.roundedCorner{display:inline-block;zoom:1;*display:inline;vertical-align:baseline;margin:0 2px;outline:0;cursor:pointer;text-align:center;text-decoration:none;font:15px/100% Arial,Helvetica,sans-serif;padding:.5em 2em .55em;text-shadow:0 1px 1px rgba(0,0,0,.3);-webkit-border-radius:.5em;-moz-border-radius:.5em;border-radius:.5em;-webkit-box-shadow:0 1px 2px rgba(0,0,0,.2);-moz-box-shadow:0 1px 2px rgba(0,0,0,.2);box-shadow:0 1px 2px rgba(0,0,0,.2)}.roundedCorner:hover{text-decoration:none}.roundedCorner:active{position:relative;top:1px}.bigrounded{-webkit-border-radius:2em;-moz-border-radius:2em;border-radius:2em}.medium{font-size:12px;padding:.4em 1.5em .42em}.small{font-size:11px;padding:.2em 1em .275em}.indeedblue{color:#d9eef7;border:solid 1px #1c4ed9;background:#3163f2;background:-webkit-gradient(linear,left top,left bottom,from(#2f62f1),to(#133fbb));background:-moz-linear-gradient(top,#2f62f1,#133fbb);filter:progid:DXImageTransform.Microsoft.gradient(startColorstr='#2F62F1',endColorstr='#133FBB')}.indeedblue:hover{background:#235af6;background:-webkit-gradient(linear,left top,left bottom,from(#4072ff),to(#1e4fd9));background:-moz-linear-gradient(top,#4072ff,#1e4fd9);filter:progid:DXImageTransform.Microsoft.gradient(startColorstr='#4072ff',endColorstr='#1e4fd9')}.indeedblue:active{color:#d9eef7;background:-webkit-gradient(linear,left top,left bottom,from(#4b69c1),to(#3753a6));background:-moz-linear-gradient(top,#4b69c1,#3753a6);filter:progid:DXImageTransform.Microsoft.gradient(startColorstr='#4b69c1',endColorstr='#3753a6')}</style>\n",
      "<table border=\"0\" cellpadding=\"0\" cellspacing=\"0\"><tr><td width=\"1125\"><table cellpadding=\"0\" cellspacing=\"0\" class=\"lnav\">\n",
      "<tr>\n",
      "<td id=\"branding-td\" style=\"padding: 5px 0 5px 5px;width:175px;vertical-align:top;\"><a href=\"/\" id=\"branding\" onmousedown=\"ptk('logo');\"><img alt=\"one search. all jobs. Indeed\" height=\"72\" src=\"/images/indeed.png\" style=\"margin-bottom:6px\" width=\"175\"/></a></td>\n",
      "<td style=\"padding:3px 0 0 5px;\" valign=\"top\">\n",
      "<form action=\"/jobs\" class=\"jsf\" id=\"jobsearch\" method=\"get\" name=\"js\" onsubmit=\"formptk('topsearch','where_ac','',['where_ac','what_ac'], ptk);formptk('topsearch','what_ac','w',['where_ac','what_ac'], ptk);\">\n",
      "<table align=\"left\" cellpadding=\"3\" cellspacing=\"0\">\n",
      "<tr>\n",
      "<td class=\"npb\"><label for=\"what\">What:</label></td>\n",
      "<td class=\"npb\" colspan=\"3\"><label for=\"where\">Where:</label></td>\n",
      "</tr>\n",
      "<tr>\n",
      "<td class=\"npl epr\"><span class=\"inwrap\"><input class=\"input_text\" id=\"what\" maxlength=\"512\" name=\"q\" size=\"31\" value=\"data scientist\"/></span><div style=\"width:250px\"><!-- --></div></td>\n",
      "<td class=\"npl epr\"><span class=\"inwrap\"><input class=\"input_text\" id=\"where\" maxlength=\"45\" name=\"l\" size=\"27\" value=\"\"/></span><div style=\"width:200px\"><!-- --></div></td>\n",
      "<td class=\"npl\" style=\"width:1px\"><span class=\"inwrapBorder\" style=\"width:auto;padding-right:0;\"><span class=\"inwrapBorderTop\"><input class=\"input_submit\" id=\"fj\" type=\"submit\" value=\"Find Jobs\"/></span></span></td>\n",
      "<td class=\"npl\" style=\"width:240px;\"><div style=\"margin-left:12px\"><a class=\"sl\" href=\"/advanced_search?q=data+scientist\">Advanced Job Search</a></div></td>\n",
      "</tr>\n",
      "<tr id=\"acr\">\n",
      "<td><span class=\"h\"> </span></td>\n",
      "<td class=\"npl\" colspan=\"2\"><div style=\"position:relative;z-index:2\"><div class=\"acd\" id=\"acdiv\" style=\"display:none;\"></div></div></td>\n",
      "<td><span class=\"h\"> </span></td>\n",
      "</tr>\n",
      "<tr id=\"acr\">\n",
      "<td class=\"npl\" colspan=\"3\"><div style=\"position:relative;z-index:2\"><div class=\"acd\" id=\"what_acdiv\" style=\"display:none;\"></div></div></td>\n",
      "<td><span class=\"h\"> </span></td>\n",
      "</tr>\n",
      "<tr valign=\"baseline\">\n",
      "<td class=\"label\">\n",
      "<label for=\"what\">job title, keywords or company</label>\n",
      "</td>\n",
      "<td class=\"label\" colspan=\"3\">\n",
      "<label for=\"where\">city, state, or zip</label>\n",
      "</td>\n",
      "</tr>\n",
      "</table>\n",
      "</form>\n",
      "</td>\n",
      "</tr>\n",
      "</table>\n",
      "</td></tr></table>\n",
      "<script type=\"text/javascript\">\n",
      "\n",
      "        initAutocomplete('where_ac', gbid('where'), gbid('acdiv'), '/rpc/suggest?from=serp&tk=19unsnff9511m9rt', function() { formptk('topsearch','where_ac', '', ['where_ac','what_ac'], ptk); }, gbid('where'));\n",
      "        \n",
      "        initAutocomplete('what_ac', gbid('what'), gbid('what_acdiv'), '/rpc/suggest?what=true&tk=19unsnff9511m9rt', function () {formptk('topsearch', 'what_ac', 'w', ['where_ac','what_ac'], ptk);}, gbid('what'));\n",
      "        </script>\n",
      "<script type=\"text/javascript\">\n",
      "function rclk(el,jobdata,oc,sal) { var ocstr = oc ? '&onclick=1' : ''; document.cookie='RCLK=\"jk='+jobdata.jk+'&tk=19unsnff9511m9rt&from=web&rd='+jobdata.rd+'&qd=7tdTJLF8oc4dPpT7T_zGvGA3XpPBAN42oEhBbwa0-XP0q_5iKGXhGepJfZBzu_Oo4X18z-z5R0M_r-H7GRI_6U7sraLVqoJOJZ2rkmSauv7UnpnGxoEy2d-5JLG2Cwj5&ts=1441763409385&sal='+sal+ocstr+'\"; path=/'; return true;}\n",
      "function zrprclk(el,jobdata,oc) { var ocstr = oc ? '&onclick=1' : ''; document.cookie='RCLK=\"jk='+jobdata.jk+'&tk=19unsnff9511m9rt&from=reconzrp&rd='+jobdata.rd+'&qd=7tdTJLF8oc4dPpT7T_zGvGA3XpPBAN42oEhBbwa0-XP0q_5iKGXhGepJfZBzu_Oo4X18z-z5R0M_r-H7GRI_6U7sraLVqoJOJZ2rkmSauv7UnpnGxoEy2d-5JLG2Cwj5&ts=1441763409385'+ocstr+'\"; path=/'; return true;}\n",
      "function prjbottomclk(el,jobdata,oc) { var ocstr = oc ? '&onclick=1' : ''; document.cookie='RCLK=\"jk='+jobdata.jk+'&tk=19unsnff9511m9rt&from=reconserp&rd='+jobdata.rd+'&qd=7tdTJLF8oc4dPpT7T_zGvGA3XpPBAN42oEhBbwa0-XP0q_5iKGXhGepJfZBzu_Oo4X18z-z5R0M_r-H7GRI_6U7sraLVqoJOJZ2rkmSauv7UnpnGxoEy2d-5JLG2Cwj5&ts=1441763409385'+ocstr+'\"; path=/'; return true;}\n",
      "\n",
      "\n",
      "var jobmap = {};\n",
      "\n",
      "jobmap[0]= {jk:'7adb97d6b6483591',efccid: '1d7c9573dce42716',srcid:'af016b0d5ca355fc',cmpid:'78b011eb2933fad3',num:'0',srcname:'VentureFizz',cmp:'Zaius',cmpesc:'Zaius',cmplnk:'/q-Zaius-jobs.html',loc:'Boston, MA',country:'US',zip:'',city:'Boston',title:'Data Scientist',locid:'e167aeb8a259bcac',rd:'2G0bcbLxcAqiHB9MMTYN9Q'};\n",
      "\n",
      "jobmap[1]= {jk:'fae72cf35fbb821b',efccid: '9c274151a404e5bd',srcid:'58bc7ea41eb65850',cmpid:'9045d3ea05cc71e8',num:'1',srcname:'Indeed',cmp:'CAT Technology Inc',cmpesc:'CAT Technology Inc',cmplnk:'/q-CAT-Technology-jobs.html',loc:'Wilton, CT',country:'US',zip:'',city:'Wilton',title:'Data scientist',locid:'9437ccea86aeae26',rd:'6xJNosMSNyHbTdC8J1mdPw'};\n",
      "\n",
      "jobmap[2]= {jk:'3b657e6ce13a1c7e',efccid: '2b392226f1b411c9',srcid:'fadf97d857d2c3d4',cmpid:'f89deb5a97c7738a',num:'2',srcname:'Adobe',cmp:'Adobe',cmpesc:'Adobe',cmplnk:'/q-Adobe-jobs.html',loc:'San Jose, CA',country:'US',zip:'',city:'San Jose',title:'Data Scientist',locid:'4a7e972a82badd7a',rd:'WPdCTYq1ZBHM1poxVAfv18oNBk--8gR6CvhRrl83wHU'};\n",
      "\n",
      "jobmap[3]= {jk:'57bd97fbbacb533d',efccid: 'abc98684204dbaaf',srcid:'f553e2ed65c55968',cmpid:'256a3073150fd59d',num:'3',srcname:'MapR',cmp:'MapR',cmpesc:'MapR',cmplnk:'/q-MapR-jobs.html',loc:'Boston, MA',country:'US',zip:'',city:'Boston',title:'Data Science - Professional Services Consultant (East Coast)',locid:'e167aeb8a259bcac',rd:'5BxU4H-VG8tEAZfRuPUFEA'};\n",
      "\n",
      "jobmap[4]= {jk:'5b4b6422d0b4e3f6',efccid: '63100cc3114864ea',srcid:'8a3540085ebe9fe3',cmpid:'10d7408be7e62a8b',num:'4',srcname:'GTI Federal',cmp:'GTI Federal',cmpesc:'GTI Federal',cmplnk:'/q-GTI-Federal-jobs.html',loc:'Seaside, CA',country:'US',zip:'',city:'Seaside',title:'Business Intelligence, Data Scientist',locid:'f48618c13341b63a',rd:'4yUuRn-c5AZTq4RAIdkVoc_GpDQUpdPT4XwZZ0YIiXc'};\n",
      "\n",
      "jobmap[5]= {jk:'55c3d108cf6106ff',efccid: '50485031e79343b7',srcid:'bb73f3ac1a5f091a',cmpid:'7057ab93f0d7d306',num:'5',srcname:'Anadarko Petroleum Corporation',cmp:'Anadarko Petroleum Corporation',cmpesc:'Anadarko Petroleum Corporation',cmplnk:'/q-Anadarko-Petroleum-jobs.html',loc:'The Woodlands, TX',country:'US',zip:'',city:'The Woodlands',title:'Data Scientist - OneOps',locid:'d47d34fa3ecd13cc',rd:'J_dLbZGFsMpfmAfjBHmTGtPu-0bJyOrVXPgWOW9J5h0'};\n",
      "\n",
      "jobmap[6]= {jk:'b7fca71d1b8b75e7',efccid: 'dce3ffa7b56286b5',srcid:'2a02756ea9950729',cmpid:'9edcedb2997876d2',num:'6',srcname:'Alliance Data',cmp:'Alliance Data',cmpesc:'Alliance Data',cmplnk:'/q-Alliance-Data-jobs.html',loc:'Illinois',country:'US',zip:'',city:'',title:'Data Scientist Job',locid:'13c75e0a7d4d9433',rd:'mlcWWhoEB84Ug9aTgB647ngDVkFzbh8-xI2u2vwcbH0'};\n",
      "\n",
      "jobmap[7]= {jk:'e9322c2bc39f916a',efccid: '6942c2250a37ecd3',srcid:'cccd7c3a1f5b2d50',cmpid:'7f4804c6452ea542',num:'7',srcname:'Indeed',cmp:'Swoon Technology',cmpesc:'Swoon Technology',cmplnk:'/q-Swoon-Technology-jobs.html',loc:'Kettering, OH',country:'US',zip:'',city:'Kettering',title:'Data Scientist',locid:'238ef254c65dc330',rd:'bMgnpjzF6NcX7gRXsxeQ9g'};\n",
      "\n",
      "jobmap[8]= {jk:'3dafaf0b39bc8c73',efccid: '657a34c8fdcb36ab',srcid:'3ed80cc2897dcd2b',cmpid:'7942658690eba67c',num:'8',srcname:'Abbott Laboratories',cmp:'Abbott Laboratories',cmpesc:'Abbott Laboratories',cmplnk:'/q-Abbott-Laboratories-jobs.html',loc:'Lake County, IL',country:'US',zip:'',city:'',title:'Principle Scientist Tech Support',locid:'13c75e0a7d4d9433',rd:'FiOGE3sU2Eim9zDGKZoF2soNBk--8gR6CvhRrl83wHU'};\n",
      "\n",
      "jobmap[9]= {jk:'f6f36c8ee836dd69',efccid: '03adea50798861a3',srcid:'2a32c218eb9e0093',cmpid:'6f49e88f14c18b75',num:'9',srcname:'Mars',cmp:'Mars',cmpesc:'Mars',cmplnk:'/q-Mars-jobs.html',loc:'Maryland',country:'US',zip:'',city:'',title:'Research Analytical Scientist',locid:'37d0e42b24c8f2c1',rd:'-G_qKoM687x3IJJZoyXJl1_MKnaSAFGAsD6kfERFt3g'};\n",
      "</script>\n",
      "<style type=\"text/css\">\n",
      ".jobtitle {\n",
      "font-weight: bold;\n",
      "}\n",
      "td.snip b, span.company b, #femp_list .jobtitle, #cmpinfo_list .jobtitle, .jobtitle .new {\n",
      "font-weight: normal;\n",
      "}\n",
      "</style>\n",
      "<style type=\"text/css\">\n",
      "div.row table tr td.snip { line-height: 1.4; }\n",
      "</style>\n",
      "<table border=\"0\" cellpadding=\"0\" cellspacing=\"0\"><tr><td width=\"1125\">\n",
      "<script type=\"text/javascript\">\n",
      "window['ree'] = \"pdsssps\";\n",
      "window['jas'] = \"VZVYzEPYQYM\";\n",
      "</script>\n",
      "<style type=\"text/css\">\n",
      "/* Official Colors */\n",
      "/* https://wiki.indeed.com/display/CS/Indeed+Colors+and+Logos */\n",
      "/* Other Colors */\n",
      "/*Required Styles for Default Grey Button*/\n",
      ".btn {\n",
      "  display: inline-block;\n",
      "  padding: 9px 15px;\n",
      "  border: 1px solid #9a99ac;\n",
      "  border-bottom-color: #a2a2a2;\n",
      "  -webkit-border-radius: 6px;\n",
      "  -moz-border-radius: 6px;\n",
      "  -ms-border-radius: 6px;\n",
      "  -o-border-radius: 6px;\n",
      "  border-radius: 6px;\n",
      "  background-color: #D9D9E2;\n",
      "  background-image: -moz-linear-gradient(top, #F8F8F9, #D9D9E2);\n",
      "  background-image: -webkit-gradient(linear, 0 0, 0 100%, from(#F8F8F9), to(#D9D9E2));\n",
      "  background-image: -webkit-linear-gradient(top, #F8F8F9, #D9D9E2);\n",
      "  background-image: linear-gradient(to bottom, #F8F8F9, #D9D9E2);\n",
      "  background-repeat: repeat-x;\n",
      "  -webkit-box-shadow: 0 1px 5px rgba(0, 0, 0, 0.2);\n",
      "  -moz-box-shadow: 0 1px 5px rgba(0, 0, 0, 0.2);\n",
      "  -ms-box-shadow: 0 1px 5px rgba(0, 0, 0, 0.2);\n",
      "  -o-box-shadow: 0 1px 5px rgba(0, 0, 0, 0.2);\n",
      "  box-shadow: 0 1px 5px rgba(0, 0, 0, 0.2);\n",
      "  color: #333;\n",
      "  vertical-align: middle;\n",
      "  text-align: center;\n",
      "  text-decoration: none;\n",
      "  text-shadow: 0 1px #fff;\n",
      "  font-weight: 700;\n",
      "  font-size: 16px;\n",
      "  font-family: \"Helvetica Neue\", Helvetica, Arial, \"Lucida Grande\", sans-serif;\n",
      "  line-height: 22px;\n",
      "  filter: progid:DXImageTransform.Microsoft.gradient(startColorstr='#F8F8F`9ff',endColorstr='#ffe6e6e6',GradientType=0);\n",
      "  cursor: pointer;\n",
      "  -webkit-user-select: none;\n",
      "  -moz-user-select: none;\n",
      "  -ms-user-select: none;\n",
      "  -o-user-select: none;\n",
      "  user-select: none;\n",
      "  -webkit-touch-callout: none;\n",
      "  -webkit-highlight: none;\n",
      "  -webkit-tap-highlight-color: transparent;\n",
      "  text-overflow: ellipsis;\n",
      "  white-space: nowrap;\n",
      "  overflow: hidden; }\n",
      "  .btn.active,\n",
      "  .btn:active,\n",
      "  .btn.disabled,\n",
      "  .btn[disabled] {\n",
      "    outline: none;\n",
      "    background-color: #F8F8F9;\n",
      "    color: #333; }\n",
      "  .btn:focus {\n",
      "    outline: 0;\n",
      "    box-shadow: 0 0 1px 0 #1642BB;\n",
      "    -webkit-transition: box-shadow 0.2s linear;\n",
      "    -moz-transition: box-shadow 0.2s linear;\n",
      "    transition: box-shadow 0.2s linear; }\n",
      "  .btn.active,\n",
      "  .btn:active {\n",
      "    background-color: #F8F8F9;\n",
      "    background-image: none;\n",
      "    -webkit-box-shadow: inset 0 2px 4px rgba(0, 0, 0, 0.15), 0 1px 2px rgba(0, 0, 0, 0.05);\n",
      "    -moz-box-shadow: inset 0 2px 4px rgba(0, 0, 0, 0.15), 0 1px 2px rgba(0, 0, 0, 0.05);\n",
      "    box-shadow: inset 0 2px 4px rgba(0, 0, 0, 0.15), 0 1px 2px rgba(0, 0, 0, 0.05); }\n",
      "  .btn.disabled,\n",
      "  .btn[disabled] {\n",
      "    background-color: #F8F8F9;\n",
      "    background-image: none;\n",
      "    -webkit-box-shadow: none;\n",
      "    -moz-box-shadow: none;\n",
      "    box-shadow: none;\n",
      "    opacity: .65;\n",
      "    filter: alpha(opacity=65);\n",
      "    cursor: default; }\n",
      "\n",
      "/*Required Styles for Blue Primary Button - Dependent on Default Button Styles*/\n",
      ".btn-primary {\n",
      "  border-color: #1642BB;\n",
      "  background-color: #5585f2;\n",
      "  background-image: -moz-linear-gradient(top, #6598FF, #2E5AD7);\n",
      "  background-image: -webkit-gradient(linear, 0 0, 0 100%, from(#6598FF), to(#2E5AD7));\n",
      "  background-image: -webkit-linear-gradient(top, #6598FF, #2E5AD7);\n",
      "  background-image: linear-gradient(to bottom, #6598FF, #2E5AD7);\n",
      "  background-repeat: repeat-x;\n",
      "  color: #F8F8F9;\n",
      "  text-shadow: 0 -1px #0F2299;\n",
      "  -ms-filter: progid:DXImageTransform.Microsoft.dropshadow(OffX=0,OffY=-1,Color=#e80f2299,Positive=true);\n",
      "  filter: progid:DXImageTransform.Microsoft.dropshadow(OffX=0,OffY=-1,Color=#e80f2299,Positive=true);\n",
      "  filter: progid:DXImageTransform.Microsoft.gradient(startColorstr='#ff6598fe',endColorstr='#ff3c69e0',GradientType=0);\n",
      "  zoom: 1; }\n",
      "  .btn-primary.active,\n",
      "  .btn-primary:active,\n",
      "  .btn-primary.disabled,\n",
      "  .btn-primary[disabled] {\n",
      "    background-color: #2E5AD7;\n",
      "    color: #F8F8F9; }\n",
      "  .btn-primary:focus {\n",
      "    box-shadow: 0 0 1px 0 #000; }\n",
      "\n",
      ".btn-special {\n",
      "  border-color: #BA3200;\n",
      "  background-color: #5585f2;\n",
      "  background-image: -moz-linear-gradient(top, #FF6600, #F14200);\n",
      "  background-image: -webkit-gradient(linear, 0 0, 0 100%, from(#FF6600), to(#F14200));\n",
      "  background-image: -webkit-linear-gradient(top, #FF6600, #F14200);\n",
      "  background-image: linear-gradient(to bottom, #FF6600, #F14200);\n",
      "  background-repeat: repeat-x;\n",
      "  color: #F8F8F9;\n",
      "  text-shadow: 0 -1px #000;\n",
      "  -ms-filter: progid:DXImageTransform.Microsoft.dropshadow(OffX=0,OffY=-1,Color=#e80f2299,Positive=true);\n",
      "  filter: progid:DXImageTransform.Microsoft.dropshadow(OffX=0,OffY=-1,Color=#e80f2299,Positive=true);\n",
      "  filter: progid:DXImageTransform.Microsoft.gradient(startColorstr='#ff6598fe',endColorstr='#ff3c69e0',GradientType=0);\n",
      "  zoom: 1; }\n",
      "  .btn-special.active,\n",
      "  .btn-special:active,\n",
      "  .btn-special.disabled,\n",
      "  .btn-special[disabled] {\n",
      "    background-color: #F14200;\n",
      "    color: #F8F8F9; }\n",
      "  .btn-special:focus {\n",
      "    box-shadow: 0 0 1px 0 #000; }\n",
      "\n",
      ".btn-danger {\n",
      "  border-color: #83121b;\n",
      "  background-color: #5585f2;\n",
      "  background-image: -moz-linear-gradient(top, #d1787f, #b01825);\n",
      "  background-image: -webkit-gradient(linear, 0 0, 0 100%, from(#d1787f), to(#b01825));\n",
      "  background-image: -webkit-linear-gradient(top, #d1787f, #b01825);\n",
      "  background-image: linear-gradient(to bottom, #d1787f, #b01825);\n",
      "  background-repeat: repeat-x;\n",
      "  color: #F8F8F9;\n",
      "  text-shadow: 0 -1px #000;\n",
      "  -ms-filter: progid:DXImageTransform.Microsoft.dropshadow(OffX=0,OffY=-1,Color=#e80f2299,Positive=true);\n",
      "  filter: progid:DXImageTransform.Microsoft.dropshadow(OffX=0,OffY=-1,Color=#e80f2299,Positive=true);\n",
      "  filter: progid:DXImageTransform.Microsoft.gradient(startColorstr='#ff6598fe',endColorstr='#ff3c69e0',GradientType=0);\n",
      "  zoom: 1; }\n",
      "  .btn-danger.active,\n",
      "  .btn-danger:active,\n",
      "  .btn-danger.disabled,\n",
      "  .btn-danger[disabled] {\n",
      "    background-color: #b01825;\n",
      "    color: #F8F8F9; }\n",
      "  .btn-danger:focus {\n",
      "    box-shadow: 0 0 1px 0 #000; }\n",
      "\n",
      "input.btn {\n",
      "  -webkit-appearance: none; }\n",
      "\n",
      "button.btn::-moz-focus-inner {\n",
      "  border: 0; }\n",
      "\n",
      "/*Required Styles for Alternate Button Sizes*/\n",
      ".btn-sm,\n",
      ".btn-xs {\n",
      "  padding: 6px 12px; }\n",
      "\n",
      ".btn-xs {\n",
      "  padding: 3px 6px;\n",
      "  line-height: 15px; }\n",
      "\n",
      ".btn-md {\n",
      "  padding: 6px 6px; }\n",
      "\n",
      ".btn-lg {\n",
      "  padding: 9px 18px;\n",
      "  border-radius: 6px;\n",
      "  font-size: 18px; }\n",
      "\n",
      "/*Required Styles for Block Level Buttons (fill parent container) - Dependent on Default Button Styles*/\n",
      ".btn-block {\n",
      "  display: block;\n",
      "  margin: 9px auto;\n",
      "  box-sizing: border-box;\n",
      "  -moz-box-sizing: border-box;\n",
      "  max-width: 352px; }\n",
      "\n",
      ".btn-block-compact {\n",
      "  margin: 2px auto; }\n",
      "\n",
      "input.btn-block {\n",
      "  width: 100%;\n",
      "  max-width: 351px; }\n",
      "\n",
      ".btn-block + .btn-block {\n",
      "  margin-top: 5px; }\n",
      "\n",
      "#buttonContainer .btn {\n",
      "  margin: 0; }\n",
      "\n",
      ".btn-icon .cssImage {\n",
      "  margin-bottom: -40px;\n",
      "  position: relative;\n",
      "  top: -27px; }\n",
      "\n",
      ".btn-pair {\n",
      "  -webkit-box-sizing: border-box;\n",
      "  -moz-box-sizing: border-box;\n",
      "  box-sizing: border-box;\n",
      "  width: 49%; }\n",
      "</style>\n",
      "<style type=\"text/css\">\n",
      ".basePromo{margin-top:8px;margin-bottom:13px;padding-left:12px;padding-right:12px}.redText{color:red}.bold{font-weight:bold}.basePromo.resume{font-size:14px;margin-top:5px}.basePromo.resume>img{margin-right:5px;margin-bottom:3px}</style>\n",
      "<table border=\"0\" cellpadding=\"0\" cellspacing=\"0\" id=\"pageContent\" width=\"100%\">\n",
      "<tr valign=\"top\">\n",
      "<td data-tn-section=\"refineBy\" id=\"refineresultscol\">\n",
      "<script type=\"text/javascript\">setOpenSectionsCookie( ':rb_Salary Estimate:recentsearches:refineresults' );</script>\n",
      "<div id=\"refineresults\">\n",
      "<h1><font size=\"+1\">data scientist jobs</font></h1>\n",
      "<div style=\"margin-left: 6px; margin-bottom: 1em;\">Sort by: <nobr><b>relevance</b> -\n",
      "            <a href=\"/jobs?q=data+scientist&amp;sort=date\" rel=\"nofollow\">date</a></nobr></div>\n",
      "<script type=\"text/javascript\">\n",
      "function handleRefine(isEvaluated, type, cookieValue) {\n",
      "if (!isEvaluated) {\n",
      "getRefineByOptions(type);\n",
      "}\n",
      "toggleRefineBy(cookieValue);\n",
      "return false;\n",
      "}\n",
      "</script>\n",
      "<div class=\"rbSection rbOpen\" id=\"rb_Salary Estimate\">\n",
      "<div class=\"rbHeader\">\n",
      "<span class=\"ws_label\" onclick=\"handleRefine(true, 'SALARY', 'rb_Salary Estimate')\" onkeyup=\"if (event.keyCode == 13) {handleRefine(true, 'SALARY', 'rb_Salary Estimate')}\" tabindex=\"0\">\n",
      "<span class=\"ico\"></span>\n",
      "Salary Estimate</span>\n",
      "</div>\n",
      "<div class=\"rbsrbo\" id=\"SALARY_rbo\">\n",
      "<ul class=\"rbList\">\n",
      "<li onmousedown=\"rbptk('rb', 'salest', '1');\">\n",
      "<a href=\"/q-data-scientist-$50,000-jobs.html\" rel=\"nofollow\" title=\"$50,000+ (19259)\">$50,000+</a> (19259)</li>\n",
      "<li onmousedown=\"rbptk('rb', 'salest', '2');\">\n",
      "<a href=\"/q-data-scientist-$70,000-jobs.html\" rel=\"nofollow\" title=\"$70,000+ (14854)\">$70,000+</a> (14854)</li>\n",
      "<li onmousedown=\"rbptk('rb', 'salest', '3');\">\n",
      "<a href=\"/q-data-scientist-$90,000-jobs.html\" rel=\"nofollow\" title=\"$90,000+ (9529)\">$90,000+</a> (9529)</li>\n",
      "<li onmousedown=\"rbptk('rb', 'salest', '4');\">\n",
      "<a href=\"/q-data-scientist-$110,000-jobs.html\" rel=\"nofollow\" title=\"$110,000+ (5974)\">$110,000+</a> (5974)</li>\n",
      "<li onmousedown=\"rbptk('rb', 'salest', '5');\">\n",
      "<a href=\"/q-data-scientist-$130,000-jobs.html\" rel=\"nofollow\" title=\"$130,000+ (1390)\">$130,000+</a> (1390)</li>\n",
      "</ul>\n",
      "</div>\n",
      "</div>\n",
      "<div class=\"rbSection \" id=\"rb_Title\">\n",
      "<div class=\"rbHeader\">\n",
      "<span class=\"ws_label\" onclick=\"handleRefine(false, 'TITLE', 'rb_Title')\" onkeyup=\"if (event.keyCode == 13) {handleRefine(false, 'TITLE', 'rb_Title')}\" tabindex=\"0\">\n",
      "<span class=\"ico\"></span>\n",
      "Title</span>\n",
      "</div>\n",
      "<div class=\"rbsrbo\" id=\"TITLE_rbo\">\n",
      "</div>\n",
      "</div>\n",
      "<div class=\"rbSection \" id=\"rb_Company\">\n",
      "<div class=\"rbHeader\">\n",
      "<span class=\"ws_label\" onclick=\"handleRefine(false, 'COMPANY', 'rb_Company')\" onkeyup=\"if (event.keyCode == 13) {handleRefine(false, 'COMPANY', 'rb_Company')}\" tabindex=\"0\">\n",
      "<span class=\"ico\"></span>\n",
      "Company</span>\n",
      "</div>\n",
      "<div class=\"rbsrbo\" id=\"COMPANY_rbo\">\n",
      "</div>\n",
      "</div>\n",
      "<div class=\"rbSection \" id=\"rb_Location\">\n",
      "<div class=\"rbHeader\">\n",
      "<span class=\"ws_label\" onclick=\"handleRefine(false, 'LOCATION', 'rb_Location')\" onkeyup=\"if (event.keyCode == 13) {handleRefine(false, 'LOCATION', 'rb_Location')}\" tabindex=\"0\">\n",
      "<span class=\"ico\"></span>\n",
      "Location</span>\n",
      "</div>\n",
      "<div class=\"rbsrbo\" id=\"LOCATION_rbo\">\n",
      "</div>\n",
      "</div>\n",
      "<div class=\"rbSection \" id=\"rb_Job Type\">\n",
      "<div class=\"rbHeader\">\n",
      "<span class=\"ws_label\" onclick=\"handleRefine(false, 'JOB_TYPE', 'rb_Job Type')\" onkeyup=\"if (event.keyCode == 13) {handleRefine(false, 'JOB_TYPE', 'rb_Job Type')}\" tabindex=\"0\">\n",
      "<span class=\"ico\"></span>\n",
      "Job Type</span>\n",
      "</div>\n",
      "<div class=\"rbsrbo\" id=\"JOB_TYPE_rbo\">\n",
      "</div>\n",
      "</div>\n",
      "<div class=\"rbSection \" id=\"rb_Employer/Recruiter\">\n",
      "<div class=\"rbHeader\">\n",
      "<span class=\"ws_label\" onclick=\"handleRefine(false, 'SOURCE_TYPE', 'rb_Employer/Recruiter')\" onkeyup=\"if (event.keyCode == 13) {handleRefine(false, 'SOURCE_TYPE', 'rb_Employer/Recruiter')}\" tabindex=\"0\">\n",
      "<span class=\"ico\"></span>\n",
      "Employer/Recruiter</span>\n",
      "</div>\n",
      "<div class=\"rbsrbo\" id=\"SOURCE_TYPE_rbo\">\n",
      "</div>\n",
      "</div>\n",
      "</div>\n",
      "</td>\n",
      "<td id=\"resultsCol\">\n",
      "<div class=\"messageContainer\">\n",
      "<script type=\"text/javascript\">\n",
      "function setJaPromoCookie() {\n",
      "var expires = new Date();\n",
      "expires.setTime(expires.getTime() + (5 * 365 * 24 * 60 * 60 * 1000));\n",
      "setCookie(\"showJaPromo\", \"1\", expires);\n",
      "}\n",
      "</script>\n",
      "<p class=\"message\">Tip: Enter your zip code in the \"where\" box to show results in your area.</p>\n",
      "</div>\n",
      "<style type=\"text/css\">\n",
      "#increased_radius_result {\n",
      "font-size: 16px;\n",
      "font-style: italic;\n",
      "}\n",
      "#original_radius_result{\n",
      "font-size: 13px;\n",
      "font-style: italic;\n",
      "color: #666666;\n",
      "}\n",
      "</style>\n",
      "<div style=\"padding-top:9px;\"><div id=\"searchCount\">Jobs 1 to 10 of 22,860</div>\n",
      "<div data-tn-section=\"primePromo\" id=\"primePromo\">\n",
      "<span class=\"new\">New!</span> <a href=\"/promo/prime\" onmousedown=\"this.href = appendParamsOnce( this.href, '?from=serptop&amp;subfrom=primeprmtop&amp;trk.origin=jobsearch&amp;trk.variant=primeprmtop&amp;trk.tk=19unsnff9511m9rt')\">Join Indeed Prime</a> - Get offers from great tech companies</div></div>\n",
      "<script type=\"text/javascript\">\n",
      "window['sjl'] = \"AVEh7wAOae\";\n",
      "</script>\n",
      "<style type=\"text/css\">\n",
      ".AVEh7wAOae { margin: 0 0 6px 0; padding: 0; _zoom:100%; border: 0; background-color: #fff; }\n",
      ".AVEh7wAOae .jobtitle { white-space: nowrap; float:@LINE_START@; _float: none; }\n",
      ".AVEh7wAOae .sdn { color: #CD29C0; }\n",
      ".bYxfpSKky .brdr { margin-top: 12px; }\n",
      ".puqY1bM4Jh .brdr { margin-bottom: 12px; }\n",
      "@media only screen and (min-height:780px) {\n",
      ".bYxfpSKky { margin-bottom: 9px; }\n",
      ".puqY1bM4Jh .brdr,\n",
      ".bYxfpSKky .brdr { margin-bottom: 9px; margin-top: 9px; }\n",
      "}\n",
      "</style>\n",
      "<div></div><div class=\"AVEh7wAOae bYxfpSKky\" data-tn-section=\"sponsoredJobs\">\n",
      "<div class=\"row result\" data-jk=\"88c2d3973e33de7f\" data-tn-component=\"sponsoredJob\" id=\"sjob_88c2d3973e33de7f\">\n",
      "<a class=\"jobtitle turnstileLink\" data-tn-element=\"jobTitle\" href=\"/pagead/clk?mo=r&amp;ad=-6NYlbfkN0A8mQm1NTTVeUVQbc8V-0m-k_TOBswl-59orzIIYuOYKrjm5Dp25fumEuSEk_m9Yr-3Kv8BacapkhB0CvOVKys-nLThw2BdEn0pEfC-DL8H8P5eNYVvi7f4RhBhzr0IgmDDRR9LTUTCUmR6zJ43kBWp6GEBqdyw_15amoUl8M9UvhlpDYyO_lYmKriPjubJgfluBI4GZ7cCFa-tkc94JYVcIRFG95H2CPSRJNJsGbg33eW0Nq1jj8IfMVi_bdQI6FeE0zvrzjYt6fUrVVgAnlQ92ruNfhzdn4bWLnNsB-gHKvzJGANm_jixB8XQWm-IDfsPqyqxarUl5FoOWxbjZH5GMsud_CKcSuCS-_pz8pmBY0FrcEVQERZWof9yi19C0_CavztP_37i-PZRFRPz7CxRIHk6FEYYTw6wdOsTagK2lVrsaTRdTzdks60MDx8sNM-xH2SiiPxbE-ZGwcjXjR63bdmPRUyJ-lIr5WSwDLr9bu2rZpySPcCjhDUqE6FELZyUii90JD7iIGQKkOPymxH1WYj1ZUHUXJI=&amp;p=1&amp;sk=bebb41335ed80f2a&amp;fvj=0\" id=\"sja1\" onclick=\"sjoc('sja1',0); convCtr('SJ', pingUrlsForGA)\" onmousedown=\"sjomd('sja1'); clk('sja1');\" rel=\"nofollow\" target=\"_blank\" title=\"Senior Data Science Engineer - Research Analytics\">Senior <b>Data</b> Science Engineer - Research Analytics</a>\n",
      "<br/>\n",
      "<div class=\"sjcl\">\n",
      "<span class=\"company\">\n",
      "    Castlight Health</span>\n",
      "\n",
      "\n",
      "- <span class=\"location\">San Francisco Bay Area, CA</span>\n",
      "</div>\n",
      "<table border=\"0\" cellpadding=\"0\" cellspacing=\"0\"><tr><td class=\"snip\">\n",
      "<span class=\"summary\">Health <b>data</b> experience is a plus, but it's not necessary - the team includes clinical experts who can supply the necessary medical background....</span>\n",
      "</td></tr></table>\n",
      "<div class=\"result-link-bar-container\">\n",
      "<div class=\"result-link-bar\"><span class=\"date\">30 days ago</span> <span class=\"tt_set\" id=\"tt_set_10\">  -  <a class=\"sl resultLink tellafriend-link \" href=\"mailto:?subject=I found this job on Indeed&amp;body=http://www.indeed.com\" onclick=\"toggleTellAFriend('88c2d3973e33de7f', 10, true); return false;\">email</a></span><div class=\"edit_note_content\" id=\"editsaved2_88c2d3973e33de7f\" style=\"display:none;\"></div><script>window['sj_result_88c2d3973e33de7f'] = {\"showSource\": false, \"source\": \"Castlight Health\", \"loggedIn\": false, \"showMyJobsLinks\": false,\"undoAction\": \"unsave\",\"relativeJobAge\": \"30 days ago\",\"jobKey\": \"88c2d3973e33de7f\", \"myIndeedAvailable\": true, \"tellAFriendEnabled\": true, \"showMoreActionsLink\": false, \"resultNumber\": 10, \"jobStateChangedToSaved\": false, \"searchState\": \"q=data scientist&amp;\", \"basicPermaLink\": \"http://www.indeed.com\", \"saveJobFailed\": false, \"removeJobFailed\": false, \"requestPending\": false, \"notesEnabled\": false, \"currentPage\" : \"serp\", \"sponsored\" : true};</script></div></div>\n",
      "<div class=\"tab-container\">\n",
      "<div class=\"tellafriend-container result-tab email_job_content\"></div>\n",
      "</div>\n",
      "<span class=\"sdn\">Sponsored by <b>Castlight Health</b></span></div>\n",
      "<div class=\"row result\" data-jk=\"936fb8ea0311ea89\" data-tn-component=\"sponsoredJob\" id=\"sjob_936fb8ea0311ea89\">\n",
      "<a class=\"jobtitle turnstileLink\" data-tn-element=\"jobTitle\" href=\"/pagead/clk?mo=r&amp;ad=-6NYlbfkN0BDxmDe5PwhMO3og9pGTs6Rp_gg6zEWFrrgLag9x0U8uhq7W4r8SDBtkgF1M5u0bCccN-vj4eB8DhVRaQhuzOIix44-K6DSRO2OslnSkqc4QibK65W9f9ckB94BpUGhXAuVBSmxThOU-kpLbh9lh7U57qjekO_zwAAwdRmexv-T6RB-1b4ZzOYh4KLS5kHsTNxaKZ0fIzLnME-y1Ht5OExsYdgohnQfxg5bXrPH4tMddX_YoYKJ9O5rSdIMBqiALHXEfwloRPR-6MEFAeZheLKWtrG1qbPKAWq4fm6tOVjPLeAg9VMNJvMzlFABtgCRXkx1TPlEagwSY6uAPORO4NY8z6DANXX-zaKK7twuTG-7oXffrVLE4pxqjXa7t8SvGWdTnwsrLU3HOcNyF7qz1lCC3GdMKR_5EvaI2Hw9zgyKpGpOprJIzwfNnSYb4IPzMBM=&amp;p=2&amp;sk=bebb41335ed80f2a&amp;fvj=1\" id=\"sja2\" onclick=\"sjoc('sja2',0); convCtr('SJ', pingUrlsForGA)\" onmousedown=\"sjomd('sja2'); clk('sja2');\" rel=\"nofollow\" target=\"_blank\" title=\"R&amp;D Scientist (Positioning/Location)\">R&amp;D <b>Scientist</b> (Positioning/Location)</a>\n",
      "<br/>\n",
      "<div class=\"sjcl\">\n",
      "<span class=\"company\">\n",
      "    GeoSearch, Inc.</span>\n",
      "\n",
      "\n",
      "- <span class=\"location\">Boston, MA</span>\n",
      "</div>\n",
      "<table border=\"0\" cellpadding=\"0\" cellspacing=\"0\"><tr><td class=\"snip\">\n",
      "<span class=\"summary\">Experience with handling big <b>data</b>, and statistical <b>data</b> analysis. R&amp;D <b>Scientist</b> Qualifications:. We look for the following in our R&amp;D <b>Scientist</b>:....</span>\n",
      "</td></tr></table>\n",
      "<div class=\"iaP\">\n",
      "<span class=\"iaLabel\"> Easily apply</span>\n",
      "</div>\n",
      "<div class=\"result-link-bar-container\">\n",
      "<div class=\"result-link-bar\"><span class=\"date\">19 days ago</span> <span class=\"tt_set\" id=\"tt_set_11\">  -  <a class=\"sl resultLink tellafriend-link \" href=\"mailto:?subject=I found this job on Indeed&amp;body=http://www.indeed.com\" onclick=\"toggleTellAFriend('936fb8ea0311ea89', 11, true); return false;\">email</a></span><div class=\"edit_note_content\" id=\"editsaved2_936fb8ea0311ea89\" style=\"display:none;\"></div><script>window['sj_result_936fb8ea0311ea89'] = {\"showSource\": false, \"source\": \"Indeed\", \"loggedIn\": false, \"showMyJobsLinks\": false,\"undoAction\": \"unsave\",\"relativeJobAge\": \"19 days ago\",\"jobKey\": \"936fb8ea0311ea89\", \"myIndeedAvailable\": true, \"tellAFriendEnabled\": true, \"showMoreActionsLink\": false, \"resultNumber\": 11, \"jobStateChangedToSaved\": false, \"searchState\": \"q=data scientist&amp;\", \"basicPermaLink\": \"http://www.indeed.com\", \"saveJobFailed\": false, \"removeJobFailed\": false, \"requestPending\": false, \"notesEnabled\": false, \"currentPage\" : \"serp\", \"sponsored\" : true};</script></div></div>\n",
      "<div class=\"tab-container\">\n",
      "<div class=\"tellafriend-container result-tab email_job_content\"></div>\n",
      "</div>\n",
      "<span class=\"sdn\">Sponsored by <b>GeoSearch, Inc.</b></span></div>\n",
      "<div class=\"row sjlast result\" data-jk=\"8607381f84978371\" data-tn-component=\"sponsoredJob\" id=\"sjob_8607381f84978371\">\n",
      "<a class=\"jobtitle turnstileLink\" data-tn-element=\"jobTitle\" href=\"/pagead/clk?mo=r&amp;ad=-6NYlbfkN0A7E6BG5RR4yQrnfOxbtY_ob19QWhgthpUMzQ9KQZMte8jS0YYxihz7f-ro3c4MI4UFsBo5CKqcXFN-OTV_jTBeTxz_idgVYUt-I3citLbIGM2cIR5pJec329tStEsujxzG6rZb0OF8tIEjc7DAia9BsVD1eQMlCX_0Ok3xpi0P56PGFLoQc1CB3pb_3JtDyrJfTv75Jjyrtvnt5eQNcl9gPwT_5_aYJEaPlxYbrUk2ibEoFqdnqauSF9HeS6ag5g4ITh-CuFocNJINwQlh90Hp5zXk5QVB3ovLcEGnAxJuvzI_5-rM5zz_bA37MmSghib96DZrMnl2sqp3RZJ-byGEUiIpG5ZP__ptQH9_HLomBAIFRf1uTJgnSz26Jt-KdhHNbJbvu0H1zd6ZC1GB98aJE9FFtnGMHBa6seDBSyaQ5w==&amp;p=3&amp;sk=bebb41335ed80f2a&amp;fvj=1\" id=\"sja3\" onclick=\"sjoc('sja3',0); convCtr('SJ', pingUrlsForGA)\" onmousedown=\"sjomd('sja3'); clk('sja3');\" rel=\"nofollow\" target=\"_blank\" title=\"Data Scientist/Analyst\"><b>Data</b> <b>Scientist</b>/Analyst</a>\n",
      "<br/>\n",
      "<div class=\"sjcl\">\n",
      "<span class=\"company\">\n",
      "    Millennium Software Incorporated</span>\n",
      "\n",
      "\n",
      "- <span class=\"location\">Dearborn, MI</span>\n",
      "</div>\n",
      "<table border=\"0\" cellpadding=\"0\" cellspacing=\"0\"><tr><td class=\"snip\">\n",
      "<span class=\"summary\">Strong working knowledge of <b>Data</b> Gathering tools such as Perl, Python, Hadoop, SQL, R and/or Excel. The ideal candidate will have strong technical skills...</span>\n",
      "</td></tr></table>\n",
      "<div class=\"iaP\">\n",
      "<span class=\"iaLabel\"> Easily apply</span>\n",
      "</div>\n",
      "<div class=\"result-link-bar-container\">\n",
      "<div class=\"result-link-bar\"><span class=\"date\">30+ days ago</span> <span class=\"tt_set\" id=\"tt_set_12\">  -  <a class=\"sl resultLink tellafriend-link \" href=\"mailto:?subject=I found this job on Indeed&amp;body=http://www.indeed.com\" onclick=\"toggleTellAFriend('8607381f84978371', 12, true); return false;\">email</a></span><div class=\"edit_note_content\" id=\"editsaved2_8607381f84978371\" style=\"display:none;\"></div><script>window['sj_result_8607381f84978371'] = {\"showSource\": false, \"source\": \"Indeed\", \"loggedIn\": false, \"showMyJobsLinks\": false,\"undoAction\": \"unsave\",\"relativeJobAge\": \"30+ days ago\",\"jobKey\": \"8607381f84978371\", \"myIndeedAvailable\": true, \"tellAFriendEnabled\": true, \"showMoreActionsLink\": false, \"resultNumber\": 12, \"jobStateChangedToSaved\": false, \"searchState\": \"q=data scientist&amp;\", \"basicPermaLink\": \"http://www.indeed.com\", \"saveJobFailed\": false, \"removeJobFailed\": false, \"requestPending\": false, \"notesEnabled\": false, \"currentPage\" : \"serp\", \"sponsored\" : true};</script></div></div>\n",
      "<div class=\"tab-container\">\n",
      "<div class=\"tellafriend-container result-tab email_job_content\"></div>\n",
      "</div>\n",
      "<span class=\"sdn\">Sponsored by <b>Millennium Software Incorporated</b></span></div>\n",
      "<div class=\"brdr\"><!-- --></div></div>\n",
      "<div class=\" row result\" data-jk=\"7adb97d6b6483591\" data-tn-component=\"organicJob\" id=\"p_7adb97d6b6483591\" itemscope=\"\" itemtype=\"http://schema.org/JobPosting\">\n",
      "<h2 class=\"jobtitle\" id=\"jl_7adb97d6b6483591\">\n",
      "<a class=\"turnstileLink\" data-tn-element=\"jobTitle\" href=\"/rc/clk?jk=7adb97d6b6483591\" itemprop=\"title\" onclick=\"return rclk(this,jobmap[0],true,0);\" onmousedown=\"return rclk(this,jobmap[0],0);\" rel=\"nofollow\" target=\"_blank\" title=\"Data Scientist\"><b>Data</b> <b>Scientist</b></a>\n",
      "</h2>\n",
      "<span class=\"company\" itemprop=\"hiringOrganization\" itemtype=\"http://schema.org/Organization\">\n",
      "<span itemprop=\"name\">\n",
      "    Zaius</span>\n",
      "</span>\n",
      "\n",
      "\n",
      "- <span itemprop=\"jobLocation\" itemscope=\"\" itemtype=\"http://schema.org/Place\"><span class=\"location\" itemprop=\"address\" itemscope=\"\" itemtype=\"http://schema.org/Postaladdress\"><span itemprop=\"addressLocality\">Boston, MA</span></span></span>\n",
      "<table border=\"0\" cellpadding=\"0\" cellspacing=\"0\">\n",
      "<tr>\n",
      "<td class=\"snip\">\n",
      "<div>\n",
      "<span class=\"summary\" itemprop=\"description\">\n",
      "World wide event collection, real-time processing, machine learning, big <b>data</b> analytics and <b>data</b> visualization, all at scale....</span>\n",
      "</div>\n",
      "<div class=\"result-link-bar-container\">\n",
      "<div class=\"result-link-bar\"><span class=\"result-link-source\">VentureFizz </span>- <span class=\"date\">4 hours ago</span> <span class=\"tt_set\" id=\"tt_set_0\">-  <a class=\"sl resultLink save-job-link \" href=\"#\" id=\"sj_7adb97d6b6483591\" onclick=\"changeJobState('7adb97d6b6483591', 'save', 'linkbar', false); return false;\" title=\"Save this job to my.indeed\">save job</a>  -  <a class=\"sl resultLink tellafriend-link \" href=\"mailto:?subject=I found this job on Indeed&amp;body=http://www.indeed.com\" onclick=\"toggleTellAFriend('7adb97d6b6483591', 0, false); return false;\">email</a> - <a class=\"sl resultLink more-link \" href=\"#\" id=\"tog_0\" onclick=\"toggleMoreLinks('7adb97d6b6483591'); return false;\">more...</a></span><div class=\"edit_note_content\" id=\"editsaved2_7adb97d6b6483591\" style=\"display:none;\"></div><script>window['result_7adb97d6b6483591'] = {\"showSource\": true, \"source\": \"VentureFizz\", \"loggedIn\": false, \"showMyJobsLinks\": false,\"undoAction\": \"unsave\",\"relativeJobAge\": \"4 hours ago\",\"jobKey\": \"7adb97d6b6483591\", \"myIndeedAvailable\": true, \"tellAFriendEnabled\": true, \"showMoreActionsLink\": true, \"resultNumber\": 0, \"jobStateChangedToSaved\": false, \"searchState\": \"q=data scientist&amp;\", \"basicPermaLink\": \"http://www.indeed.com\", \"saveJobFailed\": false, \"removeJobFailed\": false, \"requestPending\": false, \"notesEnabled\": true, \"currentPage\" : \"serp\", \"sponsored\" : false};</script></div></div>\n",
      "<div class=\"tab-container\">\n",
      "<div class=\"more-links-container result-tab\" id=\"tt_display_0\" style=\"display:none;\"><a class=\"close-link closeLink\" href=\"#\" onclick=\"toggleMoreLinks('7adb97d6b6483591'); return false;\" title=\"Close\"></a><div class=\"more_actions\" id=\"more_0\"><ul><li><span class=\"mat\">View all <a href=\"/q-Zaius-l-Boston,-MA-jobs.html\" rel=\"nofollow\">Zaius jobs in Boston, MA</a> - <a href=\"/l-Boston,-MA-jobs.html\">Boston jobs</a></span></li><li><span class=\"mat\">Salary Search: <a href=\"/salary?q1=Data+Scientist&amp;l1=Boston%2C+MA\">Data Scientist salaries in Boston, MA</a></span></li><li><span class=\"mat\">Related forums: <a href=\"/forum/loc/Boston-Massachusetts.html\">Boston, Massachusetts</a> - <a href=\"/forum/cmp/Zaius.html\">Zaius</a> - <a href=\"\">-</a></span></li></ul></div></div><div class=\"dya-container result-tab\"></div>\n",
      "<div class=\"tellafriend-container result-tab email_job_content\"></div>\n",
      "<div class=\"sign-in-container result-tab\"></div>\n",
      "<div class=\"notes-container result-tab\"></div>\n",
      "</div>\n",
      "</td>\n",
      "</tr>\n",
      "</table>\n",
      "</div>\n",
      "<div class=\" row result\" data-jk=\"fae72cf35fbb821b\" data-tn-component=\"organicJob\" id=\"p_fae72cf35fbb821b\" itemscope=\"\" itemtype=\"http://schema.org/JobPosting\">\n",
      "<h2 class=\"jobtitle\" id=\"jl_fae72cf35fbb821b\">\n",
      "<a class=\"turnstileLink\" data-tn-element=\"jobTitle\" href=\"/cmp/CAT-TECHNOLOGY-INC/jobs/Data-Scientist-fae72cf35fbb821b?r=1\" itemprop=\"title\" onclick=\"return rclk(this,jobmap[1],true,0);\" onmousedown=\"return rclk(this,jobmap[1],0);\" rel=\"nofollow\" target=\"_blank\" title=\"Data scientist\"><b>Data</b> <b>scientist</b></a>\n",
      "</h2>\n",
      "<span class=\"company\" itemprop=\"hiringOrganization\" itemtype=\"http://schema.org/Organization\">\n",
      "<span itemprop=\"name\">\n",
      "    CAT Technology Inc</span>\n",
      "</span>\n",
      "\n",
      "\n",
      "- <span itemprop=\"jobLocation\" itemscope=\"\" itemtype=\"http://schema.org/Place\"><span class=\"location\" itemprop=\"address\" itemscope=\"\" itemtype=\"http://schema.org/Postaladdress\"><span itemprop=\"addressLocality\">Wilton, CT</span></span></span>\n",
      "<table border=\"0\" cellpadding=\"0\" cellspacing=\"0\">\n",
      "<tr>\n",
      "<td class=\"snip\">\n",
      "<div>\n",
      "<span class=\"summary\" itemprop=\"description\">\n",
      "Job Title: Data scientist Location: Wilton, CT Duration: 6+ Months Contract Must Have:  Deep expertise using MS SQL server a must. Experience with cubes,...</span>\n",
      "</div>\n",
      "<div class=\"iaP\">\n",
      "<span class=\"iaLabel\"> Easily apply</span>\n",
      "</div>\n",
      "<div class=\"result-link-bar-container\">\n",
      "<div class=\"result-link-bar\"><span class=\"date\">3 hours ago</span> <span class=\"tt_set\" id=\"tt_set_1\">-  <a class=\"sl resultLink save-job-link \" href=\"#\" id=\"sj_fae72cf35fbb821b\" onclick=\"changeJobState('fae72cf35fbb821b', 'save', 'linkbar', false); return false;\" title=\"Save this job to my.indeed\">save job</a>  -  <a class=\"sl resultLink tellafriend-link \" href=\"mailto:?subject=I found this job on Indeed&amp;body=http://www.indeed.com\" onclick=\"toggleTellAFriend('fae72cf35fbb821b', 1, false); return false;\">email</a> - <a class=\"sl resultLink more-link \" href=\"#\" id=\"tog_1\" onclick=\"toggleMoreLinks('fae72cf35fbb821b'); return false;\">more...</a></span><div class=\"edit_note_content\" id=\"editsaved2_fae72cf35fbb821b\" style=\"display:none;\"></div><script>window['result_fae72cf35fbb821b'] = {\"showSource\": false, \"source\": \"Indeed\", \"loggedIn\": false, \"showMyJobsLinks\": false,\"undoAction\": \"unsave\",\"relativeJobAge\": \"3 hours ago\",\"jobKey\": \"fae72cf35fbb821b\", \"myIndeedAvailable\": true, \"tellAFriendEnabled\": true, \"showMoreActionsLink\": true, \"resultNumber\": 1, \"jobStateChangedToSaved\": false, \"searchState\": \"q=data scientist&amp;\", \"basicPermaLink\": \"http://www.indeed.com\", \"saveJobFailed\": false, \"removeJobFailed\": false, \"requestPending\": false, \"notesEnabled\": true, \"currentPage\" : \"serp\", \"sponsored\" : false};</script></div></div>\n",
      "<div class=\"tab-container\">\n",
      "<div class=\"more-links-container result-tab\" id=\"tt_display_1\" style=\"display:none;\"><a class=\"close-link closeLink\" href=\"#\" onclick=\"toggleMoreLinks('fae72cf35fbb821b'); return false;\" title=\"Close\"></a><div class=\"more_actions\" id=\"more_1\"><ul><li><span class=\"mat\">View all <a href=\"/q-Cat-Technology-l-Wilton,-CT-jobs.html\" rel=\"nofollow\">CAT Technology jobs in Wilton, CT</a> - <a href=\"/l-Wilton,-CT-jobs.html\">Wilton jobs</a></span></li><li><span class=\"mat\">Salary Search: <a href=\"/salary?q1=Data+Scientist&amp;l1=Wilton%2C+CT\">Data Scientist salaries in Wilton, CT</a></span></li><li><span class=\"mat\">Related forums: <a href=\"/forum/loc/Wilton-Connecticut.html\">Wilton, Connecticut</a> - <a href=\"/forum/cmp/Cat-Technology-Inc-4.html\">CAT TECHNOLOGY INC</a> - <a href=\"\">-</a></span></li></ul></div></div><div class=\"dya-container result-tab\"></div>\n",
      "<div class=\"tellafriend-container result-tab email_job_content\"></div>\n",
      "<div class=\"sign-in-container result-tab\"></div>\n",
      "<div class=\"notes-container result-tab\"></div>\n",
      "</div>\n",
      "</td>\n",
      "</tr>\n",
      "</table>\n",
      "</div>\n",
      "<div class=\" row result\" data-jk=\"3b657e6ce13a1c7e\" data-tn-component=\"organicJob\" id=\"p_3b657e6ce13a1c7e\" itemscope=\"\" itemtype=\"http://schema.org/JobPosting\">\n",
      "<h2 class=\"jobtitle\" id=\"jl_3b657e6ce13a1c7e\">\n",
      "<a class=\"turnstileLink\" data-tn-element=\"jobTitle\" href=\"/rc/clk?jk=3b657e6ce13a1c7e\" itemprop=\"title\" onclick=\"return rclk(this,jobmap[2],true,0);\" onmousedown=\"return rclk(this,jobmap[2],0);\" rel=\"nofollow\" target=\"_blank\" title=\"Data Scientist\"><b>Data</b> <b>Scientist</b></a>\n",
      "</h2>\n",
      "<span class=\"company\" itemprop=\"hiringOrganization\" itemtype=\"http://schema.org/Organization\">\n",
      "<span itemprop=\"name\">\n",
      "    Adobe</span>\n",
      "</span>\n",
      "<a class=\"turnstileLink \" data-tn-element=\"reviewStars\" data-tn-variant=\"\" href=\"/cmp/Adobe/reviews?from=SERP\" onmousedown=\"this.href = appendParamsOnce(this.href, '?campaignid=SERP&amp;jt=Data+Scientist');\" title=\"Adobe reviews\"><span class=\"ratings\"><span class=\"rating\" style=\"width:45.916667461395264px;\"><!-- --></span></span></a>\n",
      "<a class=\"turnstileLink \" data-tn-element=\"reviewLink\" data-tn-variant=\"\" href=\"/cmp/Adobe/reviews?from=SERP\" onmousedown=\"this.href = appendParamsOnce(this.href, '?campaignid=SERP&amp;jt=Data+Scientist');\" title=\"Adobe reviews\">132 reviews</a>\n",
      "\n",
      "- <span itemprop=\"jobLocation\" itemscope=\"\" itemtype=\"http://schema.org/Place\"><span class=\"location\" itemprop=\"address\" itemscope=\"\" itemtype=\"http://schema.org/Postaladdress\"><span itemprop=\"addressLocality\">San Jose, CA</span></span></span>\n",
      "<table border=\"0\" cellpadding=\"0\" cellspacing=\"0\">\n",
      "<tr>\n",
      "<td class=\"snip\">\n",
      "<div>\n",
      "<span class=\"summary\" itemprop=\"description\">\n",
      "Leveraging advanced statistical modeling, machine learning and/or <b>data</b> mining. Learning and/or <b>data</b> mining techniques....</span>\n",
      "</div>\n",
      "<div class=\"result-link-bar-container\">\n",
      "<div class=\"result-link-bar\"><span class=\"date\">4 hours ago</span> <span class=\"tt_set\" id=\"tt_set_2\">-  <a class=\"sl resultLink save-job-link \" href=\"#\" id=\"sj_3b657e6ce13a1c7e\" onclick=\"changeJobState('3b657e6ce13a1c7e', 'save', 'linkbar', false); return false;\" title=\"Save this job to my.indeed\">save job</a>  -  <a class=\"sl resultLink tellafriend-link \" href=\"mailto:?subject=I found this job on Indeed&amp;body=http://www.indeed.com\" onclick=\"toggleTellAFriend('3b657e6ce13a1c7e', 2, false); return false;\">email</a> - <a class=\"sl resultLink more-link \" href=\"#\" id=\"tog_2\" onclick=\"toggleMoreLinks('3b657e6ce13a1c7e'); return false;\">more...</a></span><div class=\"edit_note_content\" id=\"editsaved2_3b657e6ce13a1c7e\" style=\"display:none;\"></div><script>window['result_3b657e6ce13a1c7e'] = {\"showSource\": false, \"source\": \"Adobe\", \"loggedIn\": false, \"showMyJobsLinks\": false,\"undoAction\": \"unsave\",\"relativeJobAge\": \"4 hours ago\",\"jobKey\": \"3b657e6ce13a1c7e\", \"myIndeedAvailable\": true, \"tellAFriendEnabled\": true, \"showMoreActionsLink\": true, \"resultNumber\": 2, \"jobStateChangedToSaved\": false, \"searchState\": \"q=data scientist&amp;\", \"basicPermaLink\": \"http://www.indeed.com\", \"saveJobFailed\": false, \"removeJobFailed\": false, \"requestPending\": false, \"notesEnabled\": true, \"currentPage\" : \"serp\", \"sponsored\" : false};</script></div></div>\n",
      "<div class=\"tab-container\">\n",
      "<div class=\"more-links-container result-tab\" id=\"tt_display_2\" style=\"display:none;\"><a class=\"close-link closeLink\" href=\"#\" onclick=\"toggleMoreLinks('3b657e6ce13a1c7e'); return false;\" title=\"Close\"></a><div class=\"more_actions\" id=\"more_2\"><ul><li><span class=\"mat\">View all <a href=\"/q-Adobe-l-San-Jose,-CA-jobs.html\" rel=\"nofollow\">Adobe jobs in San Jose, CA</a> - <a href=\"/l-San-Jose,-CA-jobs.html\">San Jose jobs</a></span></li><li><span class=\"mat\">Salary Search: <a href=\"/salary?q1=Data+Scientist&amp;l1=San+Jose%2C+CA\">Data Scientist salaries in San Jose, CA</a></span></li><li><span class=\"mat\">Learn more about working at <a href=\"/cmp/Adobe\">Adobe</a></span></li><li><span class=\"mat\">Related forums: <a href=\"/forum/loc/SAN-Jose-California.html\">SAN Jose, California</a> - <a href=\"/forum/cmp/Adobe.html\">Adobe</a> - <a href=\"\">-</a></span></li></ul></div></div><div class=\"dya-container result-tab\"></div>\n",
      "<div class=\"tellafriend-container result-tab email_job_content\"></div>\n",
      "<div class=\"sign-in-container result-tab\"></div>\n",
      "<div class=\"notes-container result-tab\"></div>\n",
      "</div>\n",
      "</td>\n",
      "</tr>\n",
      "</table>\n",
      "</div>\n",
      "<div class=\" row result\" data-jk=\"57bd97fbbacb533d\" data-tn-component=\"organicJob\" id=\"p_57bd97fbbacb533d\" itemscope=\"\" itemtype=\"http://schema.org/JobPosting\">\n",
      "<h2 class=\"jobtitle\" id=\"jl_57bd97fbbacb533d\">\n",
      "<a class=\"turnstileLink\" data-tn-element=\"jobTitle\" href=\"/rc/clk?jk=57bd97fbbacb533d\" itemprop=\"title\" onclick=\"return rclk(this,jobmap[3],true,0);\" onmousedown=\"return rclk(this,jobmap[3],0);\" rel=\"nofollow\" target=\"_blank\" title=\"Data Science - Professional Services Consultant (East Coast)\"><b>Data</b> Science - Professional Services Consultant (East Coast)</a>\n",
      "</h2>\n",
      "<span class=\"company\" itemprop=\"hiringOrganization\" itemtype=\"http://schema.org/Organization\">\n",
      "<span itemprop=\"name\">\n",
      "    MapR</span>\n",
      "</span>\n",
      "\n",
      "\n",
      "- <span itemprop=\"jobLocation\" itemscope=\"\" itemtype=\"http://schema.org/Place\"><span class=\"location\" itemprop=\"address\" itemscope=\"\" itemtype=\"http://schema.org/Postaladdress\"><span itemprop=\"addressLocality\">Boston, MA</span></span></span>\n",
      "<table border=\"0\" cellpadding=\"0\" cellspacing=\"0\">\n",
      "<tr>\n",
      "<td class=\"snip\">\n",
      "<div>\n",
      "<span class=\"summary\" itemprop=\"description\">\n",
      "<b>Data</b> Science is about trying to answer a business question/problem by applying scientific and mathematical techniques to <b>data</b> that is acquired from multiple...</span>\n",
      "</div>\n",
      "<div class=\"result-link-bar-container\">\n",
      "<div class=\"result-link-bar\"><span class=\"date\">3 days ago</span> <span class=\"tt_set\" id=\"tt_set_3\">-  <a class=\"sl resultLink save-job-link \" href=\"#\" id=\"sj_57bd97fbbacb533d\" onclick=\"changeJobState('57bd97fbbacb533d', 'save', 'linkbar', false); return false;\" title=\"Save this job to my.indeed\">save job</a>  -  <a class=\"sl resultLink tellafriend-link \" href=\"mailto:?subject=I found this job on Indeed&amp;body=http://www.indeed.com\" onclick=\"toggleTellAFriend('57bd97fbbacb533d', 3, false); return false;\">email</a> - <a class=\"sl resultLink more-link \" href=\"#\" id=\"tog_3\" onclick=\"toggleMoreLinks('57bd97fbbacb533d'); return false;\">more...</a></span><div class=\"edit_note_content\" id=\"editsaved2_57bd97fbbacb533d\" style=\"display:none;\"></div><script>window['result_57bd97fbbacb533d'] = {\"showSource\": false, \"source\": \"MapR\", \"loggedIn\": false, \"showMyJobsLinks\": false,\"undoAction\": \"unsave\",\"relativeJobAge\": \"3 days ago\",\"jobKey\": \"57bd97fbbacb533d\", \"myIndeedAvailable\": true, \"tellAFriendEnabled\": true, \"showMoreActionsLink\": true, \"resultNumber\": 3, \"jobStateChangedToSaved\": false, \"searchState\": \"q=data scientist&amp;\", \"basicPermaLink\": \"http://www.indeed.com\", \"saveJobFailed\": false, \"removeJobFailed\": false, \"requestPending\": false, \"notesEnabled\": true, \"currentPage\" : \"serp\", \"sponsored\" : false};</script></div></div>\n",
      "<div class=\"tab-container\">\n",
      "<div class=\"more-links-container result-tab\" id=\"tt_display_3\" style=\"display:none;\"><a class=\"close-link closeLink\" href=\"#\" onclick=\"toggleMoreLinks('57bd97fbbacb533d'); return false;\" title=\"Close\"></a><div class=\"more_actions\" id=\"more_3\"><ul><li><span class=\"mat\">View all <a href=\"/q-Mapr-l-Boston,-MA-jobs.html\" rel=\"nofollow\">MapR jobs in Boston, MA</a> - <a href=\"/l-Boston,-MA-jobs.html\">Boston jobs</a></span></li><li><span class=\"mat\">Salary Search: <a href=\"/salary?q1=Data+Science&amp;l1=Boston%2C+MA\">Data Science salaries in Boston, MA</a></span></li><li><span class=\"mat\">Learn more about working at <a href=\"/cmp/Mapr\">Mapr</a></span></li><li><span class=\"mat\">Related forums: <a href=\"/forum/loc/Boston-Massachusetts.html\">Boston, Massachusetts</a> - <a href=\"/forum/cmp/Mapr.html\">MAPR</a> - <a href=\"\">-</a></span></li></ul></div></div><div class=\"dya-container result-tab\"></div>\n",
      "<div class=\"tellafriend-container result-tab email_job_content\"></div>\n",
      "<div class=\"sign-in-container result-tab\"></div>\n",
      "<div class=\"notes-container result-tab\"></div>\n",
      "</div>\n",
      "</td>\n",
      "</tr>\n",
      "</table>\n",
      "</div>\n",
      "<div class=\" row result\" data-jk=\"5b4b6422d0b4e3f6\" data-tn-component=\"organicJob\" id=\"p_5b4b6422d0b4e3f6\" itemscope=\"\" itemtype=\"http://schema.org/JobPosting\">\n",
      "<h2 class=\"jobtitle\" id=\"jl_5b4b6422d0b4e3f6\">\n",
      "<a class=\"turnstileLink\" data-tn-element=\"jobTitle\" href=\"/rc/clk?jk=5b4b6422d0b4e3f6\" itemprop=\"title\" onclick=\"return rclk(this,jobmap[4],true,0);\" onmousedown=\"return rclk(this,jobmap[4],0);\" rel=\"nofollow\" target=\"_blank\" title=\"Business Intelligence, Data Scientist\">Business Intelligence, <b>Data</b> <b>Scientist</b></a>\n",
      "</h2>\n",
      "<span class=\"company\" itemprop=\"hiringOrganization\" itemtype=\"http://schema.org/Organization\">\n",
      "<span itemprop=\"name\">\n",
      "    GTI Federal</span>\n",
      "</span>\n",
      "<a class=\"turnstileLink \" data-tn-element=\"reviewStars\" data-tn-variant=\"\" href=\"/cmp/Gti-Federal/reviews?from=SERP\" onmousedown=\"this.href = appendParamsOnce(this.href, '?campaignid=SERP&amp;jt=Business+Intelligence%2C+Data+Scientist');\" title=\"Gti Federal reviews\"><span class=\"ratings\"><span class=\"rating\" style=\"width:52.25px;\"><!-- --></span></span></a>\n",
      "<a class=\"turnstileLink \" data-tn-element=\"reviewLink\" data-tn-variant=\"\" href=\"/cmp/Gti-Federal/reviews?from=SERP\" onmousedown=\"this.href = appendParamsOnce(this.href, '?campaignid=SERP&amp;jt=Business+Intelligence%2C+Data+Scientist');\" title=\"Gti Federal reviews\">4 reviews</a>\n",
      "\n",
      "- <span itemprop=\"jobLocation\" itemscope=\"\" itemtype=\"http://schema.org/Place\"><span class=\"location\" itemprop=\"address\" itemscope=\"\" itemtype=\"http://schema.org/Postaladdress\"><span itemprop=\"addressLocality\">Seaside, CA</span></span></span>\n",
      "<table border=\"0\" cellpadding=\"0\" cellspacing=\"0\">\n",
      "<tr>\n",
      "<td class=\"snip\">\n",
      "<div>\n",
      "<span class=\"summary\" itemprop=\"description\">\n",
      "Minimum of seven years of experience as a <b>Data</b> Analyst/<b>Data</b> <b>Scientist</b> in applying statistics and quantitative methods to assessing the utilization of <b>data</b> for...</span>\n",
      "</div>\n",
      "<div class=\"iaP\">\n",
      "<span class=\"iaLabel\"> Easily apply</span>\n",
      "</div>\n",
      "<div class=\"result-link-bar-container\">\n",
      "<div class=\"result-link-bar\"><span class=\"date\">5 hours ago</span> <span class=\"tt_set\" id=\"tt_set_4\">-  <a class=\"sl resultLink save-job-link \" href=\"#\" id=\"sj_5b4b6422d0b4e3f6\" onclick=\"changeJobState('5b4b6422d0b4e3f6', 'save', 'linkbar', false); return false;\" title=\"Save this job to my.indeed\">save job</a>  -  <a class=\"sl resultLink tellafriend-link \" href=\"mailto:?subject=I found this job on Indeed&amp;body=http://www.indeed.com\" onclick=\"toggleTellAFriend('5b4b6422d0b4e3f6', 4, false); return false;\">email</a> - <a class=\"sl resultLink more-link \" href=\"#\" id=\"tog_4\" onclick=\"toggleMoreLinks('5b4b6422d0b4e3f6'); return false;\">more...</a></span><div class=\"edit_note_content\" id=\"editsaved2_5b4b6422d0b4e3f6\" style=\"display:none;\"></div><script>window['result_5b4b6422d0b4e3f6'] = {\"showSource\": false, \"source\": \"GTI Federal\", \"loggedIn\": false, \"showMyJobsLinks\": false,\"undoAction\": \"unsave\",\"relativeJobAge\": \"5 hours ago\",\"jobKey\": \"5b4b6422d0b4e3f6\", \"myIndeedAvailable\": true, \"tellAFriendEnabled\": true, \"showMoreActionsLink\": true, \"resultNumber\": 4, \"jobStateChangedToSaved\": false, \"searchState\": \"q=data scientist&amp;\", \"basicPermaLink\": \"http://www.indeed.com\", \"saveJobFailed\": false, \"removeJobFailed\": false, \"requestPending\": false, \"notesEnabled\": true, \"currentPage\" : \"serp\", \"sponsored\" : false};</script></div></div>\n",
      "<div class=\"tab-container\">\n",
      "<div class=\"more-links-container result-tab\" id=\"tt_display_4\" style=\"display:none;\"><a class=\"close-link closeLink\" href=\"#\" onclick=\"toggleMoreLinks('5b4b6422d0b4e3f6'); return false;\" title=\"Close\"></a><div class=\"more_actions\" id=\"more_4\"><ul><li><span class=\"mat\">View all <a href=\"/q-Gti-Federal-l-Seaside,-CA-jobs.html\" rel=\"nofollow\">GTI Federal jobs in Seaside, CA</a> - <a href=\"/l-Seaside,-CA-jobs.html\">Seaside jobs</a></span></li><li><span class=\"mat\">Salary Search: <a href=\"/salary?q1=Business+Intelligence&amp;l1=Seaside%2C+CA\">Business Intelligence salaries in Seaside, CA</a></span></li><li><span class=\"mat\">Learn more about working at <a href=\"/cmp/Gti-Federal\">Gti Federal</a></span></li><li><span class=\"mat\">Related forums: <a href=\"/forum/loc/Seaside-California.html\">Seaside, California</a> - <a href=\"/forum/cmp/Gti-Federal.html\">GTI FEDERAL</a> - <a href=\"\">-</a></span></li></ul></div></div><div class=\"dya-container result-tab\"></div>\n",
      "<div class=\"tellafriend-container result-tab email_job_content\"></div>\n",
      "<div class=\"sign-in-container result-tab\"></div>\n",
      "<div class=\"notes-container result-tab\"></div>\n",
      "</div>\n",
      "</td>\n",
      "</tr>\n",
      "</table>\n",
      "</div>\n",
      "<div class=\" row result\" data-jk=\"55c3d108cf6106ff\" data-tn-component=\"organicJob\" id=\"p_55c3d108cf6106ff\" itemscope=\"\" itemtype=\"http://schema.org/JobPosting\">\n",
      "<h2 class=\"jobtitle\" id=\"jl_55c3d108cf6106ff\">\n",
      "<a class=\"turnstileLink\" data-tn-element=\"jobTitle\" href=\"/rc/clk?jk=55c3d108cf6106ff\" itemprop=\"title\" onclick=\"return rclk(this,jobmap[5],true,0);\" onmousedown=\"return rclk(this,jobmap[5],0);\" rel=\"nofollow\" target=\"_blank\" title=\"Data Scientist - OneOps\"><b>Data</b> <b>Scientist</b> - OneOps</a>\n",
      "</h2>\n",
      "<span class=\"company\" itemprop=\"hiringOrganization\" itemtype=\"http://schema.org/Organization\">\n",
      "<span itemprop=\"name\">\n",
      "    Anadarko Petroleum Corporation</span>\n",
      "</span>\n",
      "<a class=\"turnstileLink \" data-tn-element=\"reviewStars\" data-tn-variant=\"\" href=\"/cmp/Anadarko-Petroleum-Corporation/reviews?from=SERP\" onmousedown=\"this.href = appendParamsOnce(this.href, '?campaignid=SERP&amp;jt=Data+Scientist+-+OneOps');\" title=\"Anadarko Petroleum Corporation reviews\"><span class=\"ratings\"><span class=\"rating\" style=\"width:49.1764702796936px;\"><!-- --></span></span></a>\n",
      "<a class=\"turnstileLink \" data-tn-element=\"reviewLink\" data-tn-variant=\"\" href=\"/cmp/Anadarko-Petroleum-Corporation/reviews?from=SERP\" onmousedown=\"this.href = appendParamsOnce(this.href, '?campaignid=SERP&amp;jt=Data+Scientist+-+OneOps');\" title=\"Anadarko Petroleum Corporation reviews\">51 reviews</a>\n",
      "\n",
      "- <span itemprop=\"jobLocation\" itemscope=\"\" itemtype=\"http://schema.org/Place\"><span class=\"location\" itemprop=\"address\" itemscope=\"\" itemtype=\"http://schema.org/Postaladdress\"><span itemprop=\"addressLocality\">The Woodlands, TX</span></span></span>\n",
      "<table border=\"0\" cellpadding=\"0\" cellspacing=\"0\">\n",
      "<tr>\n",
      "<td class=\"snip\">\n",
      "<div>\n",
      "<span class=\"summary\" itemprop=\"description\">\n",
      "<b>Data</b> <b>Scientist</b> - OneOps. Applies advanced analytics, machine learning, and statistical techniques to <b>data</b> to identify areas where the business can gain a...</span>\n",
      "</div>\n",
      "<div class=\"result-link-bar-container\">\n",
      "<div class=\"result-link-bar\"><span class=\"date\">2 hours ago</span> <span class=\"tt_set\" id=\"tt_set_5\">-  <a class=\"sl resultLink save-job-link \" href=\"#\" id=\"sj_55c3d108cf6106ff\" onclick=\"changeJobState('55c3d108cf6106ff', 'save', 'linkbar', false); return false;\" title=\"Save this job to my.indeed\">save job</a>  -  <a class=\"sl resultLink tellafriend-link \" href=\"mailto:?subject=I found this job on Indeed&amp;body=http://www.indeed.com\" onclick=\"toggleTellAFriend('55c3d108cf6106ff', 5, false); return false;\">email</a> - <a class=\"sl resultLink more-link \" href=\"#\" id=\"tog_5\" onclick=\"toggleMoreLinks('55c3d108cf6106ff'); return false;\">more...</a></span><div class=\"edit_note_content\" id=\"editsaved2_55c3d108cf6106ff\" style=\"display:none;\"></div><script>window['result_55c3d108cf6106ff'] = {\"showSource\": false, \"source\": \"Anadarko Petroleum Corporation\", \"loggedIn\": false, \"showMyJobsLinks\": false,\"undoAction\": \"unsave\",\"relativeJobAge\": \"2 hours ago\",\"jobKey\": \"55c3d108cf6106ff\", \"myIndeedAvailable\": true, \"tellAFriendEnabled\": true, \"showMoreActionsLink\": true, \"resultNumber\": 5, \"jobStateChangedToSaved\": false, \"searchState\": \"q=data scientist&amp;\", \"basicPermaLink\": \"http://www.indeed.com\", \"saveJobFailed\": false, \"removeJobFailed\": false, \"requestPending\": false, \"notesEnabled\": true, \"currentPage\" : \"serp\", \"sponsored\" : false};</script></div></div>\n",
      "<div class=\"tab-container\">\n",
      "<div class=\"more-links-container result-tab\" id=\"tt_display_5\" style=\"display:none;\"><a class=\"close-link closeLink\" href=\"#\" onclick=\"toggleMoreLinks('55c3d108cf6106ff'); return false;\" title=\"Close\"></a><div class=\"more_actions\" id=\"more_5\"><ul><li><span class=\"mat\">View all <a href=\"/jobs?q=Anadarko+Petroleum+Corporation&amp;l=The+Woodlands,+TX&amp;nc=jasx\" rel=\"nofollow\">Anadarko Petroleum Corporation jobs in The Woodlands, TX</a> - <a href=\"/l-The-Woodlands,-TX-jobs.html\">The Woodlands jobs</a></span></li><li><span class=\"mat\">Salary Search: <a href=\"/salary?q1=Data+Scientist&amp;l1=The+Woodlands%2C+TX\">Data Scientist salaries in The Woodlands, TX</a></span></li><li><span class=\"mat\">Learn more about working at <a href=\"/cmp/Anadarko-Petroleum-Corporation\">Anadarko Petroleum Corporation</a></span></li><li><span class=\"mat\">Related forums: <a href=\"/forum/cmp/Anadarko-Petroleum-Corporation.html\">Anadarko Petroleum Corporation</a> - <a href=\"/forum/loc/The-Woodlands-Texas.html\">The Woodlands, Texas</a> - <a href=\"\">-</a></span></li></ul></div></div><div class=\"dya-container result-tab\"></div>\n",
      "<div class=\"tellafriend-container result-tab email_job_content\"></div>\n",
      "<div class=\"sign-in-container result-tab\"></div>\n",
      "<div class=\"notes-container result-tab\"></div>\n",
      "</div>\n",
      "</td>\n",
      "</tr>\n",
      "</table>\n",
      "</div>\n",
      "<div class=\" row result\" data-jk=\"b7fca71d1b8b75e7\" data-tn-component=\"organicJob\" id=\"p_b7fca71d1b8b75e7\" itemscope=\"\" itemtype=\"http://schema.org/JobPosting\">\n",
      "<h2 class=\"jobtitle\" id=\"jl_b7fca71d1b8b75e7\">\n",
      "<a class=\"turnstileLink\" data-tn-element=\"jobTitle\" href=\"/rc/clk?jk=b7fca71d1b8b75e7\" itemprop=\"title\" onclick=\"return rclk(this,jobmap[6],true,0);\" onmousedown=\"return rclk(this,jobmap[6],0);\" rel=\"nofollow\" target=\"_blank\" title=\"Data Scientist Job\"><b>Data</b> <b>Scientist</b> Job</a>\n",
      "</h2>\n",
      "<span class=\"company\" itemprop=\"hiringOrganization\" itemtype=\"http://schema.org/Organization\">\n",
      "<span itemprop=\"name\">\n",
      "    Alliance <b>Data</b></span>\n",
      "</span>\n",
      "<a class=\"turnstileLink \" data-tn-element=\"reviewStars\" data-tn-variant=\"\" href=\"/cmp/Alliance-Data/reviews?from=SERP\" onmousedown=\"this.href = appendParamsOnce(this.href, '?campaignid=SERP&amp;jt=Data+Scientist+Job');\" title=\"Alliance Data reviews\"><span class=\"ratings\"><span class=\"rating\" style=\"width:43.22316360473633px;\"><!-- --></span></span></a>\n",
      "<a class=\"turnstileLink \" data-tn-element=\"reviewLink\" data-tn-variant=\"\" href=\"/cmp/Alliance-Data/reviews?from=SERP\" onmousedown=\"this.href = appendParamsOnce(this.href, '?campaignid=SERP&amp;jt=Data+Scientist+Job');\" title=\"Alliance Data reviews\">354 reviews</a>\n",
      "\n",
      "- <span itemprop=\"jobLocation\" itemscope=\"\" itemtype=\"http://schema.org/Place\"><span class=\"location\" itemprop=\"address\" itemscope=\"\" itemtype=\"http://schema.org/Postaladdress\"><span itemprop=\"addressLocality\">Illinois</span></span></span>\n",
      " <a class=\"more_loc\" href=\"/jobs?q=data+scientist&amp;rbt=Data+Scientist+Job&amp;rbc=Alliance+Data&amp;jtid=d31a40b8b7af7edd&amp;jcid=9edcedb2997876d2&amp;grp=tcl\" onmousedown=\"ptk('addlloc');\" rel=\"nofollow\">+1 location</a><table border=\"0\" cellpadding=\"0\" cellspacing=\"0\">\n",
      "<tr>\n",
      "<td class=\"snip\">\n",
      "<div>\n",
      "<span class=\"summary\" itemprop=\"description\">\n",
      "In <b>data</b> science, <b>data</b> mining, or <b>data</b> analysis. Database, Scientific, <b>Scientist</b>, Computer Science, Technology, Engineering, Science, Research....</span>\n",
      "</div>\n",
      "<div class=\"result-link-bar-container\">\n",
      "<div class=\"result-link-bar\"><span class=\"date\">2 hours ago</span> <span class=\"tt_set\" id=\"tt_set_6\">-  <a class=\"sl resultLink save-job-link \" href=\"#\" id=\"sj_b7fca71d1b8b75e7\" onclick=\"changeJobState('b7fca71d1b8b75e7', 'save', 'linkbar', false); return false;\" title=\"Save this job to my.indeed\">save job</a>  -  <a class=\"sl resultLink tellafriend-link \" href=\"mailto:?subject=I found this job on Indeed&amp;body=http://www.indeed.com\" onclick=\"toggleTellAFriend('b7fca71d1b8b75e7', 6, false); return false;\">email</a> - <a class=\"sl resultLink more-link \" href=\"#\" id=\"tog_6\" onclick=\"toggleMoreLinks('b7fca71d1b8b75e7'); return false;\">more...</a></span><div class=\"edit_note_content\" id=\"editsaved2_b7fca71d1b8b75e7\" style=\"display:none;\"></div><script>window['result_b7fca71d1b8b75e7'] = {\"showSource\": false, \"source\": \"Alliance Data\", \"loggedIn\": false, \"showMyJobsLinks\": false,\"undoAction\": \"unsave\",\"relativeJobAge\": \"2 hours ago\",\"jobKey\": \"b7fca71d1b8b75e7\", \"myIndeedAvailable\": true, \"tellAFriendEnabled\": true, \"showMoreActionsLink\": true, \"resultNumber\": 6, \"jobStateChangedToSaved\": false, \"searchState\": \"q=data scientist&amp;\", \"basicPermaLink\": \"http://www.indeed.com\", \"saveJobFailed\": false, \"removeJobFailed\": false, \"requestPending\": false, \"notesEnabled\": true, \"currentPage\" : \"serp\", \"sponsored\" : false};</script></div></div>\n",
      "<div class=\"tab-container\">\n",
      "<div class=\"more-links-container result-tab\" id=\"tt_display_6\" style=\"display:none;\"><a class=\"close-link closeLink\" href=\"#\" onclick=\"toggleMoreLinks('b7fca71d1b8b75e7'); return false;\" title=\"Close\"></a><div class=\"more_actions\" id=\"more_6\"><ul><li><span class=\"mat\">View all <a href=\"/q-Alliance-Data-l-Illinois-jobs.html\" rel=\"nofollow\">Alliance Data jobs in Illinois</a> - <a href=\"/l-Illinois-jobs.html\">Illinois jobs</a></span></li><li><span class=\"mat\">Salary Search: <a href=\"/salary?q1=Data+Scientist&amp;l1=Illinois\">Data Scientist salaries in Illinois</a></span></li><li><span class=\"mat\">Learn more about working at <a href=\"/cmp/Alliance-Data\">Alliance Data</a></span></li><li><span class=\"mat\">Related forums: <a href=\"/forum/cmp/Alliance-Data.html\">Alliance Data</a> - <a href=\"\">-</a></span></li></ul></div></div><div class=\"dya-container result-tab\"></div>\n",
      "<div class=\"tellafriend-container result-tab email_job_content\"></div>\n",
      "<div class=\"sign-in-container result-tab\"></div>\n",
      "<div class=\"notes-container result-tab\"></div>\n",
      "</div>\n",
      "</td>\n",
      "</tr>\n",
      "</table>\n",
      "</div>\n",
      "<div class=\" row result\" data-jk=\"e9322c2bc39f916a\" data-tn-component=\"organicJob\" id=\"p_e9322c2bc39f916a\" itemscope=\"\" itemtype=\"http://schema.org/JobPosting\">\n",
      "<h2 class=\"jobtitle\" id=\"jl_e9322c2bc39f916a\">\n",
      "<a class=\"turnstileLink\" data-tn-element=\"jobTitle\" href=\"/cmp/Swoon-Technology/jobs/Data-Scientist-e9322c2bc39f916a?r=1\" itemprop=\"title\" onclick=\"return rclk(this,jobmap[7],true,1);\" onmousedown=\"return rclk(this,jobmap[7],1);\" rel=\"nofollow\" target=\"_blank\" title=\"Data Scientist\"><b>Data</b> <b>Scientist</b></a>\n",
      "</h2>\n",
      "<span class=\"company\" itemprop=\"hiringOrganization\" itemtype=\"http://schema.org/Organization\">\n",
      "<span itemprop=\"name\">\n",
      "    Swoon Technology</span>\n",
      "</span>\n",
      "\n",
      "\n",
      "- <span itemprop=\"jobLocation\" itemscope=\"\" itemtype=\"http://schema.org/Place\"><span class=\"location\" itemprop=\"address\" itemscope=\"\" itemtype=\"http://schema.org/Postaladdress\"><span itemprop=\"addressLocality\">Kettering, OH</span></span></span>\n",
      "<table border=\"0\" cellpadding=\"0\" cellspacing=\"0\">\n",
      "<tr>\n",
      "<td class=\"snip\">\n",
      "<nobr>$70,000 a year</nobr>\n",
      "<div>\n",
      "<span class=\"summary\" itemprop=\"description\">\n",
      "3+ years experience in <b>data</b> management, automation, <b>data</b> mining, and <b>data</b>-based marketing. Turn insights and analysis into actionable campaigns, creating and...</span>\n",
      "</div>\n",
      "<div class=\"iaP\">\n",
      "<span class=\"iaLabel\"> Easily apply</span>\n",
      "</div>\n",
      "<div class=\"result-link-bar-container\">\n",
      "<div class=\"result-link-bar\"><span class=\"date\">11 hours ago</span> <span class=\"tt_set\" id=\"tt_set_7\">-  <a class=\"sl resultLink save-job-link \" href=\"#\" id=\"sj_e9322c2bc39f916a\" onclick=\"changeJobState('e9322c2bc39f916a', 'save', 'linkbar', false); return false;\" title=\"Save this job to my.indeed\">save job</a>  -  <a class=\"sl resultLink tellafriend-link \" href=\"mailto:?subject=I found this job on Indeed&amp;body=http://www.indeed.com\" onclick=\"toggleTellAFriend('e9322c2bc39f916a', 7, false); return false;\">email</a> - <a class=\"sl resultLink more-link \" href=\"#\" id=\"tog_7\" onclick=\"toggleMoreLinks('e9322c2bc39f916a'); return false;\">more...</a></span><div class=\"edit_note_content\" id=\"editsaved2_e9322c2bc39f916a\" style=\"display:none;\"></div><script>window['result_e9322c2bc39f916a'] = {\"showSource\": false, \"source\": \"Indeed\", \"loggedIn\": false, \"showMyJobsLinks\": false,\"undoAction\": \"unsave\",\"relativeJobAge\": \"11 hours ago\",\"jobKey\": \"e9322c2bc39f916a\", \"myIndeedAvailable\": true, \"tellAFriendEnabled\": true, \"showMoreActionsLink\": true, \"resultNumber\": 7, \"jobStateChangedToSaved\": false, \"searchState\": \"q=data scientist&amp;\", \"basicPermaLink\": \"http://www.indeed.com\", \"saveJobFailed\": false, \"removeJobFailed\": false, \"requestPending\": false, \"notesEnabled\": true, \"currentPage\" : \"serp\", \"sponsored\" : false};</script></div></div>\n",
      "<div class=\"tab-container\">\n",
      "<div class=\"more-links-container result-tab\" id=\"tt_display_7\" style=\"display:none;\"><a class=\"close-link closeLink\" href=\"#\" onclick=\"toggleMoreLinks('e9322c2bc39f916a'); return false;\" title=\"Close\"></a><div class=\"more_actions\" id=\"more_7\"><ul><li><span class=\"mat\">View all <a href=\"/q-Swoon-Technology-l-Kettering,-OH-jobs.html\" rel=\"nofollow\">Swoon Technology jobs in Kettering, OH</a> - <a href=\"/l-Kettering,-OH-jobs.html\">Kettering jobs</a></span></li><li><span class=\"mat\">Salary Search: <a href=\"/salary?q1=Data+Scientist&amp;l1=Kettering%2C+OH\">Data Scientist salaries in Kettering, OH</a></span></li><li><span class=\"mat\">Related forums: <a href=\"/forum/loc/Kettering-Ohio.html\">Kettering, Ohio</a> - <a href=\"/forum/cmp/Swoon-Technology.html\">Swoon Technology</a> - <a href=\"\">-</a></span></li></ul></div></div><div class=\"dya-container result-tab\"></div>\n",
      "<div class=\"tellafriend-container result-tab email_job_content\"></div>\n",
      "<div class=\"sign-in-container result-tab\"></div>\n",
      "<div class=\"notes-container result-tab\"></div>\n",
      "</div>\n",
      "</td>\n",
      "</tr>\n",
      "</table>\n",
      "</div>\n",
      "<div class=\" row result\" data-jk=\"3dafaf0b39bc8c73\" data-tn-component=\"organicJob\" id=\"p_3dafaf0b39bc8c73\" itemscope=\"\" itemtype=\"http://schema.org/JobPosting\">\n",
      "<h2 class=\"jobtitle\" id=\"jl_3dafaf0b39bc8c73\">\n",
      "<a class=\"turnstileLink\" data-tn-element=\"jobTitle\" href=\"/rc/clk?jk=3dafaf0b39bc8c73\" itemprop=\"title\" onclick=\"return rclk(this,jobmap[8],true,0);\" onmousedown=\"return rclk(this,jobmap[8],0);\" rel=\"nofollow\" target=\"_blank\" title=\"Principle Scientist Tech Support\">Principle <b>Scientist</b> Tech Support</a>\n",
      "</h2>\n",
      "<span class=\"company\" itemprop=\"hiringOrganization\" itemtype=\"http://schema.org/Organization\">\n",
      "<span itemprop=\"name\">\n",
      "    Abbott Laboratories</span>\n",
      "</span>\n",
      "<a class=\"turnstileLink \" data-tn-element=\"reviewStars\" data-tn-variant=\"\" href=\"/cmp/Abbott-Laboratories/reviews?from=SERP\" onmousedown=\"this.href = appendParamsOnce(this.href, '?campaignid=SERP&amp;jt=Principle+Scientist+Tech+Support');\" title=\"Abbott Laboratories reviews\"><span class=\"ratings\"><span class=\"rating\" style=\"width:45.893441677093506px;\"><!-- --></span></span></a>\n",
      "<a class=\"turnstileLink \" data-tn-element=\"reviewLink\" data-tn-variant=\"\" href=\"/cmp/Abbott-Laboratories/reviews?from=SERP\" onmousedown=\"this.href = appendParamsOnce(this.href, '?campaignid=SERP&amp;jt=Principle+Scientist+Tech+Support');\" title=\"Abbott Laboratories reviews\">732 reviews</a>\n",
      "\n",
      "- <span itemprop=\"jobLocation\" itemscope=\"\" itemtype=\"http://schema.org/Place\"><span class=\"location\" itemprop=\"address\" itemscope=\"\" itemtype=\"http://schema.org/Postaladdress\"><span itemprop=\"addressLocality\">Lake County, IL</span></span></span>\n",
      "<table border=\"0\" cellpadding=\"0\" cellspacing=\"0\">\n",
      "<tr>\n",
      "<td class=\"snip\">\n",
      "<div>\n",
      "<span class=\"summary\" itemprop=\"description\">\n",
      "<b>Data</b> mining and analysis. Ordinary or Honors Bachelor degree in scientific and technical field is desired or relevant combination of education and experience....</span>\n",
      "</div>\n",
      "<div class=\"result-link-bar-container\">\n",
      "<div class=\"result-link-bar\"><span class=\"date\">7 hours ago</span> <span class=\"tt_set\" id=\"tt_set_8\">-  <a class=\"sl resultLink save-job-link \" href=\"#\" id=\"sj_3dafaf0b39bc8c73\" onclick=\"changeJobState('3dafaf0b39bc8c73', 'save', 'linkbar', false); return false;\" title=\"Save this job to my.indeed\">save job</a>  -  <a class=\"sl resultLink tellafriend-link \" href=\"mailto:?subject=I found this job on Indeed&amp;body=http://www.indeed.com\" onclick=\"toggleTellAFriend('3dafaf0b39bc8c73', 8, false); return false;\">email</a> - <a class=\"sl resultLink more-link \" href=\"#\" id=\"tog_8\" onclick=\"toggleMoreLinks('3dafaf0b39bc8c73'); return false;\">more...</a></span><div class=\"edit_note_content\" id=\"editsaved2_3dafaf0b39bc8c73\" style=\"display:none;\"></div><script>window['result_3dafaf0b39bc8c73'] = {\"showSource\": false, \"source\": \"Abbott Laboratories\", \"loggedIn\": false, \"showMyJobsLinks\": false,\"undoAction\": \"unsave\",\"relativeJobAge\": \"7 hours ago\",\"jobKey\": \"3dafaf0b39bc8c73\", \"myIndeedAvailable\": true, \"tellAFriendEnabled\": true, \"showMoreActionsLink\": true, \"resultNumber\": 8, \"jobStateChangedToSaved\": false, \"searchState\": \"q=data scientist&amp;\", \"basicPermaLink\": \"http://www.indeed.com\", \"saveJobFailed\": false, \"removeJobFailed\": false, \"requestPending\": false, \"notesEnabled\": true, \"currentPage\" : \"serp\", \"sponsored\" : false};</script></div></div>\n",
      "<div class=\"tab-container\">\n",
      "<div class=\"more-links-container result-tab\" id=\"tt_display_8\" style=\"display:none;\"><a class=\"close-link closeLink\" href=\"#\" onclick=\"toggleMoreLinks('3dafaf0b39bc8c73'); return false;\" title=\"Close\"></a><div class=\"more_actions\" id=\"more_8\"><ul><li><span class=\"mat\">View all <a href=\"/q-Abbott-Laboratories-l-Lake-County,-IL-jobs.html\" rel=\"nofollow\">Abbott Laboratories jobs in Lake County, IL</a> - <a href=\"/l-Lake-County,-IL-jobs.html\">Lake County, IL jobs</a></span></li><li><span class=\"mat\">Salary Search: <a href=\"/salary?q1=Principle+Scientist+Tech+Support&amp;l1=Lake+County%2C+IL\">Principle Scientist Tech Support salaries in Lake County, IL</a></span></li><li><span class=\"mat\">Learn more about working at <a href=\"/cmp/Abbott-Laboratories\">Abbott Laboratories</a></span></li><li><span class=\"mat\">Related forums: <a href=\"/forum/cmp/Abbott-Laboratories.html\">Abbott Laboratories</a> - <a href=\"\">-</a></span></li></ul></div></div><div class=\"dya-container result-tab\"></div>\n",
      "<div class=\"tellafriend-container result-tab email_job_content\"></div>\n",
      "<div class=\"sign-in-container result-tab\"></div>\n",
      "<div class=\"notes-container result-tab\"></div>\n",
      "</div>\n",
      "</td>\n",
      "</tr>\n",
      "</table>\n",
      "</div>\n",
      "<div class=\"lastRow row result\" data-jk=\"f6f36c8ee836dd69\" data-tn-component=\"organicJob\" id=\"p_f6f36c8ee836dd69\" itemscope=\"\" itemtype=\"http://schema.org/JobPosting\">\n",
      "<h2 class=\"jobtitle\" id=\"jl_f6f36c8ee836dd69\">\n",
      "<a class=\"turnstileLink\" data-tn-element=\"jobTitle\" href=\"/rc/clk?jk=f6f36c8ee836dd69\" itemprop=\"title\" onclick=\"return rclk(this,jobmap[9],true,0);\" onmousedown=\"return rclk(this,jobmap[9],0);\" rel=\"nofollow\" target=\"_blank\" title=\"Research Analytical Scientist\">Research Analytical <b>Scientist</b></a>\n",
      "</h2>\n",
      "<span class=\"company\" itemprop=\"hiringOrganization\" itemtype=\"http://schema.org/Organization\">\n",
      "<span itemprop=\"name\">\n",
      "    Mars</span>\n",
      "</span>\n",
      "<a class=\"turnstileLink \" data-tn-element=\"reviewStars\" data-tn-variant=\"\" href=\"/cmp/Mars/reviews?from=SERP\" onmousedown=\"this.href = appendParamsOnce(this.href, '?campaignid=SERP&amp;jt=Research+Analytical+Scientist');\" title=\"Mars reviews\"><span class=\"ratings\"><span class=\"rating\" style=\"width:43.683454275131226px;\"><!-- --></span></span></a>\n",
      "<a class=\"turnstileLink \" data-tn-element=\"reviewLink\" data-tn-variant=\"\" href=\"/cmp/Mars/reviews?from=SERP\" onmousedown=\"this.href = appendParamsOnce(this.href, '?campaignid=SERP&amp;jt=Research+Analytical+Scientist');\" title=\"Mars reviews\">139 reviews</a>\n",
      "\n",
      "- <span itemprop=\"jobLocation\" itemscope=\"\" itemtype=\"http://schema.org/Place\"><span class=\"location\" itemprop=\"address\" itemscope=\"\" itemtype=\"http://schema.org/Postaladdress\"><span itemprop=\"addressLocality\">Maryland</span></span></span>\n",
      "<table border=\"0\" cellpadding=\"0\" cellspacing=\"0\">\n",
      "<tr>\n",
      "<td class=\"snip\">\n",
      "<div>\n",
      "<span class=\"summary\" itemprop=\"description\">\n",
      "Business units, applying Mars 5 principles, and appropriate scientific standards. Excellent scientific skills in experiment design, <b>data</b> collection, and problem...</span>\n",
      "</div>\n",
      "<div class=\"result-link-bar-container\">\n",
      "<div class=\"result-link-bar\"><span class=\"date\">6 hours ago</span> <span class=\"tt_set\" id=\"tt_set_9\">-  <a class=\"sl resultLink save-job-link \" href=\"#\" id=\"sj_f6f36c8ee836dd69\" onclick=\"changeJobState('f6f36c8ee836dd69', 'save', 'linkbar', false); return false;\" title=\"Save this job to my.indeed\">save job</a>  -  <a class=\"sl resultLink tellafriend-link \" href=\"mailto:?subject=I found this job on Indeed&amp;body=http://www.indeed.com\" onclick=\"toggleTellAFriend('f6f36c8ee836dd69', 9, false); return false;\">email</a> - <a class=\"sl resultLink more-link \" href=\"#\" id=\"tog_9\" onclick=\"toggleMoreLinks('f6f36c8ee836dd69'); return false;\">more...</a></span><div class=\"edit_note_content\" id=\"editsaved2_f6f36c8ee836dd69\" style=\"display:none;\"></div><script>window['result_f6f36c8ee836dd69'] = {\"showSource\": false, \"source\": \"Mars\", \"loggedIn\": false, \"showMyJobsLinks\": false,\"undoAction\": \"unsave\",\"relativeJobAge\": \"6 hours ago\",\"jobKey\": \"f6f36c8ee836dd69\", \"myIndeedAvailable\": true, \"tellAFriendEnabled\": true, \"showMoreActionsLink\": true, \"resultNumber\": 9, \"jobStateChangedToSaved\": false, \"searchState\": \"q=data scientist&amp;\", \"basicPermaLink\": \"http://www.indeed.com\", \"saveJobFailed\": false, \"removeJobFailed\": false, \"requestPending\": false, \"notesEnabled\": true, \"currentPage\" : \"serp\", \"sponsored\" : false};</script></div></div>\n",
      "<div class=\"tab-container\">\n",
      "<div class=\"more-links-container result-tab\" id=\"tt_display_9\" style=\"display:none;\"><a class=\"close-link closeLink\" href=\"#\" onclick=\"toggleMoreLinks('f6f36c8ee836dd69'); return false;\" title=\"Close\"></a><div class=\"more_actions\" id=\"more_9\"><ul><li><span class=\"mat\">View all <a href=\"/q-Mars-l-Maryland-jobs.html\" rel=\"nofollow\">Mars jobs in Maryland</a> - <a href=\"/l-Maryland-jobs.html\">Maryland jobs</a></span></li><li><span class=\"mat\">Salary Search: <a href=\"/salary?q1=Research+Analytical+Scientist&amp;l1=Maryland\">Research Analytical Scientist salaries in Maryland</a></span></li><li><span class=\"mat\">Learn more about working at <a href=\"/cmp/Mars\">Mars</a></span></li><li><span class=\"mat\">Related forums: <a href=\"/forum/cmp/Mars.html\">MARS</a> - <a href=\"\">-</a></span></li></ul></div></div><div class=\"dya-container result-tab\"></div>\n",
      "<div class=\"tellafriend-container result-tab email_job_content\"></div>\n",
      "<div class=\"sign-in-container result-tab\"></div>\n",
      "<div class=\"notes-container result-tab\"></div>\n",
      "</div>\n",
      "</td>\n",
      "</tr>\n",
      "</table>\n",
      "</div>\n",
      "<div></div><div class=\"AVEh7wAOae puqY1bM4Jh\" data-tn-section=\"sponsoredJobs\">\n",
      "<div class=\"brdr\"><!-- --></div><div class=\"row result\" data-jk=\"582e8629fe5d885c\" data-tn-component=\"sponsoredJob\" id=\"sjob_582e8629fe5d885c\">\n",
      "<a class=\"jobtitle turnstileLink\" data-tn-element=\"jobTitle\" href=\"/pagead/clk?mo=r&amp;ad=-6NYlbfkN0Buj35rOcSUqi_sXghWvyzSnhyh24wiOu_HflCGq52wNqWvv6uIov1_AiSMVI2nIqlRsH_6mCnjSHTZx6gJ7IVQZTep5R_xpwhfUgeBCjDyA8wN4DR8g7y_luZEkiDYrqKfQWTEcliNOxDOyMuRhE9XSyUZO9-nMBUyzlTG5jqXkcoLDOiEdeOjtEGsWt9PbYOMhRWlfYwZsXSiLJlXLPZ5ZGu7gR9CsSY4XOiIsq6U2U7GOyr3pSu7T2iyhro6VbpYSWK5waL5ge9itjms30MAqcvPfInCFaVQeCLrak9aQq54vKSLXvxCkgZPpXljueS3qkfMyAygV3q29UvSkfRozv-USf5NrI3zj8Lx_fMG5aqShbIJdLRPg9vZbtonwpSQgyO5IQ8I4F00hq8OKkwhRfmheDZOM00AnfZlXZgsyxp65CIwK7mYtfV-1cIWfEZCZ7RRgj_SAhivGFcjK3WsogdNxr5MwxqJOEHMBeb6aSSdm9KyPUqB-Euhh2C2n1SA1lS1g0JV7hsR3ixo0I8iw-BTuWg21Gxpb4Qp6H09e8EcHOQb3SIOfkqK4E1CxMg=&amp;p=4&amp;sk=bebb41335ed80f2a&amp;fvj=0\" id=\"sja4\" onclick=\"sjoc('sja4',0); convCtr('SJ', pingUrlsForGA)\" onmousedown=\"sjomd('sja4'); clk('sja4');\" rel=\"nofollow\" target=\"_blank\" title=\"Business Intelligence Data Scientist\">Business Intelligence <b>Data</b> <b>Scientist</b></a>\n",
      "<br/>\n",
      "<div class=\"sjcl\">\n",
      "<span class=\"company\">\n",
      "    Cerner Corporation</span>\n",
      "<a class=\"turnstileLink \" data-tn-element=\"reviewStars\" data-tn-variant=\"\" href=\"/cmp/Cerner-Corporation/reviews?from=SERP\" onmousedown=\"this.href = appendParamsOnce(this.href, '?campaignid=SERP&amp;jt=Business+Intelligence+Data+Scientist');\" title=\"Cerner Corporation reviews\"><span class=\"ratings\"><span class=\"rating\" style=\"width:41.05814075469971px;\"><!-- --></span></span></a>\n",
      "<a class=\"turnstileLink \" data-tn-element=\"reviewLink\" data-tn-variant=\"\" href=\"/cmp/Cerner-Corporation/reviews?from=SERP\" onmousedown=\"this.href = appendParamsOnce(this.href, '?campaignid=SERP&amp;jt=Business+Intelligence+Data+Scientist');\" title=\"Cerner Corporation reviews\">172 reviews</a>\n",
      "\n",
      "- <span class=\"location\">Silver Spring, MD</span>\n",
      "</div>\n",
      "<table border=\"0\" cellpadding=\"0\" cellspacing=\"0\"><tr><td class=\"snip\">\n",
      "<span class=\"summary\">As a member of the Business Intelligence (BI) and Clinical Analytics (CA) team, the <b>data</b> <b>scientist</b> is responsible for the technical design, implementation and...</span>\n",
      "</td></tr></table>\n",
      "<div class=\"result-link-bar-container\">\n",
      "<div class=\"result-link-bar\"><span class=\"date\">30+ days ago</span> <span class=\"tt_set\" id=\"tt_set_13\">  -  <a class=\"sl resultLink tellafriend-link \" href=\"mailto:?subject=I found this job on Indeed&amp;body=http://www.indeed.com\" onclick=\"toggleTellAFriend('582e8629fe5d885c', 13, true); return false;\">email</a></span><div class=\"edit_note_content\" id=\"editsaved2_582e8629fe5d885c\" style=\"display:none;\"></div><script>window['sj_result_582e8629fe5d885c'] = {\"showSource\": false, \"source\": \"Cerner Corporation\", \"loggedIn\": false, \"showMyJobsLinks\": false,\"undoAction\": \"unsave\",\"relativeJobAge\": \"30+ days ago\",\"jobKey\": \"582e8629fe5d885c\", \"myIndeedAvailable\": true, \"tellAFriendEnabled\": true, \"showMoreActionsLink\": false, \"resultNumber\": 13, \"jobStateChangedToSaved\": false, \"searchState\": \"q=data scientist&amp;\", \"basicPermaLink\": \"http://www.indeed.com\", \"saveJobFailed\": false, \"removeJobFailed\": false, \"requestPending\": false, \"notesEnabled\": false, \"currentPage\" : \"serp\", \"sponsored\" : true};</script></div></div>\n",
      "<div class=\"tab-container\">\n",
      "<div class=\"tellafriend-container result-tab email_job_content\"></div>\n",
      "</div>\n",
      "<span class=\"sdn\">Sponsored by <b>Cerner Corporation</b></span></div>\n",
      "<div class=\"row sjlast result\" data-jk=\"9e02f5fe83106429\" data-tn-component=\"sponsoredJob\" id=\"sjob_9e02f5fe83106429\">\n",
      "<a class=\"jobtitle turnstileLink\" data-tn-element=\"jobTitle\" href=\"/pagead/clk?mo=r&amp;ad=-6NYlbfkN0D9GyEj9zp3JOriOYEWxfv_Q4bpG9haDRsxAguxNMvwjEccXBtFDZERtuGjMzV6V_1mQg2TO8wfdFIU4dFIehCY8lIjSfUzsr6SKDoiVd0MP5Ko5OTR9gULeeSYyGH0KUmt4XX8XsNd3AXfvjUE1wLtFozAEPhFpuYT__ITN6udiXE_XSDFvPc1jUUsrb5GrQlYzVeDEntOYvFOGPbMuaNE4tUw0CyryWROpaC6LQ13fZUXhs5rXNiKPqZsrDrDB5SIdmdCFwSiIQB8QwPU5Atu9nLFzvTt_Nr8n3ZH9vdwMIe9uaBnw-YysHG3JdKDM0D8_mDnkg34SIYu6ekRZzj4PM_QLDnOPa6pxheLVoLn65FX5SDVpyUIylcUgvSUc4WzH1snFAwXt56dbEC8nHZFqZ8yDBOjfIrSy3dYip3etA==&amp;p=5&amp;sk=bebb41335ed80f2a&amp;fvj=1\" id=\"sja5\" onclick=\"sjoc('sja5',0); convCtr('SJ', pingUrlsForGA)\" onmousedown=\"sjomd('sja5'); clk('sja5');\" rel=\"nofollow\" target=\"_blank\" title=\"Data Scientist\"><b>Data</b> <b>Scientist</b></a>\n",
      "<br/>\n",
      "<div class=\"sjcl\">\n",
      "<span class=\"company\">\n",
      "    Tru Optik</span>\n",
      "\n",
      "\n",
      "- <span class=\"location\">Stamford, CT</span>\n",
      "</div>\n",
      "<table border=\"0\" cellpadding=\"0\" cellspacing=\"0\"><tr><td class=\"snip\">\n",
      "<span class=\"summary\">The <b>Data</b> <b>Scientist</b> will be responsible for ensuring that our <b>data</b> products are industry leading. Develop sophisticated algorithms and <b>data</b> mining strategies....</span>\n",
      "</td></tr></table>\n",
      "<div class=\"iaP\">\n",
      "<span class=\"iaLabel\"> Easily apply</span>\n",
      "</div>\n",
      "<div class=\"result-link-bar-container\">\n",
      "<div class=\"result-link-bar\"><span class=\"date\">22 days ago</span> <span class=\"tt_set\" id=\"tt_set_14\">  -  <a class=\"sl resultLink tellafriend-link \" href=\"mailto:?subject=I found this job on Indeed&amp;body=http://www.indeed.com\" onclick=\"toggleTellAFriend('9e02f5fe83106429', 14, true); return false;\">email</a></span><div class=\"edit_note_content\" id=\"editsaved2_9e02f5fe83106429\" style=\"display:none;\"></div><script>window['sj_result_9e02f5fe83106429'] = {\"showSource\": false, \"source\": \"Indeed\", \"loggedIn\": false, \"showMyJobsLinks\": false,\"undoAction\": \"unsave\",\"relativeJobAge\": \"22 days ago\",\"jobKey\": \"9e02f5fe83106429\", \"myIndeedAvailable\": true, \"tellAFriendEnabled\": true, \"showMoreActionsLink\": false, \"resultNumber\": 14, \"jobStateChangedToSaved\": false, \"searchState\": \"q=data scientist&amp;\", \"basicPermaLink\": \"http://www.indeed.com\", \"saveJobFailed\": false, \"removeJobFailed\": false, \"requestPending\": false, \"notesEnabled\": false, \"currentPage\" : \"serp\", \"sponsored\" : true};</script></div></div>\n",
      "<div class=\"tab-container\">\n",
      "<div class=\"tellafriend-container result-tab email_job_content\"></div>\n",
      "</div>\n",
      "<span class=\"sdn\">Sponsored by <b>Tru Optik</b></span></div>\n",
      "</div><p class=\"footerJaPromoBubble\">\n",
      "<span>\n",
      "Never miss a job. Get new jobs emailed to you daily.</span>\n",
      "<script type=\"text/javascript\">setJaPromoCookie()</script>\n",
      "</p>\n",
      "<div class=\"open jaPromoUi jaui VZVYzEPYQYM\" id=\"bjobalerts\">\n",
      "<div class=\"jobalertlabel\">\n",
      "<span class=\"jobalerts_title\" id=\"bjobalertlabel\"><span class=\"ico\"></span>Get email updates for the latest <b>data scientist jobs</b></span>\n",
      "</div>\n",
      "<div class=\"jaform\" id=\"bjobalertform\">\n",
      "<span id=\"bjobalerttext\"></span><span id=\"bjobalertsending\"></span>\n",
      "<div id=\"bjobalertmessage\">\n",
      "<form action=\"/alert\" method=\"POST\" onsubmit=\"return addalert('data+scientist','','b','',this.email.value,'19unsnff9511m9rt', this.verified.value, true, '526930', 'US', 'ec9058cd894c547d03b45ef1a0c538d6', false);\">\n",
      "<input name=\"a\" type=\"hidden\" value=\"add\"/>\n",
      "<input name=\"q\" type=\"hidden\" value=\"data scientist\"/>\n",
      "<input name=\"l\" type=\"hidden\" value=\"\"/>\n",
      "<input name=\"radius\" type=\"hidden\" value=\"25\"/>\n",
      "<input name=\"noscript\" type=\"hidden\" value=\"1\"/>\n",
      "<input name=\"fr\" type=\"hidden\" value=\"b\"/>\n",
      "<input name=\"tk\" type=\"hidden\" value=\"19unsnff9511m9rt\"/>\n",
      "<input id=\"balertverified\" name=\"verified\" type=\"hidden\" value=\"0\"/>\n",
      "<input name=\"alertparams\" type=\"hidden\" value=\"\"/>\n",
      "<label for=\"balertemail\">My email:</label> <input id=\"balertemail\" maxlength=\"100\" name=\"email\" size=\"25\" type=\"text\" value=\"\"/>\n",
      "<span class=\"indeed-apply-button\"><span class=\"indeed-apply-button-inner\"><input class=\"indeed-apply-button-label\" id=\"balertsubmit\" type=\"submit\" value=\"Activate\"/></span></span>\n",
      "<style type=\"text/css\">\n",
      "    .indeed-apply-button { cursor : pointer !important; display : inline-block !important; padding : 1px !important; height : 31px !important; -moz-border-radius : 7px !important; border-radius : 7px !important; position : relative !important; text-decoration : none !important;background-color:#79788B; filter:progid:DXImageTransform.Microsoft.gradient(startColorstr='#BCBBCD', endColorstr='#79788B', GradientType=0);background-image: -webkit-gradient(linear, center top, center bottom, from(#BCBBCD), to(#79788B)) !important;background-image: -webkit-linear-gradient(top, #BCBBCD, #79788B) !important;background-image: -moz-linear-gradient(top, #BCBBCD, #79788B) !important;background-image: -o-linear-gradient(top, #BCBBCD, #79788B) !important;background-image: -ms-linear-gradient(top, #BCBBCD, #79788B) !important;background-image: linear-gradient(top, #BCBBCD, #79788B) !important;-webkit-box-shadow: 0 1px 2px rgba(0,0,0,0.2) !important;-moz-box-shadow: 0 1px 2px rgba(0,0,0,0.2) !important;box-shadow: 0 1px 2px rgba(0,0,0,0.2) !important; } #indeed-ia-1329175190441-0:link, #indeed-ia-1329175190441-0:visited, #indeed-ia-1329175190441-0:hover, #indeed-ia-1329175190441-0:active { border : 0 !important; text-decoration : none !important; }\n",
      "\n",
      "    .indeed-apply-button:hover { filter:progid:DXImageTransform.Microsoft.gradient(startColorstr='#6D99F6', endColorstr='#1B45A3', GradientType=0);background-image: -webkit-gradient(linear, center top, center bottom, from(#6D99F6), to(#1B45A3)) !important;background-image: -webkit-linear-gradient(top, #6D99F6, #1B45A3) !important;background-image: -moz-linear-gradient(top, #6D99F6, #1B45A3) !important;background-image: -o-linear-gradient(top, #6D99F6, #1B45A3) !important;background-image: -ms-linear-gradient(top, #6D99F6, #1B45A3) !important;background-image: linear-gradient(top, #6D99F6, #1B45A3) !important; }\n",
      "\n",
      "    .indeed-apply-state-clicked .indeed-apply-button,\n",
      "    .indeed-apply-button:active { filter:progid:DXImageTransform.Microsoft.gradient(startColorstr='#B3BACA', endColorstr='#7C8493', GradientType=0);background-image: -webkit-gradient(linear, center top, center bottom, from(#B3BACA), to(#7C8493)) !important;background-image: -webkit-linear-gradient(top, #B3BACA, #7C8493) !important;background-image: -moz-linear-gradient(top, #B3BACA, #7C8493) !important;background-image: -o-linear-gradient(top, #B3BACA, #7C8493) !important;background-image: -ms-linear-gradient(top, #B3BACA, #7C8493) !important;background-image: linear-gradient(top, #B3BACA, #7C8493) !important;-webkit-box-shadow: none !important;-moz-box-shadow: none !important;box-shadow: none !important; }\n",
      "\n",
      "    .indeed-apply-button-inner { display : inline-block !important; height : 31px !important; -moz-border-radius : 6px !important; border-radius : 6px !important; font : 18px 'Helvetica Neue','Helvetica',Arial !important; font-weight : 200 !important; text-decoration : none !important; text-shadow : 0px 1px #F1F1F4 !important;background-color:#D9D9E2;  color: #FF6703;filter:progid:DXImageTransform.Microsoft.gradient(startColorstr='#FAFAFB', endColorstr='#D9D9E2', GradientType=0);background-image: -webkit-gradient(linear, center top, center bottom, from(#FAFAFB), to(#D9D9E2)) !important;background-image: -webkit-linear-gradient(top, #FAFAFB, #D9D9E2) !important;background-image: -moz-linear-gradient(top, #FAFAFB, #D9D9E2) !important;background-image: -o-linear-gradient(top, #FAFAFB, #D9D9E2) !important;background-image: -ms-linear-gradient(top, #FAFAFB, #D9D9E2) !important;background-image: linear-gradient(top, #FAFAFB, #D9D9E2) !important; }\n",
      "\n",
      "    .indeed-apply-button:active .indeed-apply-button-inner { filter:progid:DXImageTransform.Microsoft.gradient(startColorstr='#E8E8E9', endColorstr='#CBCBD3', GradientType=0);background-image: -webkit-gradient(linear, center top, center bottom, from(#E8E8E9), to(#CBCBD3)) !important;background-image: -webkit-linear-gradient(top, #E8E8E9, #CBCBD3) !important;background-image: -moz-linear-gradient(top, #E8E8E9, #CBCBD3) !important;background-image: -o-linear-gradient(top, #E8E8E9, #CBCBD3) !important;background-image: -ms-linear-gradient(top, #E8E8E9, #CBCBD3) !important;background-image: linear-gradient(top, #E8E8E9, #CBCBD3) !important; }\n",
      "\n",
      "    .indeed-apply-button-label {cursor: pointer; text-align : center !important; border:0; background: transparent;font-size: 12px; font-family: Arial, sans-serif; padding:3px 14px 2px 12px; margin:0; line-height: 26px; }\n",
      "\n",
      "    .indeed-apply-button:active .indeed-apply-button-label,\n",
      "    .indeed-apply-state-clicked .indeed-apply-button-label { -ms-filter: \"progid:DXImageTransform.Microsoft.Alpha(Opacity=0.75)\" !important;filter: alpha(opacity=75) !important;-moz-opacity: 0.75 !important;-khtml-opacity: 0.75 !important;opacity: 0.75 !important; }\n",
      "\n",
      "    #talertemail, #balertemail {  height: 27px; line-height: 24px; padding-left: 6px; padding-right: 6px; font-size: 14px; font-family: Arial, sans-serif; }\n",
      "</style></form>\n",
      "<span class=\"caption\">\n",
      "You can cancel email alerts at any time.</span>\n",
      "</div>\n",
      "</div>\n",
      "</div>\n",
      "<script type=\"text/javascript\">\n",
      "function ptk(st,p) {document.cookie = 'PTK=\"tk=19unsnff9511m9rt&type=jobsearch&subtype='+st+(p?'&'+p:'')+'\"; path=/';}\n",
      "</script>\n",
      "<script type=\"text/javascript\">\n",
      "function pclk(event) {\n",
      "var evt = event || window.event;\n",
      "var target = evt.target || evt.srcElement;\n",
      "var el = target.nodeType == 1 ? target : target.parentNode;\n",
      "var tag = el.tagName.toLowerCase();\n",
      "if (tag == 'span' || tag == 'a') {\n",
      "ptk('pagination');\n",
      "}\n",
      "return true;\n",
      "}\n",
      "</script>\n",
      "<!--default behavior is to show the pagination-->\n",
      "<div class=\"pagination\" onmousedown=\"pclk(event);\">Results Page:  <b>1</b>  <a href=\"/jobs?q=data+scientist&amp;start=10\" rel=\"nofollow\"><span class=\"pn\">2</span></a>  <a href=\"/jobs?q=data+scientist&amp;start=20\" rel=\"nofollow\"><span class=\"pn\">3</span></a>  <a href=\"/jobs?q=data+scientist&amp;start=30\" rel=\"nofollow\"><span class=\"pn\">4</span></a>  <a href=\"/jobs?q=data+scientist&amp;start=40\" rel=\"nofollow\"><span class=\"pn\">5</span></a>   <a href=\"/jobs?q=data+scientist&amp;start=10\" rel=\"nofollow\"><span class=\"pn\"><span class=\"np\">Next »</span></span></a></div>\n",
      "</td>\n",
      "<td id=\"auxCol\">\n",
      "<div class=\"open jaui \" id=\"tjobalerts\">\n",
      "<div class=\"jobalertlabel\">\n",
      "<span class=\"jobalerts_title\" id=\"tjobalertlabel\"><span class=\"ico\"></span>Get new jobs for this search by email</span>\n",
      "</div>\n",
      "<div class=\"jaform\" id=\"tjobalertform\">\n",
      "<span id=\"tjobalerttext\"></span><span id=\"tjobalertsending\"></span>\n",
      "<div id=\"tjobalertmessage\">\n",
      "<form action=\"/alert\" method=\"POST\" onsubmit=\"return addalert('data+scientist','','t','',this.email.value,'19unsnff9511m9rt', this.verified.value, true, '526930', 'US', 'ec9058cd894c547d03b45ef1a0c538d6', false);\">\n",
      "<input name=\"a\" type=\"hidden\" value=\"add\"/>\n",
      "<input name=\"q\" type=\"hidden\" value=\"data scientist\"/>\n",
      "<input name=\"l\" type=\"hidden\" value=\"\"/>\n",
      "<input name=\"radius\" type=\"hidden\" value=\"25\"/>\n",
      "<input name=\"noscript\" type=\"hidden\" value=\"1\"/>\n",
      "<input name=\"fr\" type=\"hidden\" value=\"t\"/>\n",
      "<input name=\"tk\" type=\"hidden\" value=\"19unsnff9511m9rt\"/>\n",
      "<input id=\"talertverified\" name=\"verified\" type=\"hidden\" value=\"0\"/>\n",
      "<input name=\"alertparams\" type=\"hidden\" value=\"\"/>\n",
      "<label for=\"talertemail\">My email:</label> <input id=\"talertemail\" maxlength=\"100\" name=\"email\" size=\"25\" type=\"text\" value=\"\"/>\n",
      "<span class=\"indeed-apply-button\"><span class=\"indeed-apply-button-inner\"><input class=\"indeed-apply-button-label\" id=\"talertsubmit\" type=\"submit\" value=\"Activate\"/></span></span>\n",
      "<style type=\"text/css\">\n",
      "    .indeed-apply-button { cursor : pointer !important; display : inline-block !important; padding : 1px !important; height : 31px !important; -moz-border-radius : 7px !important; border-radius : 7px !important; position : relative !important; text-decoration : none !important;background-color:#79788B; filter:progid:DXImageTransform.Microsoft.gradient(startColorstr='#BCBBCD', endColorstr='#79788B', GradientType=0);background-image: -webkit-gradient(linear, center top, center bottom, from(#BCBBCD), to(#79788B)) !important;background-image: -webkit-linear-gradient(top, #BCBBCD, #79788B) !important;background-image: -moz-linear-gradient(top, #BCBBCD, #79788B) !important;background-image: -o-linear-gradient(top, #BCBBCD, #79788B) !important;background-image: -ms-linear-gradient(top, #BCBBCD, #79788B) !important;background-image: linear-gradient(top, #BCBBCD, #79788B) !important;-webkit-box-shadow: 0 1px 2px rgba(0,0,0,0.2) !important;-moz-box-shadow: 0 1px 2px rgba(0,0,0,0.2) !important;box-shadow: 0 1px 2px rgba(0,0,0,0.2) !important; } #indeed-ia-1329175190441-0:link, #indeed-ia-1329175190441-0:visited, #indeed-ia-1329175190441-0:hover, #indeed-ia-1329175190441-0:active { border : 0 !important; text-decoration : none !important; }\n",
      "\n",
      "    .indeed-apply-button:hover { filter:progid:DXImageTransform.Microsoft.gradient(startColorstr='#6D99F6', endColorstr='#1B45A3', GradientType=0);background-image: -webkit-gradient(linear, center top, center bottom, from(#6D99F6), to(#1B45A3)) !important;background-image: -webkit-linear-gradient(top, #6D99F6, #1B45A3) !important;background-image: -moz-linear-gradient(top, #6D99F6, #1B45A3) !important;background-image: -o-linear-gradient(top, #6D99F6, #1B45A3) !important;background-image: -ms-linear-gradient(top, #6D99F6, #1B45A3) !important;background-image: linear-gradient(top, #6D99F6, #1B45A3) !important; }\n",
      "\n",
      "    .indeed-apply-state-clicked .indeed-apply-button,\n",
      "    .indeed-apply-button:active { filter:progid:DXImageTransform.Microsoft.gradient(startColorstr='#B3BACA', endColorstr='#7C8493', GradientType=0);background-image: -webkit-gradient(linear, center top, center bottom, from(#B3BACA), to(#7C8493)) !important;background-image: -webkit-linear-gradient(top, #B3BACA, #7C8493) !important;background-image: -moz-linear-gradient(top, #B3BACA, #7C8493) !important;background-image: -o-linear-gradient(top, #B3BACA, #7C8493) !important;background-image: -ms-linear-gradient(top, #B3BACA, #7C8493) !important;background-image: linear-gradient(top, #B3BACA, #7C8493) !important;-webkit-box-shadow: none !important;-moz-box-shadow: none !important;box-shadow: none !important; }\n",
      "\n",
      "    .indeed-apply-button-inner { display : inline-block !important; height : 31px !important; -moz-border-radius : 6px !important; border-radius : 6px !important; font : 18px 'Helvetica Neue','Helvetica',Arial !important; font-weight : 200 !important; text-decoration : none !important; text-shadow : 0px 1px #F1F1F4 !important;background-color:#D9D9E2;  color: #FF6703;filter:progid:DXImageTransform.Microsoft.gradient(startColorstr='#FAFAFB', endColorstr='#D9D9E2', GradientType=0);background-image: -webkit-gradient(linear, center top, center bottom, from(#FAFAFB), to(#D9D9E2)) !important;background-image: -webkit-linear-gradient(top, #FAFAFB, #D9D9E2) !important;background-image: -moz-linear-gradient(top, #FAFAFB, #D9D9E2) !important;background-image: -o-linear-gradient(top, #FAFAFB, #D9D9E2) !important;background-image: -ms-linear-gradient(top, #FAFAFB, #D9D9E2) !important;background-image: linear-gradient(top, #FAFAFB, #D9D9E2) !important; }\n",
      "\n",
      "    .indeed-apply-button:active .indeed-apply-button-inner { filter:progid:DXImageTransform.Microsoft.gradient(startColorstr='#E8E8E9', endColorstr='#CBCBD3', GradientType=0);background-image: -webkit-gradient(linear, center top, center bottom, from(#E8E8E9), to(#CBCBD3)) !important;background-image: -webkit-linear-gradient(top, #E8E8E9, #CBCBD3) !important;background-image: -moz-linear-gradient(top, #E8E8E9, #CBCBD3) !important;background-image: -o-linear-gradient(top, #E8E8E9, #CBCBD3) !important;background-image: -ms-linear-gradient(top, #E8E8E9, #CBCBD3) !important;background-image: linear-gradient(top, #E8E8E9, #CBCBD3) !important; }\n",
      "\n",
      "    .indeed-apply-button-label {cursor: pointer; text-align : center !important; border:0; background: transparent;font-size: 12px; font-family: Arial, sans-serif; padding:3px 14px 2px 12px; margin:0; line-height: 26px; }\n",
      "\n",
      "    .indeed-apply-button:active .indeed-apply-button-label,\n",
      "    .indeed-apply-state-clicked .indeed-apply-button-label { -ms-filter: \"progid:DXImageTransform.Microsoft.Alpha(Opacity=0.75)\" !important;filter: alpha(opacity=75) !important;-moz-opacity: 0.75 !important;-khtml-opacity: 0.75 !important;opacity: 0.75 !important; }\n",
      "\n",
      "    #talertemail, #balertemail {  height: 27px; line-height: 24px; padding-left: 6px; padding-right: 6px; font-size: 14px; font-family: Arial, sans-serif; }\n",
      "</style></form>\n",
      "<span class=\"caption\">\n",
      "You can cancel email alerts at any time.</span>\n",
      "</div>\n",
      "</div>\n",
      "</div>\n",
      "<div id=\"femp_list\">\n",
      "<div class=\"femp_header\">Company with data scientist jobs</div>\n",
      "<div class=\"femp_item\">\n",
      "<div class=\"femp_logo\"><a href=\"/cmp/Castlight-Health?tk=19unsnff9511m9rt\" onmousedown=\"this.href = appendParamsOnce(this.href, '&amp;campaignid=femp');\" target=\"_blank\"><img alt=\"Castlight Health\" src=\"https://d1ewxbznfa539k.cloudfront.net/s/_logo/9a52a1cd58cf7f99835628418a9d7c6b.png\" width=\"120\"/></a></div>\n",
      "<div class=\"femp_cmp\"><a class=\"femp_cmp_link\" href=\"/cmp/Castlight-Health?tk=19unsnff9511m9rt\" onmousedown=\"this.href = appendParamsOnce(this.href, '&amp;campaignid=femp');\" target=\"_blank\">Castlight Health</a></div>\n",
      "<div class=\"femp_desc\">Castlight Health was founded in 2008. Today, Castlight empowers people to make better health care decisions.</div>\n",
      "<div class=\"featemp_sjl\" id=\"featemp_sj\" style=\"display: none\">\n",
      "<div id=\"indJobContent\"></div>\n",
      "</div>\n",
      "<script type=\"text/javascript\">\n",
      "            var ind_nr = true;\n",
      "            var ind_pub = '8772657697788355';\n",
      "            var ind_el = 'indJobContent';\n",
      "            var ind_pf = '';\n",
      "            var ind_q = '';\n",
      "            var ind_fcckey = 'e25637eb71ad60d7';\n",
      "            var ind_l = '';\n",
      "            var ind_chnl = 'Castlight Health';\n",
      "            var ind_n = 3;\n",
      "            var ind_d = '';\n",
      "            var ind_t = 60;\n",
      "            var ind_c = 30;\n",
      "            var ind_rq = 'data scientist';\n",
      "        </script>\n",
      "<script src=\"/jobroll-widget-v3-fc2.js\" type=\"text/javascript\"></script>\n",
      "<script type=\"text/javascript\">\n",
      "            window.indeedJobroll.origJobsCallback = window.indeedJobroll.jobsCallback;\n",
      "            window.indeedJobroll.jobsCallback=function(contentId, content) {\n",
      "                var sjDiv = document.getElementById('featemp_sj');\n",
      "                if (content.length <= 33 && sjDiv) {\n",
      "                    sjDiv.style.display = 'none';\n",
      "                } else {\n",
      "                    if (sjDiv) { sjDiv.style.display = 'block'; }\n",
      "                    window.indeedJobroll.origJobsCallback(contentId, content);\n",
      "                }\n",
      "            };\n",
      "        </script>\n",
      "<div class=\"femp_links\">\n",
      "<div class=\"jobs\"><a href='/jobs?q=company%3A\"Castlight Health\"&amp;l=' onmousedown=\"this.href = appendParamsOnce(this.href, '&amp;from=femp');\">Jobs</a></div>\n",
      "<div class=\"reviews\"><a href=\"/cmp/Castlight-Health/reviews\" onmousedown=\"this.href = appendParamsOnce(this.href, '&amp;campaignid=femp');\">Reviews (2)</a> </div>\n",
      "<div class=\"photos\"><a href=\"/cmp/Castlight-Health/photos\" onmousedown=\"this.href = appendParamsOnce(this.href, '&amp;campaignid=femp');\">Photos (1)</a></div>\n",
      "</div>\n",
      "</div></div>\n",
      "</td></tr>\n",
      "</table>\n",
      "<div class=\"prime-popover\" id=\"prime-popover-background\">\n",
      "</div>\n",
      "<div class=\"prime-popover\" id=\"prime-popover-div\">\n",
      "<div id=\"prime-popover-x\">\n",
      "<span id=\"prime-popover-close-button\">×</span>\n",
      "</div>\n",
      "<style type=\"text/css\">\n",
      "    #prime_promo_logos {\n",
      "        width: 580px;\n",
      "        height: 500px;\n",
      "    }\n",
      "\n",
      "    #prime_promo_logos .heading_logo_div {\n",
      "        margin: 15px 0;\n",
      "        text-align: center;\n",
      "    }\n",
      "\n",
      "    #prime_promo_logos .heading_logo_div .heading_logo {\n",
      "        max-height: 63px;\n",
      "        vertical-align: middle;\n",
      "    }\n",
      "\n",
      "    #prime_promo_logos .heading {\n",
      "        font-size: 24px;\n",
      "        color: #000;\n",
      "        font-weight: bold;\n",
      "        text-align: center;\n",
      "    }\n",
      "\n",
      "    #prime_promo_logos .subheading {\n",
      "        font-size: 16px;\n",
      "        color: #666666;\n",
      "        font-weight: bold;\n",
      "        text-align: center;\n",
      "        margin-top: 15px;\n",
      "        margin-bottom: 25px;\n",
      "    }\n",
      "\n",
      "    #prime_promo_logos .content {\n",
      "        background: #F8F8F8;\n",
      "    }\n",
      "\n",
      "    #prime_promo_logos .content .legal {\n",
      "        font-size: 11px;\n",
      "        color: #666666;\n",
      "        padding-top: 15px;\n",
      "        text-align: center;\n",
      "    }\n",
      "\n",
      "    #prime_promo_logos .apply_div {\n",
      "        font-size: 12px;\n",
      "        margin-top: 30px;\n",
      "    }\n",
      "\n",
      "    #prime_promo_logos .apply_div a {\n",
      "        color: #FFFFFF;\n",
      "        margin-left: 220px;\n",
      "        text-decoration: none !important;\n",
      "    }\n",
      "\n",
      "    #prime_promo_logos .apply_div a:hover {\n",
      "        text-decoration: none !important;\n",
      "    }\n",
      "\n",
      "    #prime_promo_logos .logo_div div {\n",
      "        display: inline-block;\n",
      "        margin: 15px 30px;\n",
      "        width: 130px;\n",
      "        height: 62px;\n",
      "        text-align: center;\n",
      "    }\n",
      "\n",
      "    #prime_promo_logos .logo {\n",
      "        max-width: 110px;\n",
      "        max-height: 62px;\n",
      "        vertical-align: middle;\n",
      "    }\n",
      "\n",
      "    #prime_promo_logos .logo_center_helper {\n",
      "        display: inline-block;\n",
      "        height: 100%;\n",
      "        vertical-align: middle;\n",
      "    }\n",
      "</style>\n",
      "<div id=\"prime_promo_logos\">\n",
      "<div class=\"heading_logo_div\">\n",
      "<span class=\"logo_center_helper\"></span>\n",
      "<img class=\"heading_logo\" src=\"/images/prime/indeed_prime_logo.png\"/>\n",
      "</div>\n",
      "<div class=\"heading\">3 minutes could get you 10 offers</div>\n",
      "<div class=\"heading\">from top tech companies</div>\n",
      "<div class=\"subheading\">Receive a $5,000 Prime bonus if you get hired on Indeed Prime</div>\n",
      "<div class=\"content\">\n",
      "<div class=\"legal\">Representative Companies Using Indeed Prime</div>\n",
      "<div class=\"logo_div\">\n",
      "<div>\n",
      "<span class=\"logo_center_helper\"></span>\n",
      "<img class=\"logo\" src=\"/images/prime/cmp-facebook.png\"/>\n",
      "</div>\n",
      "<div>\n",
      "<span class=\"logo_center_helper\"></span>\n",
      "<img class=\"logo\" src=\"/images/prime/cmp-amazon.png\"/>\n",
      "</div>\n",
      "<div>\n",
      "<span class=\"logo_center_helper\"></span>\n",
      "<img class=\"logo\" src=\"/images/prime/cmp-opentable.png\"/>\n",
      "</div>\n",
      "</div>\n",
      "<div class=\"logo_div\">\n",
      "<div>\n",
      "<span class=\"logo_center_helper\"></span>\n",
      "<img class=\"logo\" src=\"/images/prime/cmp-evernote.png\"/>\n",
      "</div>\n",
      "<div>\n",
      "<span class=\"logo_center_helper\"></span>\n",
      "<img class=\"logo\" src=\"/images/prime/cmp-bv.png\"/>\n",
      "</div>\n",
      "<div>\n",
      "<span class=\"logo_center_helper\"></span>\n",
      "<img class=\"logo\" src=\"/images/prime/cmp-dropbox.png\"/>\n",
      "</div>\n",
      "</div>\n",
      "</div>\n",
      "<div class=\"apply_div\">\n",
      "<a class=\"roundedCorner indeedblue\" href=\"/promo/prime\" onmousedown=\"this.href = appendParamsOnce( this.href, '?from=primepopover&amp;subfrom=primepopover&amp;trk.origin=jobsearch&amp;trk.variant=primepopover&amp;trk.tk=19unsnff8511mbpj')\">Learn More</a>\n",
      "</div>\n",
      "</div></div>\n",
      "<style type=\"text/css\">\n",
      "    #prime-popover-background {\n",
      "        z-index: 2;\n",
      "        background: #000000;\n",
      "        width: 100%;\n",
      "        height: 100%;\n",
      "        opacity: .30;\n",
      "        filter: alpha(opacity=30);\n",
      "        top: 0;\n",
      "    }\n",
      "    #prime-popover-x {\n",
      "        float: right;\n",
      "        margin: -12px -12px 0 0;\n",
      "        cursor: pointer;\n",
      "        font-weight: bold;\n",
      "        font-size: 18px;\n",
      "        color: #666;\n",
      "    }\n",
      "    .prime-popover {\n",
      "        position: fixed;\n",
      "        display: none;\n",
      "    }\n",
      "    #prime-popover-div {\n",
      "        z-index: 3;\n",
      "        height: auto;\n",
      "        width: auto;\n",
      "        background: #ffffff;\n",
      "        display: none; /*hide before the cookie check*/\n",
      "        padding-bottom: 10px;\n",
      "    }\n",
      "    \n",
      "    #prime_promo {\n",
      "        background:#ffffff\n",
      "    }\n",
      "</style><script type=\"text/javascript\">\n",
      "            window['primePopoverShown'] = 'popover';\n",
      "        </script>\n",
      "<script>\n",
      "var focusHandlers = [];\n",
      "var linkHighlighter = new LinkHighlighter();\n",
      "focusHandlers.push(googBind(linkHighlighter.fadeToOriginalColor, linkHighlighter));\n",
      "var lostFocusHandlers = [];\n",
      "lostFocusHandlers.push(googBind(linkHighlighter.clickedAway, linkHighlighter));\n",
      "\n",
      "var didYouApplyPrompt = new DidYouApplyPrompt('19unsnff9511m9rt',\n",
      "60, 'serp', false);\n",
      "focusHandlers.push(googBind(didYouApplyPrompt.returnedToPage, didYouApplyPrompt));\n",
      "lostFocusHandlers.push(googBind(didYouApplyPrompt.leftPage, didYouApplyPrompt));\n",
      "didYouApplyPrompt.dyaChangeFromCookie();\n",
      "\n",
      "var clickTime = new ClickTime(window.tk, 'serp', 'jobtitle', focusHandlers, lostFocusHandlers);\n",
      "</script>\n",
      "<style type=\"text/css\">\n",
      "#secondary_nav a,#secondary_nav a:link,#secondary_nav a:visited{color:#77c;text-decoration:none}#secondary_nav a:hover{text-decoration:underline}</style>\n",
      "<!-- jobs -->\n",
      "<div id=\"footerWrapper\" style=\"text-align:center;\">\n",
      "<div id=\"footer\" style=\"text-align:left;\">\n",
      "<div class=\"separator_bottom\"></div>\n",
      "<div id=\"secondary_nav\">\n",
      "<div style=\"margin: 1em;\"><span class=\"gaj_heading\">Indeed helps people get jobs:</span> <a class=\"sl\" href=\"/promo/gotajob\" onmousedown=\"this.href = appendParamsOnce( this.href, '?trk.origin=jobsearch&amp;trk.tk=19unsnff9511m9rt')\">Over 2.8 million stories shared</a></div><a href=\"/\" id=\"jobs_product_link\" title=\"Jobs\">Jobs</a> - <a href=\"/salary\" id=\"salaries_product_link\" title=\"Salary Search\">Salaries</a> - <a href=\"/jobtrends\" id=\"trends_product_link\" title=\"Career Trends\">Trends</a> - <a href=\"/forum\" id=\"forums_product_link\" title=\"Employment Forums\">Forums</a> - <script type=\"text/javascript\">\n",
      "document.getElementById('salaries_product_link').onclick = function() { if ( !document.js ) { return; } var q = document.js.q.value; var l = document.js.l.value; if ( q || l ) { window.location = '/salary?q1=' + urlencode( q ) + '&l1=' + urlencode( l ); return false; } };document.getElementById('trends_product_link').onclick = function() { if ( !document.js ) { return; } var q = document.js.q.value; if ( q ) { window.location = '/jobtrends?q=' + urlencode( q ) + '&l=' + urlencode( document.js.l.value ); return false; } };document.getElementById('forums_product_link').onclick = function() { if ( !document.js ) { return; } var q = document.js.q.value; if ( q ) { window.location = '/forum/?q=' + urlencode( q ) + '&l=' + urlencode( document.js.l.value ); return false; } };</script>\n",
      "<a href=\"/find-jobs.jsp\">Browse Jobs</a> - <a href=\"/tools/jobseeker/\">Tools</a> - <a href=\"/publisher\">API</a> - <a href=\"/intl/en/about.html\"><nobr>About</nobr></a> - <a href=\"https://indeed.zendesk.com/hc/en-us\">Help Center</a>\n",
      "<style type=\"text/css\">\n",
      "#footer-legal {\n",
      "margin-top: 10px;\n",
      "font-size: 9pt;\n",
      "}\n",
      "</style>\n",
      "<div id=\"footer-legal\">©2015 Indeed - <a class=\"sl\" href=\"/legal\">Cookies, Privacy and Terms</a></div>\n",
      "</div>\n",
      "</div>\n",
      "</div>\n",
      "</td></tr></table>\n",
      "<script type=\"text/javascript\">\n",
      "        var ebRand = Math.random()+'';\n",
      "        ebRand = ebRand * 1000000;\n",
      "\n",
      "        document.write('<scr'+'ipt src=\"HTTP://bs.serving-sys.com/Serving/ActivityServer.bs?cn=as&ActivityID=' + '526931' + '&rnd=' + ebRand +  '\"></scr' + 'ipt>');\n",
      "    </script>\n",
      "<noscript>\n",
      "<img height=\"1\" src=\"HTTP://bs.serving-sys.com/Serving/ActivityServer.bs?cn=as&amp;ActivityID=526931&amp;ns=1\" style=\"border:0\" width=\"1\"/>\n",
      "</noscript>\n",
      "<script type=\"text/javascript\">\n",
      "        function mc_cv_tag(activityId) {\n",
      "            var ebRand = Math.random()+'';\n",
      "            ebRand = ebRand * 1000000;\n",
      "\n",
      "            var tagContainer = document.body.appendChild(document.createElement(\"div\"));\n",
      "            tagContainer.style.position=\"absolute\";\n",
      "            tagContainer.style.top=\"0\";\n",
      "            tagContainer.style.left=\"0\";\n",
      "            tagContainer.style.width=\"1px\";\n",
      "            tagContainer.style.height=\"1px\";\n",
      "            tagContainer.style.display=\"none\";\n",
      "\n",
      "            var jsTag = document.createElement('script');\n",
      "            jsTag.src = 'HTTP://bs.serving-sys.com/Serving/ActivityServer.bs?cn=as&ActivityID=' + activityId + '&rnd=' + ebRand;\n",
      "            jsTag.style.width=\"1px\";\n",
      "            jsTag.style.height=\"1px\";\n",
      "            jsTag.style.border=\"0\";\n",
      "\n",
      "            var noScript = document.createElement(\"noscript\");\n",
      "            var noScriptText = '<img width=\"1\" height=\"1\" style=\"border:0\" src=\"HTTP://bs.serving-sys.com/Serving/ActivityServer.bs?cn=as&ActivityID=' + activityId + '&ns=1\"/>';\n",
      "\n",
      "            // IE less than 9 and RCs do not support innerHTML on some DOM elements, but supports .text for it\n",
      "            if (((typeof noScript.canHaveHTML) === \"boolean\") && (noScript.canHaveHTML === false)) { // canHaveHTML only exists for IE\n",
      "                noScript.text = noScriptText;\n",
      "            } else {\n",
      "                noScript.innerHTML = noScriptText;\n",
      "            }\n",
      "\n",
      "            tagContainer.appendChild(jsTag);\n",
      "            tagContainer.appendChild(noScript);\n",
      "        }\n",
      "    </script>\n",
      "<script type=\"text/javascript\">\n",
      "<!--\n",
      "(function ( tk ) { if ( tk && document.images ) { var s=\"/\", q=\"?\", a=\"&\", e=\"=\"; rpc(s+\"rpc\"+s+\"log\"+q+\"a\"+e+\"jsv\"+a+\"tk\"+e+tk); } })('19unsnff9511m9rt');\n",
      "function jsall_loaded() {\n",
      "initProcessLeftoverDwellEntries();\n",
      "\n",
      "attachSjBlock('19unsnff9511m9rt');\n",
      "attachJaBlock('19unsnff9511m9rt');\n",
      "}\n",
      "if (window['closureReady'] === true) {\n",
      "jsall_loaded();\n",
      "}\n",
      "//-->\n",
      "</script>\n",
      "<script type=\"text/javascript\">\n",
      "PENDING_ANALYTICS_VARS = window.PENDING_ANALYTICS_VARS || [];\n",
      "PENDING_ANALYTICS_VARS[PENDING_ANALYTICS_VARS.length] = ['_setCustomVar', 5, 'loggedIn', 'false', 3];\n",
      "</script>\n",
      "<script type=\"text/javascript\">\n",
      "        var ga_domains = [];\n",
      "        ga_domains.push('indeed.com.pe');ga_domains.push('indeed.com.br');ga_domains.push('indeed.es');ga_domains.push('indeed.com.ph');ga_domains.push('indeed.com');ga_domains.push('indeed.cl');ga_domains.push('indeed.ie');ga_domains.push('indeed.ch');ga_domains.push('indeed.ae');ga_domains.push('indeed.com.pk');ga_domains.push('indeed.ca');ga_domains.push('indeed.co.ve');ga_domains.push('indeed.co.za');ga_domains.push('indeed.fr');ga_domains.push('indeed.com.sg');ga_domains.push('indeed.pt');ga_domains.push('indeed.com.au');ga_domains.push('indeed.lu');ga_domains.push('indeed.com.co');ga_domains.push('indeed.co.in');ga_domains.push('indeed.com.my');ga_domains.push('indeed.de');ga_domains.push('indeed.com.mx');ga_domains.push('indeed.hk');ga_domains.push('indeed.fi');ga_domains.push('indeed.jp');ga_domains.push('indeed.nl');ga_domains.push('indeed.co.uk');\n",
      "\n",
      "        (function (i, s, o, g, r, a, m) {\n",
      "            i['GoogleAnalyticsObject'] = r;\n",
      "            i[r] = i[r] || function () {\n",
      "                (i[r].q = i[r].q || []).push(arguments)\n",
      "            }, i[r].l = 1 * new Date();\n",
      "            a = s.createElement(o),\n",
      "                    m = s.getElementsByTagName(o)[0];\n",
      "            a.async = 1;\n",
      "            a.src = g;\n",
      "            m.parentNode.insertBefore(a, m)\n",
      "        })(window, document, 'script', '//www.google-analytics.com/analytics.js', 'ga');\n",
      "\n",
      "        var ga = ga || [];\n",
      "        ga('create', 'UA-90780-1', 'auto', {\n",
      "            'allowLinker': true\n",
      "        });\n",
      "        ga('require', 'linkid');\n",
      "        ga('require', 'linker');\n",
      "        ga('linker:autoLink', ga_domains, false, true);\n",
      "        ga('require', 'displayfeatures');\n",
      "        ga('send', 'pageview');\n",
      "\n",
      "        \n",
      "        (function () {\n",
      "            if (window.PENDING_ANALYTICS_VARS && window.PENDING_ANALYTICS_VARS.length > 0) {\n",
      "                for (var i in PENDING_ANALYTICS_VARS) {\n",
      "                    ga('set', PENDING_ANALYTICS_VARS[i][2], PENDING_ANALYTICS_VARS[i][3]);\n",
      "                }\n",
      "            }\n",
      "        })();\n",
      "    </script>\n",
      "<script>\n",
      "var _comscore = _comscore || [];\n",
      "_comscore.push({ c1: \"2\", c2: \"6486505\", c4:\"www.indeed.com/q-data-scientist-jobs.html\", c15:\"19unsnff8511mbpj\"});\n",
      "(function() { var s = document.createElement(\"script\"), el = document.getElementsByTagName(\"script\")[0]; s.async = true; s.src = (document.location.protocol == \"https:\" ? \"https://sb\" : \"http://b\") + \".scorecardresearch.com/beacon.js\"; el.parentNode.insertBefore(s, el); })();\n",
      "</script>\n",
      "<noscript>\n",
      "<img alt=\"\" height=\"0\" src=\"http://b.scorecardresearch.com/p?c1=2&amp;c2=6486505&amp;c4=www.indeed.com%2Fq-data-scientist-jobs.html&amp;c15=19unsnff8511mbpj&amp;cv=2.0&amp;cj=1\" style=\"display:none\" width=\"0\"/>\n",
      "</noscript>\n",
      "<script type=\"text/javascript\">\n",
      "    /* <![CDATA[ */\n",
      "    var google_conversion_id = 1049100955;\n",
      "    var google_conversion_label = \"GXkhCM2YtwMQm4Wg9AM\";\n",
      "    var google_custom_params = window.google_tag_params;\n",
      "    var google_remarketing_only = true;\n",
      "    /* ]]> */\n",
      "</script>\n",
      "<script src=\"//www.googleadservices.com/pagead/conversion.js\" type=\"text/javascript\">\n",
      "</script>\n",
      "<noscript>\n",
      "<div style=\"display:inline;\">\n",
      "<img alt=\"\" height=\"1\" src=\"//googleads.g.doubleclick.net/pagead/viewthroughconversion/1049100955/?value=0&amp;label=GXkhCM2YtwMQm4Wg9AM&amp;guid=ON&amp;script=0\" style=\"border-style:none;\" width=\"1\"/>\n",
      "</div>\n",
      "</noscript>\n",
      "</body>\n",
      "</html>\n",
      "\n"
     ]
    }
   ],
   "source": [
    "# Fixed url for job postings containing data scientist\n",
    "url = 'http://www.indeed.com/jobs?q=data+scientist&l='\n",
    "# read the website\n",
    "source = urllib2.urlopen(url).read()\n",
    "# parse html code\n",
    "bs_tree = bs4.BeautifulSoup(source)\n",
    "print bs_tree"
   ]
  },
  {
   "cell_type": "code",
   "execution_count": 128,
   "metadata": {
    "collapsed": false,
    "slideshow": {
     "slide_type": "slide"
    }
   },
   "outputs": [
    {
     "name": "stdout",
     "output_type": "stream",
     "text": [
      "Search yielded 22,860 hits.\n",
      "[2, 2, 8, 6, 0]\n",
      "22860\n"
     ]
    }
   ],
   "source": [
    "# see how many job postings we found\n",
    "job_count_string = bs_tree.find(id = 'searchCount').contents[0]\n",
    "#get first item, maybe head, of searchCount\n",
    "job_count_string = job_count_string.split()[-1]\n",
    "print(\"Search yielded %s hits.\" % (job_count_string)) #simlar to matlab here, if need to\n",
    "#concatenate string\n",
    "\n",
    "# note that job_count so far is still a string, \n",
    "# not an integer, and the comma in the string of number prevents \n",
    "# us from just casting it to int\n",
    "\n",
    "job_count_digits = [int(d) for d in job_count_string if d.isdigit()]\n",
    "#get all of the separate digits\n",
    "print job_count_digits\n",
    "#figure out each digits position in the array and multiply by the correct power\n",
    "job_count = np.sum([digit*(10**exponent) for digit, exponent in \n",
    "                    zip(job_count_digits[::-1], range(len(job_count_digits)))])\n",
    "\n",
    "print job_count"
   ]
  },
  {
   "cell_type": "code",
   "execution_count": 129,
   "metadata": {
    "collapsed": false,
    "slideshow": {
     "slide_type": "slide"
    }
   },
   "outputs": [
    {
     "name": "stdout",
     "output_type": "stream",
     "text": [
      "2286\n",
      "We found a lot of jobs:  12\n"
     ]
    }
   ],
   "source": [
    "# The website is only listing 10 results per page, \n",
    "# so we need to scrape them page after page\n",
    "num_pages = int(np.ceil(job_count/10.0))\n",
    "#first, figure out how many pages there will be\n",
    "\n",
    "base_url = 'http://www.indeed.com'\n",
    "job_links = []\n",
    "for i in range(1): #do range(num_pages) if you want them all\n",
    "    if i%10==0: #go up a page after each ten hits\n",
    "        print num_pages-i\n",
    "    url = 'http://www.indeed.com/jobs?q=data+scientist&start=' + str(i*10)\n",
    "    #go to each new url and read in the html\n",
    "    html_page = urllib2.urlopen(url).read() \n",
    "    bs_tree = bs4.BeautifulSoup(html_page)\n",
    "    #find the specific info within resultsCol>div\n",
    "    job_link_area = bs_tree.find(id = 'resultsCol')\n",
    "    job_postings = job_link_area.findAll(\"div\")\n",
    "    #ignore Nones and do something fancy with join...\n",
    "    job_postings = [jp for jp in job_postings if not jp.get('class') is None \n",
    "                    and ''.join(jp.get('class')) ==\"rowresult\"]\n",
    "    job_ids = [jp.get('data-jk') for jp in job_postings]\n",
    "    \n",
    "    # go after each link\n",
    "    for id in job_ids:\n",
    "        job_links.append(base_url + '/rc/clk?jk=' + id)\n",
    "\n",
    "    time.sleep(1)\n",
    "\n",
    "print \"We found a lot of jobs: \", len(job_links)"
   ]
  },
  {
   "cell_type": "markdown",
   "metadata": {
    "slideshow": {
     "slide_type": "slide"
    }
   },
   "source": [
    "Some precautions to enable us to restart our search\n",
    "========================="
   ]
  },
  {
   "cell_type": "code",
   "execution_count": 130,
   "metadata": {
    "collapsed": true,
    "slideshow": {
     "slide_type": "-"
    }
   },
   "outputs": [],
   "source": [
    "# Save the scraped links\n",
    "with open('data/scraped_links.pkl', 'wb') as f:\n",
    "    cPickle.dump(job_links, f)\n",
    "\n",
    "#dump is for save, load is for read in\n",
    "    \n",
    "# Read canned scraped links\n",
    "with open('data/scraped_links.pkl', 'r') as f:\n",
    "    job_links = cPickle.load(f)    "
   ]
  },
  {
   "cell_type": "code",
   "execution_count": null,
   "metadata": {
    "collapsed": true,
    "slideshow": {
     "slide_type": "slide"
    }
   },
   "outputs": [],
   "source": [
    "skill_set = {'mapreduce': 0, 'spark': 0}\n",
    "\n",
    "## write initialization into a file, so we can restart later\n",
    "#with open('scraped_links_restart.pkl', 'wb') as f:\n",
    "#    cPickle.dump((skill_set, 0),f)    "
   ]
  },
  {
   "cell_type": "markdown",
   "metadata": {
    "slideshow": {
     "slide_type": "slide"
    }
   },
   "source": [
    "Python Dictonaries\n",
    "==================\n",
    "\n",
    "* build in data type\n",
    "* uses key: value pairs"
   ]
  },
  {
   "cell_type": "code",
   "execution_count": 131,
   "metadata": {
    "collapsed": false,
    "slideshow": {
     "slide_type": "slide"
    }
   },
   "outputs": [
    {
     "name": "stdout",
     "output_type": "stream",
     "text": [
      "{'a': 1, 'b': 2}\n",
      "['a', 'b']\n",
      "[1, 2]\n",
      "a 1\n",
      "b 2\n",
      "a 1\n",
      "b 2\n"
     ]
    }
   ],
   "source": [
    "a = {'a': 1, 'b':2}\n",
    "print a\n",
    "\n",
    "#show keys\n",
    "print a.keys()\n",
    "\n",
    "#show values\n",
    "print a.values()\n",
    "\n",
    "#show for loop over all entries\n",
    "# option 1 using zip\n",
    "# this works also for iterating over any\n",
    "# other two lists\n",
    "for k,v in zip(a.keys(), a.values()):\n",
    "    print k,v\n",
    "    #ZIP MAKES KEY VALUE PAIRS!\n",
    "\n",
    "# option 2 using the dictionary `iteritems()` function\n",
    "for k,v in a.iteritems():\n",
    "    print k,v\n",
    "    #iteritems takes a dictionary thats already defined"
   ]
  },
  {
   "cell_type": "code",
   "execution_count": 132,
   "metadata": {
    "collapsed": false,
    "slideshow": {
     "slide_type": "slide"
    }
   },
   "outputs": [
    {
     "name": "stdout",
     "output_type": "stream",
     "text": [
      "How many websites still to go?  0\n"
     ]
    }
   ],
   "source": [
    "# This code below does the trick, but could be optimized for speed if necessary\n",
    "# e.g. skills are typically listed at the end of the webpage\n",
    "# might not need to split/join the whole webpage, as we already know\n",
    "# which words we are looking for \n",
    "# and could stop after the first occurance of each word\n",
    "\n",
    "with open('data/scraped_links_restart.pkl', 'r') as f:\n",
    "    skill_set, index = cPickle.load(f)\n",
    "    print \"How many websites still to go? \", len(job_links) - index\n",
    "    \n",
    "    "
   ]
  },
  {
   "cell_type": "code",
   "execution_count": 133,
   "metadata": {
    "collapsed": false,
    "slideshow": {
     "slide_type": "slide"
    }
   },
   "outputs": [],
   "source": [
    "counter = 0\n",
    "\n",
    "for link in job_links[index:]:\n",
    "    counter +=1  \n",
    "    \n",
    "    #if we error out on opening the link\n",
    "    try:\n",
    "        html_page = urllib2.urlopen(link).read()\n",
    "    except urllib2.HTTPError:\n",
    "        print \"HTTPError:\"\n",
    "        continue\n",
    "    except urllib2.URLError:\n",
    "        print \"URLError:\"\n",
    "        continue\n",
    "    except socket.error as error:\n",
    "        print \"Connection closed\"\n",
    "        continue\n",
    "\n",
    "    html_text = re.sub(\"[^a-z.+3]\",\" \", html_page.lower()) # replace all but the listed characters\n",
    "    \n",
    "    #basically iterate a counter every time we see one of the key words\n",
    "    for key in skill_set.keys():\n",
    "        if key in html_text:  \n",
    "            skill_set[key] +=1\n",
    "    \n",
    "    #every 5 links, print and save\n",
    "    if counter % 5 == 0:\n",
    "        print len(job_links) - counter - index\n",
    "        print skill_set\n",
    "        with open('scraped_links_restart.pkl','wb') as f:\n",
    "            cPickle.dump((skill_set, index+counter),f)"
   ]
  },
  {
   "cell_type": "code",
   "execution_count": 134,
   "metadata": {
    "collapsed": false,
    "slideshow": {
     "slide_type": "slide"
    }
   },
   "outputs": [
    {
     "name": "stdout",
     "output_type": "stream",
     "text": [
      "{'spark': 31, 'mapreduce': 16}\n"
     ]
    }
   ],
   "source": [
    "print skill_set"
   ]
  },
  {
   "cell_type": "code",
   "execution_count": 135,
   "metadata": {
    "collapsed": false,
    "slideshow": {
     "slide_type": "slide"
    }
   },
   "outputs": [
    {
     "data": {
      "image/png": "[encoded data removed]",
      "text/plain": [
       "<matplotlib.figure.Figure at 0x10e1f2a90>"
      ]
     },
     "metadata": {},
     "output_type": "display_data"
    }
   ],
   "source": [
    "pseries = pd.Series(skill_set) #pd is pandas, make skill_set into a panda series\n",
    "pseries.sort(ascending=False) #so sort in descending? or maybe just in the order its already in\n",
    "\n",
    "pseries.plot(kind = 'bar')\n",
    "## set the title to Score Comparison\n",
    "plt.title('Data Science Skills')\n",
    "## set the x label\n",
    "plt.xlabel('Skills')\n",
    "## set the y label\n",
    "plt.ylabel('Count')\n",
    "## show the plot\n",
    "plt.show()"
   ]
  },
  {
   "cell_type": "markdown",
   "metadata": {
    "slideshow": {
     "slide_type": "slide"
    }
   },
   "source": [
    "Another Example\n",
    "================\n",
    "\n",
    "Designed by Katharine Jarmul\n",
    "----------------------------\n",
    "\n",
    "https://github.com/kjam/python-web-scraping-tutorial\n",
    "\n",
    "\n"
   ]
  },
  {
   "cell_type": "markdown",
   "metadata": {
    "slideshow": {
     "slide_type": "slide"
    }
   },
   "source": [
    "Scraping Happy Hours\n",
    "====================\n",
    "\n",
    "Scrape the happy hour list of LA for personal preferences\n",
    "\n",
    "http://www.downtownla.com/3_10_happyHours.asp?action=ALL\n",
    "\n",
    "This example is part of her talk about data scraping at PyCon2014. She is a really good speaker and I enjoyed watching her talk. Check it out: http://www.youtube.com/watch?v=p1iX0uxM1w8"
   ]
  },
  {
   "cell_type": "code",
   "execution_count": 138,
   "metadata": {
    "collapsed": false,
    "slideshow": {
     "slide_type": "slide"
    }
   },
   "outputs": [],
   "source": [
    "stuff_i_like = ['burger', 'sushi', 'sweet potato fries', 'BBQ','beer']\n",
    "found_happy_hours = []\n",
    "my_happy_hours = []\n",
    "# First, I'm going to identify the areas of the page I want to look at\n",
    "url = 'http://www.downtownla.com/3_10_happyHours.asp?action=ALL'\n",
    "source = urllib2.urlopen(url).read()\n",
    "tables = bs4.BeautifulSoup(source)\n"
   ]
  },
  {
   "cell_type": "code",
   "execution_count": 139,
   "metadata": {
    "collapsed": false,
    "slideshow": {
     "slide_type": "slide"
    }
   },
   "outputs": [
    {
     "name": "stdout",
     "output_type": "stream",
     "text": [
      "The scraper found 73 happy hours!\n"
     ]
    }
   ],
   "source": [
    "# Then, I'm going to sort out the *exact* parts of the page\n",
    "# that match what I'm looking for...\n",
    "for t in tables.findAll('p', {'class': 'calendar_EventTitle'}):\n",
    "    text = t.text #get the text of each calendar event\n",
    "    for s in t.findNextSiblings():\n",
    "        text += '\\n' + s.text #getting allll of it\n",
    "    found_happy_hours.append(text)\n",
    "\n",
    "print \"The scraper found %d happy hours!\" % len(found_happy_hours)"
   ]
  },
  {
   "cell_type": "code",
   "execution_count": 140,
   "metadata": {
    "collapsed": false,
    "slideshow": {
     "slide_type": "slide"
    }
   },
   "outputs": [
    {
     "name": "stdout",
     "output_type": "stream",
     "text": [
      "YAY! I found some burger!\n",
      "YAY! I found some sushi!\n",
      "YAY! I found some sushi!\n",
      "YAY! I found some sushi!\n",
      "YAY! I found some BBQ!\n",
      "YAY! I found some beer!\n",
      "YAY! I found some beer!\n",
      "YAY! I found some beer!\n",
      "YAY! I found some beer!\n",
      "YAY! I found some beer!\n",
      "YAY! I found some beer!\n",
      "YAY! I found some beer!\n",
      "YAY! I found some beer!\n",
      "YAY! I found some beer!\n",
      "YAY! I found some beer!\n",
      "YAY! I found some beer!\n",
      "YAY! I found some beer!\n",
      "YAY! I found some beer!\n",
      "YAY! I found some beer!\n",
      "YAY! I found some beer!\n",
      "YAY! I found some beer!\n",
      "YAY! I found some beer!\n",
      "I think you might like 22 of them, yipeeeee!\n"
     ]
    }
   ],
   "source": [
    "# Now I'm going to loop through the food I like\n",
    "# and see if any of the happy hour descriptions match\n",
    "for food in stuff_i_like:\n",
    "    for hh in found_happy_hours:\n",
    "        # checking for text AND making sure I don't have duplicates\n",
    "        if food in hh and hh not in my_happy_hours:\n",
    "            print \"YAY! I found some %s!\" % food\n",
    "            my_happy_hours.append(hh)\n",
    "\n",
    "print \"I think you might like %d of them, yipeeeee!\" % len(my_happy_hours)"
   ]
  },
  {
   "cell_type": "code",
   "execution_count": 142,
   "metadata": {
    "collapsed": false,
    "slideshow": {
     "slide_type": "slide"
    }
   },
   "outputs": [
    {
     "name": "stdout",
     "output_type": "stream",
     "text": [
      "Hey Katharine,\n",
      "\n",
      "\n",
      "OMG, I found some stuff for you in Downtown, take a look.\n",
      "\n",
      "\n",
      "McCormick & Schmick's \n",
      "\n",
      "\n",
      "                        633 W. 5th St.\n",
      "                        \n",
      "\n",
      "Mon - Fri; 3:00 PM - 10:00 PM\n",
      "\n",
      "\n",
      "                        Under $5 Happy Hour Menu Items, including $2.95 cheeseburger and fries. $3.50 minimum beverage purchase per person. Also offering a FREE shuttle to and from the Staples Center any day there is an event!\n",
      "                        \n",
      "\n",
      "http://www.mccormickandschmicks.com/Locations/southern-california-los-angeles/los-angeles-california/FifthSt.aspx\n",
      "==============================\n",
      "\n",
      "Chaya Downtown \n",
      "\n",
      "\n",
      "                        525 S. Flower St.\n",
      "                        \n",
      "\n",
      "Sun; 5:00 PM - 9:00 PMMon - Fri; 4:00 PM - 10:00 PMSat; 5:00 PM - 10:00 PM\n",
      "\n",
      "\n",
      "                        Signature cocktails, wines, sushi, appetizers and rolls. Every Sunday night: Half-priced wine bottles and a $27 4-course farmer's market Chef menu.\n",
      "                        \n",
      "\n",
      "http://www.thechaya.com/downtown-la/\n",
      "==============================\n",
      "\n",
      "Takami Sushi & Robata Restaurant \n",
      "\n",
      "\n",
      "                        811 Wilshire Blvd., 21st Flr.\n",
      "                        \n",
      "\n",
      "(Wine-ding Down): Mon - Sun; 4:00 PM - 7:00 PM\n",
      "\n",
      "\n",
      "\n",
      "\n",
      "http://www.takamisushi.com/index.html\n",
      "==============================\n",
      "\n",
      "Arashi Sushi \n",
      "\n",
      "\n",
      "                        1111 S. Hope St.\n",
      "                        \n",
      "\n",
      "\n",
      "\n",
      "\n",
      "                        $1 robata-yaki and 1/2 price on selected sushi, rolls, and sake\n",
      "                        \n",
      "\n",
      "http://arashisushi.com\n",
      "==============================\n",
      "\n",
      "Cole's French Dip \n",
      "\n",
      "\n",
      "                        118 E. 6th St.\n",
      "                        \n",
      "\n",
      "Mon - Mon, Wed - Fri; 3:00 PM - 8:00 PM\n",
      "\n",
      "\n",
      "                        $5 French Dip Slider Trio w/ Fries, $5 BBQ Pork Slider Trio w/ Fries, $6 Old Fashioned, $5 Draft Beer, $1 Fries, $1 Tots\n",
      "\n",
      "Happy Hour All Day Tuesday\n",
      "\n",
      "http://213nightlife.com/colesfrenchdip\n",
      "==============================\n",
      "\n",
      "First & Hope American Bistro \n",
      "\n",
      "\n",
      "                        710 W. 1st St.\n",
      "                        \n",
      "\n",
      "Tue - Fri; 5:00 PM - 10:00 PM\n",
      "\n",
      "\n",
      "                        $5 at 5 Social Soiree - $5 draft beer & wine, $7 well drinks, $5 bar bites.\n",
      "                        \n",
      "\n",
      "http://www.firstandhope.com/\n",
      "==============================\n",
      "\n",
      "Big Wangs Sports Bar \n",
      "\n",
      "\n",
      "                        801 S. Grand Ave.\n",
      "                        \n",
      "\n",
      "Mon - Sun; 10:00 PM - 11:59 PMMon - Fri; 3:00 PM - 7:00 PM\n",
      "\n",
      "\n",
      "\n",
      "Mon - Fri: 03:00 PM - 07:00 PM Half off wings and appetizers, $2.50 beer\n",
      "Mon - Fri : 10:00 PM - 11:59 PM Beers starting at $3, $4 House Wine \n",
      "\n",
      "http://bigwangs.com/bar.html\n",
      "==============================\n",
      "\n",
      "City Tavern Downtown Los Angeles \n",
      "\n",
      "\n",
      "                        735 S. Figueroa St., Ste. 133\n",
      "                        \n",
      "\n",
      "Mon - Sun; 3:00 PM - 6:00 PM\n",
      "\n",
      "\n",
      "City Tavern Happy Hour: $10 for 32 oz. of craft beer (served in a milk jug), $5 well cocktails, $6 house cocktails, and our signature refined comfort food\n",
      "\n",
      "\n",
      "http://www.citytaverndtla.com/menus/hoppy-hour/\n",
      "==============================\n",
      "\n",
      "Engine Co. No. 28 \n",
      "\n",
      "\n",
      "                        644 S. Figueroa St.\n",
      "                        \n",
      "\n",
      "Mon - Sun; 3:00 PM - 6:00 PMMon - Sun; 9:00 PM - 11:59 PM\n",
      "\n",
      "\n",
      "                        $5 menu of food, beer, wine, well drinks.\n",
      "                        \n",
      "\n",
      "http://www.engineco.com/\n",
      "==============================\n",
      "\n",
      "Golden Gopher \n",
      "\n",
      "\n",
      "                        417 W. 8th St.\n",
      "                        \n",
      "\n",
      "Tue - Sat; 5:00 PM - 8:00 PM\n",
      "\n",
      "\n",
      "                        $5 well drinks, $4 draft beers, $7 specialty drinks, Pizza+Beer+Shot deals $7 - $13\n",
      "                        \n",
      "\n",
      "http://213nightlife.com/goldengopher\n",
      "==============================\n",
      "\n",
      "Local Table \n",
      "\n",
      "\n",
      "                        800 S. Figueroa St.\n",
      "                        \n",
      "\n",
      "Mon - Thu, Sat; 4:00 PM - 7:00 PM\n",
      "\n",
      "\n",
      "                        $4 cocktails, beer, wine, sangria, specialty cocktails\n",
      "\n",
      "Special bar menu\n",
      "\n",
      "http://www.localtable-la.com\n",
      "==============================\n",
      "\n",
      "Noe Restaurant & Bar \n",
      "\n",
      "\n",
      "                        251 S. Olive St.\n",
      "                        \n",
      "\n",
      "Mon - Fri; 4:00 PM - 7:00 PM\n",
      "\n",
      "\n",
      "                        $5 wells and house wines / $3 domestic beers / $2 sliders\n",
      "                        \n",
      "\n",
      "http://www.noerestaurant.com/losangeles/default.html\n",
      "==============================\n",
      "\n",
      "Suede Bar & Lounge \n",
      "\n",
      "\n",
      "                        404 S. Figueroa St.\n",
      "                        \n",
      "\n",
      "($4 Stress-Free Happy Hour): Mon - Fri; 4:00 PM - 8:00 PM\n",
      "\n",
      "\n",
      "\n",
      "$4 Wells, House Wines, house beers and Most Appetizers. Relax in comfort, watch your favorite sporting event or enjoy your favorite cigar from our humidor in our outdoor patio. \n",
      " \n",
      "\n",
      "http://suedebarla.com/\n",
      "==============================\n",
      "\n",
      "Tony's Saloon \n",
      "\n",
      "\n",
      "                        2017 E. 7th St.\n",
      "                        \n",
      "\n",
      "Mon - Sun; 5:00 PM - 7:00 PM\n",
      "\n",
      "\n",
      "                        $5 well cocktails, $4 draft beers, $7 specialty cocktails\n",
      "Pizza+Beer+Shot deals $7 - $13\n",
      "\n",
      "\n",
      "http://213nightlife.com/tonyssaloon\n",
      "==============================\n",
      "\n",
      "Ebanos Crossing \n",
      "\n",
      "\n",
      "                        200 S. Hill St\n",
      "                        \n",
      "\n",
      "Crossing Hour: Tue - Fri; 5:00 PM - 8:00 PM\n",
      "\n",
      "\n",
      "\n",
      "40% off our specialty craft cocktail menu; draft beer & wine $4-$640% off  our appetizer menu, with such bites a Jerk Wings in a rum reduction sauce & Chili con Queso\n",
      "\n",
      "\n",
      "\n",
      "\n",
      "http://www.ebanoscrossing.com\n",
      "==============================\n",
      "\n",
      "Philippe the Original \n",
      "\n",
      "\n",
      "                        1001 N. Alameda St.\n",
      "                        \n",
      "\n",
      "Mon - Fri; 3:00 PM - 7:00 PM\n",
      "\n",
      "\n",
      "                        $1 off draft beer (16 oz size) and wine by the glass\n",
      "                        \n",
      "\n",
      "http://www.philippes.com/\n",
      "==============================\n",
      "\n",
      "Mrs. Fish \n",
      "\n",
      "\n",
      "                        448 S Hill Street Basement\n",
      "                        \n",
      "\n",
      "Cavi-Hour: Wed - Fri; 5:00 PM - 7:00 PM\n",
      "\n",
      "\n",
      "                        Specials on caviar, small bites, specialty cocktails, beer and wine!  Free, live music every night.\n",
      "                        \n",
      "\n",
      "http://www.mrsfish.com\n",
      "==============================\n",
      "\n",
      "Peking Tavern \n",
      "\n",
      "\n",
      "                        806 S Spring St\n",
      "                        \n",
      "\n",
      "Mon - Fri; 5:00 PM - 7:00 PM\n",
      "\n",
      "\n",
      "\n",
      "Join us after work for $4 beers, $5 wines, $6 cocktails, and $5 food items including Fri Chicken, Tomato and Egg Noodles, and more! Selections change periodically.\n",
      "\n",
      "Also enjoy Wine Wednesdays where all wines are $5 per glass or 50% off per bottle!\n",
      "\n",
      "http://www.pekingtavern.com\n",
      "==============================\n",
      "\n",
      "Spring Street Bar \n",
      "\n",
      "\n",
      "                        626 S. Spring St.\n",
      "                        \n",
      "\n",
      "Mon - Sun; 5:00 PM - 8:00 PM\n",
      "\n",
      "\n",
      "                        $4 beer specials, $5 well drinks, $6 house wine\n",
      "                        \n",
      "\n",
      "http://springstla.com/\n",
      "==============================\n",
      "\n",
      "Justice Urban Tavern \n",
      "\n",
      "\n",
      "                        120 S. Los Angeles St.\n",
      "                        \n",
      "\n",
      "Join us for Happy Hour: Mon - Fri; 3:00 PM - 6:00 PM\n",
      "\n",
      "\n",
      "                        $4-$5 beers and daily food specials including signature house smoked wings, fried calamari and mushroom flatbreads.\n",
      "                        \n",
      "\n",
      "http://www.justicela.com/images/menus/social-hour-menu.pdf\n",
      "==============================\n",
      "\n",
      "Lazy Ox Canteen \n",
      "\n",
      "\n",
      "                        241 S. San Pedro St.\n",
      "                        \n",
      "\n",
      "Mon - Fri, Sun; 5:00 PM - 7:00 PM\n",
      "\n",
      "\n",
      "                        Half off all beers on draught, sangria, red and white wine, and half off selected dishes such as our to-die-for pig ear chicharrones, shrimp fritters, and polenta.\n",
      "                        \n",
      "\n",
      "http://www.lazyoxcanteen.com/menus/dinner-2/\n",
      "==============================\n",
      "\n",
      "BottleRock \n",
      "\n",
      "\n",
      "                        1050 S. Flower St.\n",
      "                        \n",
      "\n",
      "Mon - Fri; 4:30 PM - 7:00 PM\n",
      "\n",
      "\n",
      "\n",
      "Sample plates ranging from $5-$10 and beers on tap and wine from $4-$6\n",
      "\n",
      "http://bottlerockla.com\n",
      "\n",
      "\n",
      "XOXO,\n",
      " Your Py Script\n"
     ]
    }
   ],
   "source": [
    "# Now, let's make a mail message we can read:\n",
    "message = 'Hey Katharine,\\n\\n\\n'\n",
    "message += 'OMG, I found some stuff for you in Downtown, take a look.\\n\\n'\n",
    "message += '==============================\\n'.join(my_happy_hours)\n",
    "message = message.encode('utf-8')\n",
    "# To read more about encoding:\n",
    "# http://diveintopython.org/xml_processing/unicode.html\n",
    "message = message.replace('\\t', '').replace('\\r', '') #make it readable\n",
    "message += '\\n\\nXOXO,\\n Your Py Script'\n",
    "\n",
    "print message"
   ]
  },
  {
   "cell_type": "markdown",
   "metadata": {
    "slideshow": {
     "slide_type": "slide"
    }
   },
   "source": [
    "Getting Data with an API\n",
    "=========================\n",
    "\n",
    "* API: application programming interface\n",
    "* some sites try to make your life easier\n",
    "* Twitter, New York Times, ImDB, rotten Tomatoes, Yelp, ..."
   ]
  },
  {
   "cell_type": "markdown",
   "metadata": {
    "slideshow": {
     "slide_type": "slide"
    }
   },
   "source": [
    "Rotten Tomatoes\n",
    "===============\n",
    "\n",
    "![The Wizard of Oz](images/wiz_oz.png \"The wizard of Oz\")\n",
    "\n",
    "http://www.rottentomatoes.com/top/\n"
   ]
  },
  {
   "cell_type": "markdown",
   "metadata": {
    "slideshow": {
     "slide_type": "slide"
    }
   },
   "source": [
    "API keys\n",
    "=========\n",
    "\n",
    "* required for data access\n",
    "* identifies application (you)\n",
    "* monitors usage\n",
    "* limits rates"
   ]
  },
  {
   "cell_type": "markdown",
   "metadata": {
    "slideshow": {
     "slide_type": "slide"
    }
   },
   "source": [
    "Rotten Tomatoes Key\n",
    "===================\n",
    "\n",
    "http://developer.rottentomatoes.com/member/register"
   ]
  },
  {
   "cell_type": "code",
   "execution_count": 145,
   "metadata": {
    "collapsed": false
   },
   "outputs": [
    {
     "ename": "HTTPError",
     "evalue": "HTTP Error 403: Forbidden",
     "output_type": "error",
     "traceback": [
      "\u001b[0;31m---------------------------------------------------------------------------\u001b[0m",
      "\u001b[0;31mHTTPError\u001b[0m                                 Traceback (most recent call last)",
      "\u001b[0;32m<ipython-input-145-8149e8a7b14f>\u001b[0m in \u001b[0;36m<module>\u001b[0;34m()\u001b[0m\n\u001b[1;32m      5\u001b[0m \u001b[0;34m\u001b[0m\u001b[0m\n\u001b[1;32m      6\u001b[0m \u001b[0murl\u001b[0m \u001b[0;34m=\u001b[0m \u001b[0;34m'http://api.rottentomatoes.com/api/public/v1.0/lists/dvds/top_rentals.json?apikey='\u001b[0m \u001b[0;34m+\u001b[0m \u001b[0mapi_key\u001b[0m\u001b[0;34m\u001b[0m\u001b[0m\n\u001b[0;32m----> 7\u001b[0;31m \u001b[0mdata\u001b[0m \u001b[0;34m=\u001b[0m \u001b[0murllib2\u001b[0m\u001b[0;34m.\u001b[0m\u001b[0murlopen\u001b[0m\u001b[0;34m(\u001b[0m\u001b[0murl\u001b[0m\u001b[0;34m)\u001b[0m\u001b[0;34m.\u001b[0m\u001b[0mread\u001b[0m\u001b[0;34m(\u001b[0m\u001b[0;34m)\u001b[0m\u001b[0;34m\u001b[0m\u001b[0m\n\u001b[0m\u001b[1;32m      8\u001b[0m \u001b[0;31m#print data\u001b[0m\u001b[0;34m\u001b[0m\u001b[0;34m\u001b[0m\u001b[0m\n",
      "\u001b[0;32m/Users/morganhenry/anaconda/lib/python2.7/urllib2.pyc\u001b[0m in \u001b[0;36murlopen\u001b[0;34m(url, data, timeout, cafile, capath, cadefault, context)\u001b[0m\n\u001b[1;32m    152\u001b[0m     \u001b[0;32melse\u001b[0m\u001b[0;34m:\u001b[0m\u001b[0;34m\u001b[0m\u001b[0m\n\u001b[1;32m    153\u001b[0m         \u001b[0mopener\u001b[0m \u001b[0;34m=\u001b[0m \u001b[0m_opener\u001b[0m\u001b[0;34m\u001b[0m\u001b[0m\n\u001b[0;32m--> 154\u001b[0;31m     \u001b[0;32mreturn\u001b[0m \u001b[0mopener\u001b[0m\u001b[0;34m.\u001b[0m\u001b[0mopen\u001b[0m\u001b[0;34m(\u001b[0m\u001b[0murl\u001b[0m\u001b[0;34m,\u001b[0m \u001b[0mdata\u001b[0m\u001b[0;34m,\u001b[0m \u001b[0mtimeout\u001b[0m\u001b[0;34m)\u001b[0m\u001b[0;34m\u001b[0m\u001b[0m\n\u001b[0m\u001b[1;32m    155\u001b[0m \u001b[0;34m\u001b[0m\u001b[0m\n\u001b[1;32m    156\u001b[0m \u001b[0;32mdef\u001b[0m \u001b[0minstall_opener\u001b[0m\u001b[0;34m(\u001b[0m\u001b[0mopener\u001b[0m\u001b[0;34m)\u001b[0m\u001b[0;34m:\u001b[0m\u001b[0;34m\u001b[0m\u001b[0m\n",
      "\u001b[0;32m/Users/morganhenry/anaconda/lib/python2.7/urllib2.pyc\u001b[0m in \u001b[0;36mopen\u001b[0;34m(self, fullurl, data, timeout)\u001b[0m\n\u001b[1;32m    435\u001b[0m         \u001b[0;32mfor\u001b[0m \u001b[0mprocessor\u001b[0m \u001b[0;32min\u001b[0m \u001b[0mself\u001b[0m\u001b[0;34m.\u001b[0m\u001b[0mprocess_response\u001b[0m\u001b[0;34m.\u001b[0m\u001b[0mget\u001b[0m\u001b[0;34m(\u001b[0m\u001b[0mprotocol\u001b[0m\u001b[0;34m,\u001b[0m \u001b[0;34m[\u001b[0m\u001b[0;34m]\u001b[0m\u001b[0;34m)\u001b[0m\u001b[0;34m:\u001b[0m\u001b[0;34m\u001b[0m\u001b[0m\n\u001b[1;32m    436\u001b[0m             \u001b[0mmeth\u001b[0m \u001b[0;34m=\u001b[0m \u001b[0mgetattr\u001b[0m\u001b[0;34m(\u001b[0m\u001b[0mprocessor\u001b[0m\u001b[0;34m,\u001b[0m \u001b[0mmeth_name\u001b[0m\u001b[0;34m)\u001b[0m\u001b[0;34m\u001b[0m\u001b[0m\n\u001b[0;32m--> 437\u001b[0;31m             \u001b[0mresponse\u001b[0m \u001b[0;34m=\u001b[0m \u001b[0mmeth\u001b[0m\u001b[0;34m(\u001b[0m\u001b[0mreq\u001b[0m\u001b[0;34m,\u001b[0m \u001b[0mresponse\u001b[0m\u001b[0;34m)\u001b[0m\u001b[0;34m\u001b[0m\u001b[0m\n\u001b[0m\u001b[1;32m    438\u001b[0m \u001b[0;34m\u001b[0m\u001b[0m\n\u001b[1;32m    439\u001b[0m         \u001b[0;32mreturn\u001b[0m \u001b[0mresponse\u001b[0m\u001b[0;34m\u001b[0m\u001b[0m\n",
      "\u001b[0;32m/Users/morganhenry/anaconda/lib/python2.7/urllib2.pyc\u001b[0m in \u001b[0;36mhttp_response\u001b[0;34m(self, request, response)\u001b[0m\n\u001b[1;32m    548\u001b[0m         \u001b[0;32mif\u001b[0m \u001b[0;32mnot\u001b[0m \u001b[0;34m(\u001b[0m\u001b[0;36m200\u001b[0m \u001b[0;34m<=\u001b[0m \u001b[0mcode\u001b[0m \u001b[0;34m<\u001b[0m \u001b[0;36m300\u001b[0m\u001b[0;34m)\u001b[0m\u001b[0;34m:\u001b[0m\u001b[0;34m\u001b[0m\u001b[0m\n\u001b[1;32m    549\u001b[0m             response = self.parent.error(\n\u001b[0;32m--> 550\u001b[0;31m                 'http', request, response, code, msg, hdrs)\n\u001b[0m\u001b[1;32m    551\u001b[0m \u001b[0;34m\u001b[0m\u001b[0m\n\u001b[1;32m    552\u001b[0m         \u001b[0;32mreturn\u001b[0m \u001b[0mresponse\u001b[0m\u001b[0;34m\u001b[0m\u001b[0m\n",
      "\u001b[0;32m/Users/morganhenry/anaconda/lib/python2.7/urllib2.pyc\u001b[0m in \u001b[0;36merror\u001b[0;34m(self, proto, *args)\u001b[0m\n\u001b[1;32m    473\u001b[0m         \u001b[0;32mif\u001b[0m \u001b[0mhttp_err\u001b[0m\u001b[0;34m:\u001b[0m\u001b[0;34m\u001b[0m\u001b[0m\n\u001b[1;32m    474\u001b[0m             \u001b[0margs\u001b[0m \u001b[0;34m=\u001b[0m \u001b[0;34m(\u001b[0m\u001b[0mdict\u001b[0m\u001b[0;34m,\u001b[0m \u001b[0;34m'default'\u001b[0m\u001b[0;34m,\u001b[0m \u001b[0;34m'http_error_default'\u001b[0m\u001b[0;34m)\u001b[0m \u001b[0;34m+\u001b[0m \u001b[0morig_args\u001b[0m\u001b[0;34m\u001b[0m\u001b[0m\n\u001b[0;32m--> 475\u001b[0;31m             \u001b[0;32mreturn\u001b[0m \u001b[0mself\u001b[0m\u001b[0;34m.\u001b[0m\u001b[0m_call_chain\u001b[0m\u001b[0;34m(\u001b[0m\u001b[0;34m*\u001b[0m\u001b[0margs\u001b[0m\u001b[0;34m)\u001b[0m\u001b[0;34m\u001b[0m\u001b[0m\n\u001b[0m\u001b[1;32m    476\u001b[0m \u001b[0;34m\u001b[0m\u001b[0m\n\u001b[1;32m    477\u001b[0m \u001b[0;31m# XXX probably also want an abstract factory that knows when it makes\u001b[0m\u001b[0;34m\u001b[0m\u001b[0;34m\u001b[0m\u001b[0m\n",
      "\u001b[0;32m/Users/morganhenry/anaconda/lib/python2.7/urllib2.pyc\u001b[0m in \u001b[0;36m_call_chain\u001b[0;34m(self, chain, kind, meth_name, *args)\u001b[0m\n\u001b[1;32m    407\u001b[0m             \u001b[0mfunc\u001b[0m \u001b[0;34m=\u001b[0m \u001b[0mgetattr\u001b[0m\u001b[0;34m(\u001b[0m\u001b[0mhandler\u001b[0m\u001b[0;34m,\u001b[0m \u001b[0mmeth_name\u001b[0m\u001b[0;34m)\u001b[0m\u001b[0;34m\u001b[0m\u001b[0m\n\u001b[1;32m    408\u001b[0m \u001b[0;34m\u001b[0m\u001b[0m\n\u001b[0;32m--> 409\u001b[0;31m             \u001b[0mresult\u001b[0m \u001b[0;34m=\u001b[0m \u001b[0mfunc\u001b[0m\u001b[0;34m(\u001b[0m\u001b[0;34m*\u001b[0m\u001b[0margs\u001b[0m\u001b[0;34m)\u001b[0m\u001b[0;34m\u001b[0m\u001b[0m\n\u001b[0m\u001b[1;32m    410\u001b[0m             \u001b[0;32mif\u001b[0m \u001b[0mresult\u001b[0m \u001b[0;32mis\u001b[0m \u001b[0;32mnot\u001b[0m \u001b[0mNone\u001b[0m\u001b[0;34m:\u001b[0m\u001b[0;34m\u001b[0m\u001b[0m\n\u001b[1;32m    411\u001b[0m                 \u001b[0;32mreturn\u001b[0m \u001b[0mresult\u001b[0m\u001b[0;34m\u001b[0m\u001b[0m\n",
      "\u001b[0;32m/Users/morganhenry/anaconda/lib/python2.7/urllib2.pyc\u001b[0m in \u001b[0;36mhttp_error_default\u001b[0;34m(self, req, fp, code, msg, hdrs)\u001b[0m\n\u001b[1;32m    556\u001b[0m \u001b[0;32mclass\u001b[0m \u001b[0mHTTPDefaultErrorHandler\u001b[0m\u001b[0;34m(\u001b[0m\u001b[0mBaseHandler\u001b[0m\u001b[0;34m)\u001b[0m\u001b[0;34m:\u001b[0m\u001b[0;34m\u001b[0m\u001b[0m\n\u001b[1;32m    557\u001b[0m     \u001b[0;32mdef\u001b[0m \u001b[0mhttp_error_default\u001b[0m\u001b[0;34m(\u001b[0m\u001b[0mself\u001b[0m\u001b[0;34m,\u001b[0m \u001b[0mreq\u001b[0m\u001b[0;34m,\u001b[0m \u001b[0mfp\u001b[0m\u001b[0;34m,\u001b[0m \u001b[0mcode\u001b[0m\u001b[0;34m,\u001b[0m \u001b[0mmsg\u001b[0m\u001b[0;34m,\u001b[0m \u001b[0mhdrs\u001b[0m\u001b[0;34m)\u001b[0m\u001b[0;34m:\u001b[0m\u001b[0;34m\u001b[0m\u001b[0m\n\u001b[0;32m--> 558\u001b[0;31m         \u001b[0;32mraise\u001b[0m \u001b[0mHTTPError\u001b[0m\u001b[0;34m(\u001b[0m\u001b[0mreq\u001b[0m\u001b[0;34m.\u001b[0m\u001b[0mget_full_url\u001b[0m\u001b[0;34m(\u001b[0m\u001b[0;34m)\u001b[0m\u001b[0;34m,\u001b[0m \u001b[0mcode\u001b[0m\u001b[0;34m,\u001b[0m \u001b[0mmsg\u001b[0m\u001b[0;34m,\u001b[0m \u001b[0mhdrs\u001b[0m\u001b[0;34m,\u001b[0m \u001b[0mfp\u001b[0m\u001b[0;34m)\u001b[0m\u001b[0;34m\u001b[0m\u001b[0m\n\u001b[0m\u001b[1;32m    559\u001b[0m \u001b[0;34m\u001b[0m\u001b[0m\n\u001b[1;32m    560\u001b[0m \u001b[0;32mclass\u001b[0m \u001b[0mHTTPRedirectHandler\u001b[0m\u001b[0;34m(\u001b[0m\u001b[0mBaseHandler\u001b[0m\u001b[0;34m)\u001b[0m\u001b[0;34m:\u001b[0m\u001b[0;34m\u001b[0m\u001b[0m\n",
      "\u001b[0;31mHTTPError\u001b[0m: HTTP Error 403: Forbidden"
     ]
    }
   ],
   "source": [
    "import json\n",
    "import requests\n",
    "\n",
    "api_key = 'x7mqg8s4fxe57pw7vrr3q3nd'\n",
    "\n",
    "url = 'http://api.rottentomatoes.com/api/public/v1.0/lists/dvds/top_rentals.json?apikey=' + api_key\n",
    "data = urllib2.urlopen(url).read()\n",
    "#print data"
   ]
  },
  {
   "cell_type": "markdown",
   "metadata": {
    "slideshow": {
     "slide_type": "slide"
    }
   },
   "source": [
    "JSON\n",
    "======\n",
    "\n",
    "* JavaScript Object Notation\n",
    "* human readable\n",
    "* transmit attribute-value pairs"
   ]
  },
  {
   "cell_type": "code",
   "execution_count": 146,
   "metadata": {
    "collapsed": false,
    "slideshow": {
     "slide_type": "slide"
    }
   },
   "outputs": [
    {
     "name": "stdout",
     "output_type": "stream",
     "text": [
      "{'a': 1, 'b': 2}\n",
      "{\"a\": 1, \"b\": 2}\n",
      "{u'a': 1, u'b': 2}\n"
     ]
    }
   ],
   "source": [
    "a = {'a': 1, 'b':2}\n",
    "s = json.dumps(a)\n",
    "a2 = json.loads(s)\n",
    "\n",
    "## a is a dictionary\n",
    "print a\n",
    "## vs s is a string containing a in JSON encoding\n",
    "print s\n",
    "## reading back the keys are now in unicode\n",
    "#note, will have this form {u'a': 1, u'b': 2}\n",
    "print a2"
   ]
  },
  {
   "cell_type": "code",
   "execution_count": null,
   "metadata": {
    "collapsed": false,
    "slideshow": {
     "slide_type": "slide"
    }
   },
   "outputs": [],
   "source": [
    "## create dictionary from JSON \n",
    "dataDict = json.loads(data)\n",
    "\n",
    "## expore dictionary\n",
    "print dataDict.keys()\n",
    "\n",
    "## there is a key named `movies` containing a list of movies as a value\n",
    "movies = dataDict['movies']\n",
    "\n",
    "## each element of the list `movies` is a dictionary\n",
    "print movies[0].keys()\n",
    "\n",
    "## one of the keys is called `ratings`\n",
    "## the value is yet another dictionary\n",
    "print movies[0]['ratings'].keys()\n",
    "\n",
    "## so we made it all the way to find the critics score\n",
    "print movies[0]['ratings']['critics_score']\n"
   ]
  },
  {
   "cell_type": "markdown",
   "metadata": {
    "slideshow": {
     "slide_type": "slide"
    }
   },
   "source": [
    "Quiz\n",
    "=====\n",
    "\n",
    "* build a list with critics scores\n",
    "* build a list with audience scores"
   ]
  },
  {
   "cell_type": "code",
   "execution_count": null,
   "metadata": {
    "collapsed": false,
    "slideshow": {
     "slide_type": "slide"
    }
   },
   "outputs": [],
   "source": [
    "# critics scores list\n",
    "\n",
    "\n",
    "# audience scores list\n"
   ]
  },
  {
   "cell_type": "markdown",
   "metadata": {
    "slideshow": {
     "slide_type": "skip"
    }
   },
   "source": [
    "The following code shows how to create a pandas data frame with the data we gathered from the webpage.\n",
    "Beware of the `set_index()` function in pandas. Per default it does not change the actual data frame! You need to either reassign the output or set the `inplace` argument to `True`."
   ]
  },
  {
   "cell_type": "code",
   "execution_count": null,
   "metadata": {
    "collapsed": false,
    "slideshow": {
     "slide_type": "slide"
    }
   },
   "outputs": [],
   "source": [
    "## create pandas data frame with critics and audience score\n",
    "scores = pd.DataFrame(data=[critics_scores, audience_scores]).transpose()\n",
    "scores.columns = ['critics', 'audience']\n",
    "\n",
    "## also create a list with all movie titles\n",
    "movie_titles = [m['title'] for m in movies]\n",
    "\n",
    "## set index of dataFrame BEWARE of inplace!\n",
    "scores.set_index([movie_titles])\n",
    "\n",
    "## the line above does not changes scores!\n",
    "## You need to either reassign\n",
    "\n",
    "scores = scores.set_index([movie_titles])\n",
    "\n",
    "## or set the inplace argument to True\n",
    "scores.set_index([movie_titles], inplace=True)\n",
    "scores.head(3)"
   ]
  },
  {
   "cell_type": "code",
   "execution_count": null,
   "metadata": {
    "collapsed": false,
    "slideshow": {
     "slide_type": "slide"
    }
   },
   "outputs": [],
   "source": [
    "## create a bar plot with the data\n",
    "## notice that we are using the data frame itself and call its plot function\n",
    "scores.plot(kind = 'bar')\n",
    "\n",
    "## set the title to Score Comparison\n",
    "plt.title('Score Comparison')\n",
    "\n",
    "## set the x label\n",
    "plt.xlabel('Movies')\n",
    "\n",
    "## set the y label\n",
    "plt.ylabel('Scores')"
   ]
  },
  {
   "cell_type": "code",
   "execution_count": null,
   "metadata": {
    "collapsed": false,
    "slideshow": {
     "slide_type": "slide"
    }
   },
   "outputs": [],
   "source": [
    "## show the plot\n",
    "plt.show()"
   ]
  },
  {
   "cell_type": "markdown",
   "metadata": {
    "slideshow": {
     "slide_type": "slide"
    }
   },
   "source": [
    "Twitter Example:\n",
    "================\n",
    "\n",
    "* API a bit more complicated\n",
    "* libraries make life easier\n",
    "* python-twitter\n",
    "\n",
    "https://github.com/bear/python-twitter\n",
    "\n",
    "What we are going to do is scrape Joe's twitter account, and then filter it for the interesting tweets. Defining interesting as tweets that have be re-tweeted at least 10 times. \n"
   ]
  },
  {
   "cell_type": "code",
   "execution_count": null,
   "metadata": {
    "collapsed": false,
    "slideshow": {
     "slide_type": "slide"
    }
   },
   "outputs": [],
   "source": [
    "import twitter\n",
    "\n",
    "## define the necessary keys\n",
    "cKey = twitterAPI_key()\n",
    "cSecret = twitterAPI_secret()\n",
    "aKey = twitterAPI_access_token_key()\n",
    "aSecret = twitterAPI_access_token_secret()\n",
    "\n",
    "## create the api object with the twitter-python library\n",
    "api = twitter.Api(consumer_key=cKey, consumer_secret=cSecret, access_token_key=aKey, access_token_secret=aSecret)\n"
   ]
  },
  {
   "cell_type": "code",
   "execution_count": null,
   "metadata": {
    "collapsed": false,
    "slideshow": {
     "slide_type": "slide"
    }
   },
   "outputs": [],
   "source": [
    "## get the user timeline with screen_name = 'stat110'\n",
    "twitter_statuses = api.GetUserTimeline(screen_name = 'stat110')\n",
    "\n",
    "## create a data frame\n",
    "## first get a list of panda Series or dict\n",
    "pdSeriesList = [pd.Series(t.AsDict()) for t in twitter_statuses]\n",
    "\n",
    "## then create the data frame\n",
    "data = pd.DataFrame(pdSeriesList)\n",
    "\n",
    "data.head(2)"
   ]
  },
  {
   "cell_type": "code",
   "execution_count": null,
   "metadata": {
    "collapsed": false,
    "slideshow": {
     "slide_type": "slide"
    }
   },
   "outputs": [],
   "source": [
    "## filter tweets with enough retweet_count\n",
    "maybe_interesting = data[data.retweet_count>20]\n",
    "\n",
    "## get the text of these tweets\n",
    "tweet_text = maybe_interesting.text\n",
    "\n",
    "## print them out\n",
    "text = tweet_text.values\n",
    "\n",
    "for t in text:\n",
    "    print '######'\n",
    "    print t"
   ]
  },
  {
   "cell_type": "markdown",
   "metadata": {
    "slideshow": {
     "slide_type": "skip"
    }
   },
   "source": [
    "Extracting columns:\n",
    "===================\n",
    "\n",
    "__Warning:__ The returned column `tweet_text` is a `view` on the data\n",
    "    \n",
    "* it is not a copy\n",
    "* you change the Series => you change the DataFrame\n",
    "\n",
    "Below is another example of such a view:"
   ]
  },
  {
   "cell_type": "code",
   "execution_count": null,
   "metadata": {
    "collapsed": false,
    "slideshow": {
     "slide_type": "skip"
    }
   },
   "outputs": [],
   "source": [
    "## create a view for favorite_count on maybe_interesting\n",
    "view = maybe_interesting['favorite_count']\n",
    "print '-----------------'\n",
    "print \"This is view:\"\n",
    "print view\n",
    "## change a value\n",
    "view[8] = 9999\n",
    "\n",
    "## look at original frame\n",
    "print '-----------------'\n",
    "print \"This is view after changing view[8]\"\n",
    "print view\n",
    "\n",
    "print '-----------------'\n",
    "print \"This is maybe_interesting after changing view[8]\"\n",
    "print \"It changed too!\"\n",
    "print maybe_interesting['favorite_count']\n",
    "\n",
    "## to avoid this you can use copy\n",
    "independent_data = maybe_interesting['favorite_count'].copy()\n",
    "independent_data[10] = 999\n",
    "print '-----------------'\n",
    "print \"This is independent_data after changed at 10:\"\n",
    "print independent_data\n",
    "print '-----------------'\n",
    "print \"This is maybe_interesting after changing independent_data:\"\n",
    "print \"It did not change because we only changed a copy of it\"\n",
    "print maybe_interesting['favorite_count']"
   ]
  },
  {
   "cell_type": "markdown",
   "metadata": {
    "collapsed": true,
    "slideshow": {
     "slide_type": "slide"
    }
   },
   "source": [
    "What we covered today:\n",
    "============\n",
    "\n",
    "* Pandas data frames\n",
    "* Guidelines for friendly scraping\n",
    "* Scraping html sites\n",
    "* Scraping with Api's\n",
    "* Basic data cleanup\n"
   ]
  },
  {
   "cell_type": "markdown",
   "metadata": {
    "slideshow": {
     "slide_type": "slide"
    }
   },
   "source": [
    "Further material\n",
    "================\n",
    "\n",
    "* I highly recommend Katharine Jarmul's scraping tutorials\n",
    "* For example [this one](https://www.youtube.com/watch?v=p1iX0uxM1w8)\n",
    "* Pandas has extensive [documentation](http://pandas.pydata.org/pandas-docs/stable/)\n",
    "* Especially the [tem minutes to pandas chapter](http://pandas.pydata.org/pandas-docs/stable/10min.html)\n",
    "\n",
    "* [Greg Reda](http://www.gregreda.com/2013/10/26/using-pandas-on-the-movielens-dataset/) did a lot more pandas examples for the movie lens data set"
   ]
  }
 ],
 "metadata": {
  "celltoolbar": "Slideshow",
  "kernelspec": {
   "display_name": "Python 2",
   "language": "python",
   "name": "python2"
  },
  "language_info": {
   "codemirror_mode": {
    "name": "ipython",
    "version": 2
   },
   "file_extension": ".py",
   "mimetype": "text/x-python",
   "name": "python",
   "nbconvert_exporter": "python",
   "pygments_lexer": "ipython2",
   "version": "2.7.10"
  }
 },
 "nbformat": 4,
 "nbformat_minor": 0
}
